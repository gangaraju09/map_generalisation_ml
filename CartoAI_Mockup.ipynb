{
 "cells": [
  {
   "cell_type": "markdown",
   "id": "8f00c9d4",
   "metadata": {},
   "source": [
    "### Rough Mockup"
   ]
  },
  {
   "cell_type": "code",
   "execution_count": 23,
   "id": "f2516480",
   "metadata": {},
   "outputs": [],
   "source": [
    "import shapely\n",
    "from shapely import Point, LineString, Polygon, MultiPolygon\n",
    "import os\n",
    "import geopandas as gpd\n",
    "import pandas as pd\n",
    "import math"
   ]
  },
  {
   "cell_type": "code",
   "execution_count": 2,
   "id": "8026ed87",
   "metadata": {},
   "outputs": [
    {
     "name": "stdout",
     "output_type": "stream",
     "text": [
      "POLYGON ((1 1, 5 8, 7 20, 2 6, 1 1))\n"
     ]
    }
   ],
   "source": [
    "a = [Point(1,1), Point(5,8), Point(7,20), Point(2,6), Point(1,1)]\n",
    "a = Polygon(a)\n",
    "print(a)"
   ]
  },
  {
   "cell_type": "code",
   "execution_count": 3,
   "id": "c34da15d",
   "metadata": {},
   "outputs": [
    {
     "data": {
      "image/svg+xml": [
       "<svg xmlns=\"http://www.w3.org/2000/svg\" xmlns:xlink=\"http://www.w3.org/1999/xlink\" width=\"100.0\" height=\"100.0\" viewBox=\"0.24 0.24 7.52 20.520000000000003\" preserveAspectRatio=\"xMinYMin meet\"><g transform=\"matrix(1,0,0,-1,0,21.0)\"><path fill-rule=\"evenodd\" fill=\"#66cc99\" stroke=\"#555555\" stroke-width=\"0.41040000000000004\" opacity=\"0.6\" d=\"M 1.0,1.0 L 5.0,8.0 L 7.0,20.0 L 2.0,6.0 L 1.0,1.0 z\" /></g></svg>"
      ],
      "text/plain": [
       "<POLYGON ((1 1, 5 8, 7 20, 2 6, 1 1))>"
      ]
     },
     "execution_count": 3,
     "metadata": {},
     "output_type": "execute_result"
    }
   ],
   "source": [
    "a"
   ]
  },
  {
   "cell_type": "code",
   "execution_count": 4,
   "id": "1f51a4a2",
   "metadata": {},
   "outputs": [],
   "source": [
    "xx,yy = a.exterior.coords.xy\n",
    "coords = a.exterior.coords.xy"
   ]
  },
  {
   "cell_type": "code",
   "execution_count": 5,
   "id": "c9cbe653",
   "metadata": {},
   "outputs": [],
   "source": [
    "x_coords = xx.tolist()\n",
    "y_coords = yy.tolist()"
   ]
  },
  {
   "cell_type": "code",
   "execution_count": 6,
   "id": "fabd3906",
   "metadata": {},
   "outputs": [
    {
     "data": {
      "text/plain": [
       "[1.0, 5.0, 7.0, 2.0, 1.0]"
      ]
     },
     "execution_count": 6,
     "metadata": {},
     "output_type": "execute_result"
    }
   ],
   "source": [
    "x_coords "
   ]
  },
  {
   "cell_type": "code",
   "execution_count": 7,
   "id": "67f8a612",
   "metadata": {},
   "outputs": [
    {
     "data": {
      "text/plain": [
       "[1.0, 8.0, 20.0, 6.0, 1.0]"
      ]
     },
     "execution_count": 7,
     "metadata": {},
     "output_type": "execute_result"
    }
   ],
   "source": [
    "y_coords"
   ]
  },
  {
   "cell_type": "code",
   "execution_count": 8,
   "id": "8404bd92",
   "metadata": {},
   "outputs": [
    {
     "name": "stdout",
     "output_type": "stream",
     "text": [
      "It is a polygon\n"
     ]
    }
   ],
   "source": [
    "for i in range(0, len(x_coords)-1):\n",
    "    coords_start = (x_coords[i], y_coords[i])\n",
    "    coords_end = (x_coords[-1], y_coords[-1])\n",
    "    \n",
    "    if coords_start == coords_end:\n",
    "        print(\"It is a polygon\")"
   ]
  },
  {
   "cell_type": "code",
   "execution_count": 9,
   "id": "24b72423",
   "metadata": {},
   "outputs": [],
   "source": [
    "from shapely import Polygon\n",
    "ob = MultiPolygon([\n",
    "    (\n",
    "    ((0.0, 0.0), (0.0, 1.0), (1.0, 1.0), (1.0, 0.0)),\n",
    "    [((0.1,0.1), (0.1,0.2), (0.2,0.2), (0.2,0.1))]\n",
    "    )\n",
    "])"
   ]
  },
  {
   "cell_type": "code",
   "execution_count": 10,
   "id": "cc28387c",
   "metadata": {},
   "outputs": [
    {
     "data": {
      "image/svg+xml": [
       "<svg xmlns=\"http://www.w3.org/2000/svg\" xmlns:xlink=\"http://www.w3.org/1999/xlink\" width=\"100.0\" height=\"100.0\" viewBox=\"-0.04 -0.04 1.08 1.08\" preserveAspectRatio=\"xMinYMin meet\"><g transform=\"matrix(1,0,0,-1,0,1.0)\"><g><path fill-rule=\"evenodd\" fill=\"#66cc99\" stroke=\"#555555\" stroke-width=\"0.0216\" opacity=\"0.6\" d=\"M 0.0,0.0 L 0.0,1.0 L 1.0,1.0 L 1.0,0.0 L 0.0,0.0 z M 0.1,0.1 L 0.1,0.2 L 0.2,0.2 L 0.2,0.1 L 0.1,0.1 z\" /></g></g></svg>"
      ],
      "text/plain": [
       "<MULTIPOLYGON (((0 0, 0 1, 1 1, 1 0, 0 0), (0.1 0.1, 0.1 0.2, 0.2 0.2, 0.2 0...>"
      ]
     },
     "execution_count": 10,
     "metadata": {},
     "output_type": "execute_result"
    }
   ],
   "source": [
    "ob"
   ]
  },
  {
   "cell_type": "markdown",
   "id": "2af13f63",
   "metadata": {},
   "source": [
    "### Idaho labels (single-polygon case)"
   ]
  },
  {
   "cell_type": "code",
   "execution_count": 43,
   "id": "5be796d5",
   "metadata": {},
   "outputs": [
    {
     "data": {
      "text/html": [
       "<div>\n",
       "<style scoped>\n",
       "    .dataframe tbody tr th:only-of-type {\n",
       "        vertical-align: middle;\n",
       "    }\n",
       "\n",
       "    .dataframe tbody tr th {\n",
       "        vertical-align: top;\n",
       "    }\n",
       "\n",
       "    .dataframe thead th {\n",
       "        text-align: right;\n",
       "    }\n",
       "</style>\n",
       "<table border=\"1\" class=\"dataframe\">\n",
       "  <thead>\n",
       "    <tr style=\"text-align: right;\">\n",
       "      <th></th>\n",
       "      <th>Longitude</th>\n",
       "      <th>Latitude</th>\n",
       "      <th>case</th>\n",
       "    </tr>\n",
       "  </thead>\n",
       "  <tbody>\n",
       "    <tr>\n",
       "      <th>0</th>\n",
       "      <td>-116.049086</td>\n",
       "      <td>49.000846</td>\n",
       "      <td>yes</td>\n",
       "    </tr>\n",
       "    <tr>\n",
       "      <th>1</th>\n",
       "      <td>-116.049087</td>\n",
       "      <td>49.000671</td>\n",
       "      <td>no</td>\n",
       "    </tr>\n",
       "  </tbody>\n",
       "</table>\n",
       "</div>"
      ],
      "text/plain": [
       "    Longitude   Latitude case\n",
       "0 -116.049086  49.000846  yes\n",
       "1 -116.049087  49.000671   no"
      ]
     },
     "execution_count": 43,
     "metadata": {},
     "output_type": "execute_result"
    }
   ],
   "source": [
    "idaho_df = pd.read_csv(r\"Vertices_Labels\\Idaho_vertices_labels.csv\")\n",
    "idaho_df = idaho_df.drop(columns = [\"Unnamed: 0\"])\n",
    "idaho_df.head(2)"
   ]
  },
  {
   "cell_type": "markdown",
   "id": "dcf25f75",
   "metadata": {},
   "source": [
    "### Great Circle distance with a forward point"
   ]
  },
  {
   "cell_type": "code",
   "execution_count": 44,
   "id": "970f93a2",
   "metadata": {},
   "outputs": [],
   "source": [
    "# calculates great circle (length) distance with a forward point\n",
    "def great_circle_dist(phi1,phi2,lam1,lam2):\n",
    "    import math\n",
    "    phi1 = math.radians(phi1) \n",
    "    phi2 = math.radians(phi2)\n",
    "    lam1 = math.radians(lam1)\n",
    "    lam2 = math.radians(lam2)\n",
    "    dl = abs(lam1-lam2) \n",
    "    # distance calculation\n",
    "    d = math.acos((math.sin(phi1)*math.sin(phi2))+(math.cos(phi1)*math.cos(phi2)*math.cos(dl)))\n",
    "    spheric_dist = d*6378.137*1000\n",
    "    # spheric_dist in meters\n",
    "    return spheric_dist"
   ]
  },
  {
   "cell_type": "code",
   "execution_count": 45,
   "id": "ad96ccfd",
   "metadata": {},
   "outputs": [],
   "source": [
    "idaho_df[\"len_forward\"] = 0.0\n",
    "for i in range(len(idaho_df)-1):\n",
    "    # assign data to arguments\n",
    "    phi1 = idaho_df.loc[i, \"Longitude\"] \n",
    "    phi2 = idaho_df.loc[i+1, \"Longitude\"] \n",
    "    lam1 = idaho_df.loc[i, \"Latitude\"]\n",
    "    lam2 = idaho_df.loc[i+1, \"Latitude\"]\n",
    "    # calculate length and append to a list\n",
    "    spheric_dist = great_circle_dist(phi1,phi2,lam1,lam2)\n",
    "    idaho_df.loc[i, \"len_forward\"] = spheric_dist\n",
    "    \n",
    "# Assign NaN to the last row since there is no next row\n",
    "idaho_df.loc[len(idaho_df) - 1, \"len_forward\"] = float('NaN')"
   ]
  },
  {
   "cell_type": "code",
   "execution_count": 46,
   "id": "b9bddce1",
   "metadata": {},
   "outputs": [
    {
     "data": {
      "text/html": [
       "<div>\n",
       "<style scoped>\n",
       "    .dataframe tbody tr th:only-of-type {\n",
       "        vertical-align: middle;\n",
       "    }\n",
       "\n",
       "    .dataframe tbody tr th {\n",
       "        vertical-align: top;\n",
       "    }\n",
       "\n",
       "    .dataframe thead th {\n",
       "        text-align: right;\n",
       "    }\n",
       "</style>\n",
       "<table border=\"1\" class=\"dataframe\">\n",
       "  <thead>\n",
       "    <tr style=\"text-align: right;\">\n",
       "      <th></th>\n",
       "      <th>Longitude</th>\n",
       "      <th>Latitude</th>\n",
       "      <th>case</th>\n",
       "      <th>len_forward</th>\n",
       "    </tr>\n",
       "  </thead>\n",
       "  <tbody>\n",
       "    <tr>\n",
       "      <th>0</th>\n",
       "      <td>-116.049086</td>\n",
       "      <td>49.000846</td>\n",
       "      <td>yes</td>\n",
       "      <td>8.555860</td>\n",
       "    </tr>\n",
       "    <tr>\n",
       "      <th>1</th>\n",
       "      <td>-116.049087</td>\n",
       "      <td>49.000671</td>\n",
       "      <td>no</td>\n",
       "      <td>25.615619</td>\n",
       "    </tr>\n",
       "    <tr>\n",
       "      <th>2</th>\n",
       "      <td>-116.049087</td>\n",
       "      <td>49.000147</td>\n",
       "      <td>no</td>\n",
       "      <td>8.506095</td>\n",
       "    </tr>\n",
       "  </tbody>\n",
       "</table>\n",
       "</div>"
      ],
      "text/plain": [
       "    Longitude   Latitude case  len_forward\n",
       "0 -116.049086  49.000846  yes     8.555860\n",
       "1 -116.049087  49.000671   no    25.615619\n",
       "2 -116.049087  49.000147   no     8.506095"
      ]
     },
     "execution_count": 46,
     "metadata": {},
     "output_type": "execute_result"
    }
   ],
   "source": [
    "idaho_df.head(3)"
   ]
  },
  {
   "cell_type": "code",
   "execution_count": 47,
   "id": "289c804e",
   "metadata": {},
   "outputs": [],
   "source": [
    "idaho_df[\"len_backward\"] = 0.0\n",
    "for i in range(len(idaho_df)-1, 0, -1):\n",
    "    # assign data to arguments\n",
    "    phi1 = idaho_df.loc[i, \"Longitude\"] \n",
    "    phi2 = idaho_df.loc[i-1, \"Longitude\"] \n",
    "    lam1 = idaho_df.loc[i, \"Latitude\"]\n",
    "    lam2 = idaho_df.loc[i-1, \"Latitude\"]\n",
    "    # calculate length and append to a list\n",
    "    spheric_dist = great_circle_dist(phi1,phi2,lam1,lam2)\n",
    "    idaho_df.loc[i, \"len_backward\"] = spheric_dist\n",
    "    \n",
    "# Assign NaN to the last row since there is no next row\n",
    "idaho_df.loc[0, \"len_backward\"] = float('NaN')"
   ]
  },
  {
   "cell_type": "code",
   "execution_count": 48,
   "id": "9ad59a1d",
   "metadata": {},
   "outputs": [
    {
     "data": {
      "text/html": [
       "<div>\n",
       "<style scoped>\n",
       "    .dataframe tbody tr th:only-of-type {\n",
       "        vertical-align: middle;\n",
       "    }\n",
       "\n",
       "    .dataframe tbody tr th {\n",
       "        vertical-align: top;\n",
       "    }\n",
       "\n",
       "    .dataframe thead th {\n",
       "        text-align: right;\n",
       "    }\n",
       "</style>\n",
       "<table border=\"1\" class=\"dataframe\">\n",
       "  <thead>\n",
       "    <tr style=\"text-align: right;\">\n",
       "      <th></th>\n",
       "      <th>Longitude</th>\n",
       "      <th>Latitude</th>\n",
       "      <th>case</th>\n",
       "      <th>len_forward</th>\n",
       "      <th>len_backward</th>\n",
       "    </tr>\n",
       "  </thead>\n",
       "  <tbody>\n",
       "    <tr>\n",
       "      <th>0</th>\n",
       "      <td>-116.049086</td>\n",
       "      <td>49.000846</td>\n",
       "      <td>yes</td>\n",
       "      <td>8.555860</td>\n",
       "      <td>NaN</td>\n",
       "    </tr>\n",
       "    <tr>\n",
       "      <th>1</th>\n",
       "      <td>-116.049087</td>\n",
       "      <td>49.000671</td>\n",
       "      <td>no</td>\n",
       "      <td>25.615619</td>\n",
       "      <td>8.555860</td>\n",
       "    </tr>\n",
       "    <tr>\n",
       "      <th>2</th>\n",
       "      <td>-116.049087</td>\n",
       "      <td>49.000147</td>\n",
       "      <td>no</td>\n",
       "      <td>8.506095</td>\n",
       "      <td>25.615619</td>\n",
       "    </tr>\n",
       "  </tbody>\n",
       "</table>\n",
       "</div>"
      ],
      "text/plain": [
       "    Longitude   Latitude case  len_forward  len_backward\n",
       "0 -116.049086  49.000846  yes     8.555860           NaN\n",
       "1 -116.049087  49.000671   no    25.615619      8.555860\n",
       "2 -116.049087  49.000147   no     8.506095     25.615619"
      ]
     },
     "execution_count": 48,
     "metadata": {},
     "output_type": "execute_result"
    }
   ],
   "source": [
    "idaho_df.head(3)"
   ]
  },
  {
   "cell_type": "code",
   "execution_count": 49,
   "id": "1d3de8f9",
   "metadata": {},
   "outputs": [],
   "source": [
    "# calculates angle formed with a forward point\n",
    "def calculate_angle(x1,x2,x3,y1,y2,y3):\n",
    "    # Calculate the vectors between the points\n",
    "    v1 = (x1 - x2, y1 - y2)\n",
    "    v2 = (x3 - x2, y3 - y2)\n",
    "    \n",
    "    # Calculate the dot product and the magnitudes of the vectors\n",
    "    dot_product = v1[0] * v2[0] + v1[1] * v2[1]\n",
    "    magnitude_v1 = math.sqrt(v1[0]**2 + v1[1]**2)\n",
    "    magnitude_v2 = math.sqrt(v2[0]**2 + v2[1]**2)\n",
    "    \n",
    "    # Calculate the angle in radians\n",
    "    angle_rad = math.acos(dot_product / (magnitude_v1 * magnitude_v2))\n",
    "\n",
    "    # Convert the angle from radians to degrees\n",
    "    angle_deg = math.degrees(angle_rad)\n",
    "    return angle_deg"
   ]
  },
  {
   "cell_type": "code",
   "execution_count": 50,
   "id": "388c4ed8",
   "metadata": {},
   "outputs": [],
   "source": [
    "# Create an empty column 'angle'\n",
    "idaho_df[\"angle\"] = 0.0\n",
    "# Iterate over the rows of the DataFrame\n",
    "for i in range(1, len(idaho_df) - 1):\n",
    "    # Get the coordinates of the three points\n",
    "    x1 = idaho_df.loc[i - 1, \"Longitude\"]\n",
    "    y1 = idaho_df.loc[i - 1, \"Latitude\"]\n",
    "    \n",
    "    x2 = idaho_df.loc[i, \"Longitude\"]\n",
    "    y2 = idaho_df.loc[i, \"Latitude\"]\n",
    "    \n",
    "    x3 = idaho_df.loc[i + 1, \"Longitude\"]\n",
    "    y3 = idaho_df.loc[i + 1, \"Latitude\"]\n",
    "    \n",
    "    # Assign the calculated angle to the 'angle' column of the current row\n",
    "    idaho_df.loc[i, 'angle'] = calculate_angle(x1,x2,x3,y1,y2,y3)"
   ]
  },
  {
   "cell_type": "code",
   "execution_count": 51,
   "id": "278c8db9",
   "metadata": {},
   "outputs": [
    {
     "data": {
      "text/html": [
       "<div>\n",
       "<style scoped>\n",
       "    .dataframe tbody tr th:only-of-type {\n",
       "        vertical-align: middle;\n",
       "    }\n",
       "\n",
       "    .dataframe tbody tr th {\n",
       "        vertical-align: top;\n",
       "    }\n",
       "\n",
       "    .dataframe thead th {\n",
       "        text-align: right;\n",
       "    }\n",
       "</style>\n",
       "<table border=\"1\" class=\"dataframe\">\n",
       "  <thead>\n",
       "    <tr style=\"text-align: right;\">\n",
       "      <th></th>\n",
       "      <th>Longitude</th>\n",
       "      <th>Latitude</th>\n",
       "      <th>case</th>\n",
       "      <th>len_forward</th>\n",
       "      <th>len_backward</th>\n",
       "      <th>angle</th>\n",
       "    </tr>\n",
       "  </thead>\n",
       "  <tbody>\n",
       "    <tr>\n",
       "      <th>0</th>\n",
       "      <td>-116.049086</td>\n",
       "      <td>49.000846</td>\n",
       "      <td>yes</td>\n",
       "      <td>8.555860</td>\n",
       "      <td>NaN</td>\n",
       "      <td>0.000000</td>\n",
       "    </tr>\n",
       "    <tr>\n",
       "      <th>1</th>\n",
       "      <td>-116.049087</td>\n",
       "      <td>49.000671</td>\n",
       "      <td>no</td>\n",
       "      <td>25.615619</td>\n",
       "      <td>8.555860</td>\n",
       "      <td>179.672895</td>\n",
       "    </tr>\n",
       "    <tr>\n",
       "      <th>2</th>\n",
       "      <td>-116.049087</td>\n",
       "      <td>49.000147</td>\n",
       "      <td>no</td>\n",
       "      <td>8.506095</td>\n",
       "      <td>25.615619</td>\n",
       "      <td>179.999908</td>\n",
       "    </tr>\n",
       "  </tbody>\n",
       "</table>\n",
       "</div>"
      ],
      "text/plain": [
       "    Longitude   Latitude case  len_forward  len_backward       angle\n",
       "0 -116.049086  49.000846  yes     8.555860           NaN    0.000000\n",
       "1 -116.049087  49.000671   no    25.615619      8.555860  179.672895\n",
       "2 -116.049087  49.000147   no     8.506095     25.615619  179.999908"
      ]
     },
     "execution_count": 51,
     "metadata": {},
     "output_type": "execute_result"
    }
   ],
   "source": [
    "idaho_df.head(3)"
   ]
  },
  {
   "cell_type": "code",
   "execution_count": 52,
   "id": "136e3412",
   "metadata": {},
   "outputs": [
    {
     "data": {
      "text/plain": [
       "count    35242.000000\n",
       "mean       171.965616\n",
       "std         12.005593\n",
       "min          0.000000\n",
       "25%        168.289774\n",
       "50%        176.835818\n",
       "75%        179.762326\n",
       "max        180.000000\n",
       "Name: angle, dtype: float64"
      ]
     },
     "execution_count": 52,
     "metadata": {},
     "output_type": "execute_result"
    }
   ],
   "source": [
    "idaho_df[\"angle\"].describe()"
   ]
  },
  {
   "cell_type": "code",
   "execution_count": 38,
   "id": "4e570c84",
   "metadata": {},
   "outputs": [
    {
     "data": {
      "text/html": [
       "<div>\n",
       "<style scoped>\n",
       "    .dataframe tbody tr th:only-of-type {\n",
       "        vertical-align: middle;\n",
       "    }\n",
       "\n",
       "    .dataframe tbody tr th {\n",
       "        vertical-align: top;\n",
       "    }\n",
       "\n",
       "    .dataframe thead th {\n",
       "        text-align: right;\n",
       "    }\n",
       "</style>\n",
       "<table border=\"1\" class=\"dataframe\">\n",
       "  <thead>\n",
       "    <tr style=\"text-align: right;\">\n",
       "      <th></th>\n",
       "      <th>Longitude</th>\n",
       "      <th>Latitude</th>\n",
       "      <th>case</th>\n",
       "      <th>len_forward</th>\n",
       "      <th>len_backward</th>\n",
       "      <th>angle</th>\n",
       "    </tr>\n",
       "  </thead>\n",
       "  <tbody>\n",
       "    <tr>\n",
       "      <th>0</th>\n",
       "      <td>-116.049086</td>\n",
       "      <td>49.000846</td>\n",
       "      <td>yes</td>\n",
       "      <td>8.451044</td>\n",
       "      <td>NaN</td>\n",
       "      <td>0.000000</td>\n",
       "    </tr>\n",
       "    <tr>\n",
       "      <th>1</th>\n",
       "      <td>-116.049087</td>\n",
       "      <td>49.000671</td>\n",
       "      <td>no</td>\n",
       "      <td>25.301809</td>\n",
       "      <td>8.451044</td>\n",
       "      <td>179.672895</td>\n",
       "    </tr>\n",
       "  </tbody>\n",
       "</table>\n",
       "</div>"
      ],
      "text/plain": [
       "    Longitude   Latitude case  len_forward  len_backward       angle\n",
       "0 -116.049086  49.000846  yes     8.451044           NaN    0.000000\n",
       "1 -116.049087  49.000671   no    25.301809      8.451044  179.672895"
      ]
     },
     "execution_count": 38,
     "metadata": {},
     "output_type": "execute_result"
    }
   ],
   "source": [
    "idaho_df.fillna(0)\n",
    "idaho_df.head(2)"
   ]
  },
  {
   "cell_type": "code",
   "execution_count": 53,
   "id": "abba2915",
   "metadata": {},
   "outputs": [],
   "source": [
    "def calculate_perpendicular_distance(x1,x2,x3,y1,y2,y3):\n",
    "    # Calculate the line equation y = mx + c\n",
    "    # Calculate the slope of the line\n",
    "    m = (y3 - y1) / (x3 - x1)\n",
    "    \n",
    "    # Calculate the y-intercept of the line\n",
    "    c = y1 - (m * x1)\n",
    "    \n",
    "    # Calculate the perpendicular distance from point i to the line\n",
    "    ppdistance = abs(m * x2 - y2 + c) / math.sqrt(m**2 + 1)\n",
    "    return (ppdistance*6378.137*1000)"
   ]
  },
  {
   "cell_type": "code",
   "execution_count": 54,
   "id": "dd9f7443",
   "metadata": {},
   "outputs": [
    {
     "data": {
      "text/html": [
       "<div>\n",
       "<style scoped>\n",
       "    .dataframe tbody tr th:only-of-type {\n",
       "        vertical-align: middle;\n",
       "    }\n",
       "\n",
       "    .dataframe tbody tr th {\n",
       "        vertical-align: top;\n",
       "    }\n",
       "\n",
       "    .dataframe thead th {\n",
       "        text-align: right;\n",
       "    }\n",
       "</style>\n",
       "<table border=\"1\" class=\"dataframe\">\n",
       "  <thead>\n",
       "    <tr style=\"text-align: right;\">\n",
       "      <th></th>\n",
       "      <th>Longitude</th>\n",
       "      <th>Latitude</th>\n",
       "      <th>case</th>\n",
       "      <th>len_forward</th>\n",
       "      <th>len_backward</th>\n",
       "      <th>angle</th>\n",
       "      <th>offset</th>\n",
       "    </tr>\n",
       "  </thead>\n",
       "  <tbody>\n",
       "    <tr>\n",
       "      <th>0</th>\n",
       "      <td>-116.049086</td>\n",
       "      <td>49.000846</td>\n",
       "      <td>yes</td>\n",
       "      <td>8.555860</td>\n",
       "      <td>NaN</td>\n",
       "      <td>0.000000</td>\n",
       "      <td>0.000000</td>\n",
       "    </tr>\n",
       "    <tr>\n",
       "      <th>1</th>\n",
       "      <td>-116.049087</td>\n",
       "      <td>49.000671</td>\n",
       "      <td>no</td>\n",
       "      <td>25.615619</td>\n",
       "      <td>8.555860</td>\n",
       "      <td>179.672895</td>\n",
       "      <td>4.777023</td>\n",
       "    </tr>\n",
       "    <tr>\n",
       "      <th>2</th>\n",
       "      <td>-116.049087</td>\n",
       "      <td>49.000147</td>\n",
       "      <td>no</td>\n",
       "      <td>8.506095</td>\n",
       "      <td>25.615619</td>\n",
       "      <td>179.999908</td>\n",
       "      <td>0.001334</td>\n",
       "    </tr>\n",
       "  </tbody>\n",
       "</table>\n",
       "</div>"
      ],
      "text/plain": [
       "    Longitude   Latitude case  len_forward  len_backward       angle    offset\n",
       "0 -116.049086  49.000846  yes     8.555860           NaN    0.000000  0.000000\n",
       "1 -116.049087  49.000671   no    25.615619      8.555860  179.672895  4.777023\n",
       "2 -116.049087  49.000147   no     8.506095     25.615619  179.999908  0.001334"
      ]
     },
     "execution_count": 54,
     "metadata": {},
     "output_type": "execute_result"
    }
   ],
   "source": [
    "# Create an empty column 'offset'\n",
    "idaho_df[\"offset\"] = 0.0\n",
    "# Iterate over the rows of the DataFrame\n",
    "for i in range(1, len(idaho_df) - 1):\n",
    "    # Get the coordinates of the three points\n",
    "    x1 = idaho_df.loc[i - 1, \"Longitude\"]\n",
    "    y1 = idaho_df.loc[i - 1, \"Latitude\"]\n",
    "    \n",
    "    x2 = idaho_df.loc[i, \"Longitude\"]\n",
    "    y2 = idaho_df.loc[i, \"Latitude\"]\n",
    "    \n",
    "    x3 = idaho_df.loc[i + 1, \"Longitude\"]\n",
    "    y3 = idaho_df.loc[i + 1, \"Latitude\"]\n",
    "    \n",
    "    # Assign the calculated distance to the 'offset' column of the current row\n",
    "    idaho_df.loc[i, \"offset\"] = calculate_perpendicular_distance(x1,x2,x3,y1,y2,y3)\n",
    "\n",
    "idaho_df.head(3)"
   ]
  },
  {
   "cell_type": "code",
   "execution_count": 56,
   "id": "d00a0186",
   "metadata": {},
   "outputs": [],
   "source": [
    "def calculate_triangluar_area(x1,x2,x3,y1,y2,y3):\n",
    "    # Calculate the area of the triangle using the Shoelace formula\n",
    "    area = 0.5 * abs((x1 * (y2 - y3)) + (x2 * (y3 - y1)) + (x3 * (y1 - y2)))\n",
    "    return (area*6378.137*1000)"
   ]
  },
  {
   "cell_type": "code",
   "execution_count": 63,
   "id": "292136ad",
   "metadata": {},
   "outputs": [],
   "source": [
    "# Create an empty column 'triangular_area'\n",
    "idaho_df[\"triangular_area\"] = 0.0\n",
    "# Iterate over the rows of the DataFrame\n",
    "for i in range(1, len(idaho_df) - 1):\n",
    "    \n",
    "    # Get the coordinates of the three points\n",
    "    x1 = idaho_df.loc[i - 1, \"Longitude\"]\n",
    "    y1 = idaho_df.loc[i - 1, \"Latitude\"]\n",
    "    \n",
    "    x2 = idaho_df.loc[i, \"Longitude\"]\n",
    "    y2 = idaho_df.loc[i, \"Latitude\"]\n",
    "    \n",
    "    x3 = idaho_df.loc[i + 1, \"Longitude\"]\n",
    "    y3 = idaho_df.loc[i + 1, \"Latitude\"]\n",
    "    \n",
    "    # Assign the calculated area to the 'area' column of the current row\n",
    "    idaho_df.loc[i, \"triangular_area\"] = calculate_triangluar_area(x1,x2,x3,y1,y2,y3)"
   ]
  },
  {
   "cell_type": "code",
   "execution_count": 60,
   "id": "6b92d6f7",
   "metadata": {},
   "outputs": [],
   "source": [
    "# calculates angle formed with a forward point\n",
    "def calculate_arc_angle(x1,x2,y1,y2):\n",
    "    import math\n",
    "    x1 = math.radians(x1) \n",
    "    x2 = math.radians(x2)\n",
    "    y1 = math.radians(y1)\n",
    "    y2 = math.radians(y2)\n",
    "    # angle calculation\n",
    "    angle = math.atan2(y2 - y1, x2 - x1) * 180 / math.pi\n",
    "    # angle in degree radians\n",
    "    return angle"
   ]
  },
  {
   "cell_type": "code",
   "execution_count": 64,
   "id": "9958a60c",
   "metadata": {},
   "outputs": [
    {
     "data": {
      "text/html": [
       "<div>\n",
       "<style scoped>\n",
       "    .dataframe tbody tr th:only-of-type {\n",
       "        vertical-align: middle;\n",
       "    }\n",
       "\n",
       "    .dataframe tbody tr th {\n",
       "        vertical-align: top;\n",
       "    }\n",
       "\n",
       "    .dataframe thead th {\n",
       "        text-align: right;\n",
       "    }\n",
       "</style>\n",
       "<table border=\"1\" class=\"dataframe\">\n",
       "  <thead>\n",
       "    <tr style=\"text-align: right;\">\n",
       "      <th></th>\n",
       "      <th>Longitude</th>\n",
       "      <th>Latitude</th>\n",
       "      <th>case</th>\n",
       "      <th>len_forward</th>\n",
       "      <th>len_backward</th>\n",
       "      <th>angle</th>\n",
       "      <th>offset</th>\n",
       "      <th>triangular_area</th>\n",
       "      <th>area</th>\n",
       "      <th>arc_angle</th>\n",
       "    </tr>\n",
       "  </thead>\n",
       "  <tbody>\n",
       "    <tr>\n",
       "      <th>0</th>\n",
       "      <td>-116.049086</td>\n",
       "      <td>49.000846</td>\n",
       "      <td>yes</td>\n",
       "      <td>8.555860</td>\n",
       "      <td>NaN</td>\n",
       "      <td>0.000000</td>\n",
       "      <td>0.000000</td>\n",
       "      <td>0.00000</td>\n",
       "      <td>NaN</td>\n",
       "      <td>-90.327179</td>\n",
       "    </tr>\n",
       "    <tr>\n",
       "      <th>1</th>\n",
       "      <td>-116.049087</td>\n",
       "      <td>49.000671</td>\n",
       "      <td>no</td>\n",
       "      <td>25.615619</td>\n",
       "      <td>8.55586</td>\n",
       "      <td>179.672895</td>\n",
       "      <td>4.777023</td>\n",
       "      <td>0.00167</td>\n",
       "      <td>0.00167</td>\n",
       "      <td>-90.000074</td>\n",
       "    </tr>\n",
       "  </tbody>\n",
       "</table>\n",
       "</div>"
      ],
      "text/plain": [
       "    Longitude   Latitude case  len_forward  len_backward       angle  \\\n",
       "0 -116.049086  49.000846  yes     8.555860           NaN    0.000000   \n",
       "1 -116.049087  49.000671   no    25.615619       8.55586  179.672895   \n",
       "\n",
       "     offset  triangular_area     area  arc_angle  \n",
       "0  0.000000          0.00000      NaN -90.327179  \n",
       "1  4.777023          0.00167  0.00167 -90.000074  "
      ]
     },
     "execution_count": 64,
     "metadata": {},
     "output_type": "execute_result"
    }
   ],
   "source": [
    "idaho_df[\"arc_angle\"] = 0.0\n",
    "for i in range(len(idaho_df)-1):\n",
    "    # assign data to arguments\n",
    "    x1 = idaho_df.loc[i, \"Longitude\"] \n",
    "    x2 = idaho_df.loc[i+1, \"Longitude\"] \n",
    "    y1 = idaho_df.loc[i, \"Latitude\"]\n",
    "    y2 = idaho_df.loc[i+1, \"Latitude\"]\n",
    "    # calculate angle formed\n",
    "    idaho_df.loc[i, \"arc_angle\"] = calculate_arc_angle(x1,x2,y1,y2)\n",
    "    \n",
    "idaho_df.head(2)"
   ]
  },
  {
   "cell_type": "code",
   "execution_count": 72,
   "id": "c78c2bce",
   "metadata": {},
   "outputs": [
    {
     "data": {
      "text/html": [
       "<div>\n",
       "<style scoped>\n",
       "    .dataframe tbody tr th:only-of-type {\n",
       "        vertical-align: middle;\n",
       "    }\n",
       "\n",
       "    .dataframe tbody tr th {\n",
       "        vertical-align: top;\n",
       "    }\n",
       "\n",
       "    .dataframe thead th {\n",
       "        text-align: right;\n",
       "    }\n",
       "</style>\n",
       "<table border=\"1\" class=\"dataframe\">\n",
       "  <thead>\n",
       "    <tr style=\"text-align: right;\">\n",
       "      <th></th>\n",
       "      <th>Longitude</th>\n",
       "      <th>Latitude</th>\n",
       "      <th>case</th>\n",
       "      <th>len_forward</th>\n",
       "      <th>len_backward</th>\n",
       "      <th>angle</th>\n",
       "      <th>offset</th>\n",
       "      <th>triangular_area</th>\n",
       "      <th>area</th>\n",
       "      <th>arc_angle</th>\n",
       "      <th>ratio1</th>\n",
       "      <th>ratio2</th>\n",
       "    </tr>\n",
       "  </thead>\n",
       "  <tbody>\n",
       "    <tr>\n",
       "      <th>0</th>\n",
       "      <td>-116.049086</td>\n",
       "      <td>49.000846</td>\n",
       "      <td>yes</td>\n",
       "      <td>8.555860</td>\n",
       "      <td>NaN</td>\n",
       "      <td>0.000000</td>\n",
       "      <td>0.000000</td>\n",
       "      <td>0.00000</td>\n",
       "      <td>NaN</td>\n",
       "      <td>-90.327179</td>\n",
       "      <td>NaN</td>\n",
       "      <td>-0.000000</td>\n",
       "    </tr>\n",
       "    <tr>\n",
       "      <th>1</th>\n",
       "      <td>-116.049087</td>\n",
       "      <td>49.000671</td>\n",
       "      <td>no</td>\n",
       "      <td>25.615619</td>\n",
       "      <td>8.55586</td>\n",
       "      <td>179.672895</td>\n",
       "      <td>4.777023</td>\n",
       "      <td>0.00167</td>\n",
       "      <td>0.00167</td>\n",
       "      <td>-90.000074</td>\n",
       "      <td>-0.379683</td>\n",
       "      <td>-0.053078</td>\n",
       "    </tr>\n",
       "  </tbody>\n",
       "</table>\n",
       "</div>"
      ],
      "text/plain": [
       "    Longitude   Latitude case  len_forward  len_backward       angle  \\\n",
       "0 -116.049086  49.000846  yes     8.555860           NaN    0.000000   \n",
       "1 -116.049087  49.000671   no    25.615619       8.55586  179.672895   \n",
       "\n",
       "     offset  triangular_area     area  arc_angle    ratio1    ratio2  \n",
       "0  0.000000          0.00000      NaN -90.327179       NaN -0.000000  \n",
       "1  4.777023          0.00167  0.00167 -90.000074 -0.379683 -0.053078  "
      ]
     },
     "execution_count": 72,
     "metadata": {},
     "output_type": "execute_result"
    }
   ],
   "source": [
    "idaho_df[\"ratio1\"] = 0.0\n",
    "\n",
    "for i in range(len(idaho_df)):\n",
    "    if idaho_df.loc[i, \"arc_angle\"] != 0:\n",
    "        idaho_df.loc[i, \"ratio1\"] =  (idaho_df.loc[i, \"len_forward\"] + idaho_df.loc[i, \"len_backward\"])/idaho_df.loc[i, \"arc_angle\"]\n",
    "    else:\n",
    "        idaho_df.loc[i, \"ratio1\"] = 0.0\n",
    "        \n",
    "idaho_df[\"ratio2\"] = 0.0\n",
    "\n",
    "for i in range(len(idaho_df)):\n",
    "    if idaho_df.loc[i, \"arc_angle\"] != 0:\n",
    "        idaho_df.loc[i, \"ratio2\"] = idaho_df.loc[i, \"offset\"]/idaho_df.loc[i, \"arc_angle\"]\n",
    "    else:\n",
    "        idaho_df.loc[i, \"ratio2\"] = 0.0\n",
    "        \n",
    "idaho_df.head(2)"
   ]
  },
  {
   "cell_type": "code",
   "execution_count": 85,
   "id": "f52ccdce",
   "metadata": {},
   "outputs": [],
   "source": [
    "idaho_df[\"len_backward\"].fillna(idaho_df[\"len_backward\"].median(), inplace=True)\n",
    "idaho_df[\"triangular_area\"].fillna(idaho_df[\"triangular_area\"].median(), inplace=True)\n",
    "idaho_df[\"ratio1\"].fillna(idaho_df[\"ratio1\"].median(), inplace=True)"
   ]
  },
  {
   "cell_type": "code",
   "execution_count": 86,
   "id": "7f7bec8b",
   "metadata": {},
   "outputs": [
    {
     "data": {
      "text/html": [
       "<div>\n",
       "<style scoped>\n",
       "    .dataframe tbody tr th:only-of-type {\n",
       "        vertical-align: middle;\n",
       "    }\n",
       "\n",
       "    .dataframe tbody tr th {\n",
       "        vertical-align: top;\n",
       "    }\n",
       "\n",
       "    .dataframe thead th {\n",
       "        text-align: right;\n",
       "    }\n",
       "</style>\n",
       "<table border=\"1\" class=\"dataframe\">\n",
       "  <thead>\n",
       "    <tr style=\"text-align: right;\">\n",
       "      <th></th>\n",
       "      <th>Longitude</th>\n",
       "      <th>Latitude</th>\n",
       "      <th>case</th>\n",
       "      <th>len_forward</th>\n",
       "      <th>len_backward</th>\n",
       "      <th>angle</th>\n",
       "      <th>offset</th>\n",
       "      <th>triangular_area</th>\n",
       "      <th>area</th>\n",
       "      <th>arc_angle</th>\n",
       "      <th>ratio1</th>\n",
       "      <th>ratio2</th>\n",
       "    </tr>\n",
       "  </thead>\n",
       "  <tbody>\n",
       "    <tr>\n",
       "      <th>0</th>\n",
       "      <td>-116.049086</td>\n",
       "      <td>49.000846</td>\n",
       "      <td>yes</td>\n",
       "      <td>8.555860</td>\n",
       "      <td>37.428313</td>\n",
       "      <td>0.000000</td>\n",
       "      <td>0.000000</td>\n",
       "      <td>0.00000</td>\n",
       "      <td>0.028537</td>\n",
       "      <td>-90.327179</td>\n",
       "      <td>-0.116448</td>\n",
       "      <td>-0.000000</td>\n",
       "    </tr>\n",
       "    <tr>\n",
       "      <th>1</th>\n",
       "      <td>-116.049087</td>\n",
       "      <td>49.000671</td>\n",
       "      <td>no</td>\n",
       "      <td>25.615619</td>\n",
       "      <td>8.555860</td>\n",
       "      <td>179.672895</td>\n",
       "      <td>4.777023</td>\n",
       "      <td>0.00167</td>\n",
       "      <td>0.001670</td>\n",
       "      <td>-90.000074</td>\n",
       "      <td>-0.379683</td>\n",
       "      <td>-0.053078</td>\n",
       "    </tr>\n",
       "  </tbody>\n",
       "</table>\n",
       "</div>"
      ],
      "text/plain": [
       "    Longitude   Latitude case  len_forward  len_backward       angle  \\\n",
       "0 -116.049086  49.000846  yes     8.555860     37.428313    0.000000   \n",
       "1 -116.049087  49.000671   no    25.615619      8.555860  179.672895   \n",
       "\n",
       "     offset  triangular_area      area  arc_angle    ratio1    ratio2  \n",
       "0  0.000000          0.00000  0.028537 -90.327179 -0.116448 -0.000000  \n",
       "1  4.777023          0.00167  0.001670 -90.000074 -0.379683 -0.053078  "
      ]
     },
     "execution_count": 86,
     "metadata": {},
     "output_type": "execute_result"
    }
   ],
   "source": [
    "idaho_df.head(2)"
   ]
  },
  {
   "cell_type": "code",
   "execution_count": 82,
   "id": "521a807e",
   "metadata": {},
   "outputs": [],
   "source": [
    "points_list = [(row.Longitude, row.Latitude) for row in idaho_df.itertuples()]  "
   ]
  },
  {
   "cell_type": "code",
   "execution_count": 83,
   "id": "dea91bb8",
   "metadata": {},
   "outputs": [],
   "source": [
    "points_gdf = gpd.GeoDataFrame(data = idaho_df, geometry = [Point(p) for p in points_list])"
   ]
  },
  {
   "cell_type": "markdown",
   "id": "c6e3e98f",
   "metadata": {},
   "source": [
    "### Creating a random 0.4 degree buffer for each point and counting number of points within that buffer"
   ]
  },
  {
   "cell_type": "code",
   "execution_count": 84,
   "id": "183defd2",
   "metadata": {},
   "outputs": [
    {
     "data": {
      "text/html": [
       "<div>\n",
       "<style scoped>\n",
       "    .dataframe tbody tr th:only-of-type {\n",
       "        vertical-align: middle;\n",
       "    }\n",
       "\n",
       "    .dataframe tbody tr th {\n",
       "        vertical-align: top;\n",
       "    }\n",
       "\n",
       "    .dataframe thead th {\n",
       "        text-align: right;\n",
       "    }\n",
       "</style>\n",
       "<table border=\"1\" class=\"dataframe\">\n",
       "  <thead>\n",
       "    <tr style=\"text-align: right;\">\n",
       "      <th></th>\n",
       "      <th>Longitude</th>\n",
       "      <th>Latitude</th>\n",
       "      <th>case</th>\n",
       "      <th>len_forward</th>\n",
       "      <th>len_backward</th>\n",
       "      <th>angle</th>\n",
       "      <th>offset</th>\n",
       "      <th>triangular_area</th>\n",
       "      <th>area</th>\n",
       "      <th>arc_angle</th>\n",
       "      <th>ratio1</th>\n",
       "      <th>ratio2</th>\n",
       "      <th>geometry</th>\n",
       "      <th>buffer</th>\n",
       "    </tr>\n",
       "  </thead>\n",
       "  <tbody>\n",
       "    <tr>\n",
       "      <th>0</th>\n",
       "      <td>-116.049086</td>\n",
       "      <td>49.000846</td>\n",
       "      <td>yes</td>\n",
       "      <td>8.555860</td>\n",
       "      <td>37.428313</td>\n",
       "      <td>0.000000</td>\n",
       "      <td>0.000000</td>\n",
       "      <td>0.00000</td>\n",
       "      <td>0.028537</td>\n",
       "      <td>-90.327179</td>\n",
       "      <td>-0.116448</td>\n",
       "      <td>-0.000000</td>\n",
       "      <td>POINT (-116.04909 49.00085)</td>\n",
       "      <td>POLYGON ((-115.64909 49.00085, -115.65101 48.9...</td>\n",
       "    </tr>\n",
       "    <tr>\n",
       "      <th>1</th>\n",
       "      <td>-116.049087</td>\n",
       "      <td>49.000671</td>\n",
       "      <td>no</td>\n",
       "      <td>25.615619</td>\n",
       "      <td>8.555860</td>\n",
       "      <td>179.672895</td>\n",
       "      <td>4.777023</td>\n",
       "      <td>0.00167</td>\n",
       "      <td>0.001670</td>\n",
       "      <td>-90.000074</td>\n",
       "      <td>-0.379683</td>\n",
       "      <td>-0.053078</td>\n",
       "      <td>POINT (-116.04909 49.00067)</td>\n",
       "      <td>POLYGON ((-115.64909 49.00067, -115.65101 48.9...</td>\n",
       "    </tr>\n",
       "  </tbody>\n",
       "</table>\n",
       "</div>"
      ],
      "text/plain": [
       "    Longitude   Latitude case  len_forward  len_backward       angle  \\\n",
       "0 -116.049086  49.000846  yes     8.555860     37.428313    0.000000   \n",
       "1 -116.049087  49.000671   no    25.615619      8.555860  179.672895   \n",
       "\n",
       "     offset  triangular_area      area  arc_angle    ratio1    ratio2  \\\n",
       "0  0.000000          0.00000  0.028537 -90.327179 -0.116448 -0.000000   \n",
       "1  4.777023          0.00167  0.001670 -90.000074 -0.379683 -0.053078   \n",
       "\n",
       "                      geometry  \\\n",
       "0  POINT (-116.04909 49.00085)   \n",
       "1  POINT (-116.04909 49.00067)   \n",
       "\n",
       "                                              buffer  \n",
       "0  POLYGON ((-115.64909 49.00085, -115.65101 48.9...  \n",
       "1  POLYGON ((-115.64909 49.00067, -115.65101 48.9...  "
      ]
     },
     "execution_count": 84,
     "metadata": {},
     "output_type": "execute_result"
    }
   ],
   "source": [
    "points_gdf['buffer'] = points_gdf.geometry.buffer(0.4)\n",
    "points_gdf.head(2)"
   ]
  },
  {
   "cell_type": "code",
   "execution_count": 87,
   "id": "a3908b19",
   "metadata": {},
   "outputs": [],
   "source": [
    "sindex = points_gdf.sindex\n",
    "\n",
    "# Iterate over the buffers and find all points that fall within each buffer\n",
    "within_lists = []\n",
    "for buffer in points_gdf['buffer']:\n",
    "    # Find the indices of all points that intersect the buffer\n",
    "    possible_matches_index = list(sindex.intersection(buffer.bounds))\n",
    "    # Filter the candidate points by testing if they're actually within the buffer\n",
    "    possible_matches = points_gdf.iloc[possible_matches_index]\n",
    "    matches = possible_matches[possible_matches.intersects(buffer)]\n",
    "    # Append the matches to the output list\n",
    "    within_lists.append(list(matches.geometry))\n",
    "    \n",
    "# Create a new GeoDataFrame with the results\n",
    "result_gdf = gpd.GeoDataFrame(geometry=[buffer for buffer in points_gdf['buffer']])\n",
    "result_gdf['within'] = within_lists"
   ]
  },
  {
   "cell_type": "code",
   "execution_count": 88,
   "id": "0723e468",
   "metadata": {},
   "outputs": [
    {
     "data": {
      "text/html": [
       "<div>\n",
       "<style scoped>\n",
       "    .dataframe tbody tr th:only-of-type {\n",
       "        vertical-align: middle;\n",
       "    }\n",
       "\n",
       "    .dataframe tbody tr th {\n",
       "        vertical-align: top;\n",
       "    }\n",
       "\n",
       "    .dataframe thead th {\n",
       "        text-align: right;\n",
       "    }\n",
       "</style>\n",
       "<table border=\"1\" class=\"dataframe\">\n",
       "  <thead>\n",
       "    <tr style=\"text-align: right;\">\n",
       "      <th></th>\n",
       "      <th>geometry</th>\n",
       "      <th>within</th>\n",
       "      <th>point_counts</th>\n",
       "      <th>buffer</th>\n",
       "    </tr>\n",
       "  </thead>\n",
       "  <tbody>\n",
       "    <tr>\n",
       "      <th>0</th>\n",
       "      <td>POLYGON ((-115.64909 49.00085, -115.65101 48.9...</td>\n",
       "      <td>[POINT (-116.0490969992152 48.82259500024346),...</td>\n",
       "      <td>310</td>\n",
       "      <td>POLYGON ((-115.64909 49.00085, -115.65101 48.9...</td>\n",
       "    </tr>\n",
       "  </tbody>\n",
       "</table>\n",
       "</div>"
      ],
      "text/plain": [
       "                                            geometry  \\\n",
       "0  POLYGON ((-115.64909 49.00085, -115.65101 48.9...   \n",
       "\n",
       "                                              within  point_counts  \\\n",
       "0  [POINT (-116.0490969992152 48.82259500024346),...           310   \n",
       "\n",
       "                                              buffer  \n",
       "0  POLYGON ((-115.64909 49.00085, -115.65101 48.9...  "
      ]
     },
     "execution_count": 88,
     "metadata": {},
     "output_type": "execute_result"
    }
   ],
   "source": [
    "result_gdf['point_counts'] = result_gdf['within'].apply(lambda x: len(x))\n",
    "result_gdf[\"buffer\"] = result_gdf[\"geometry\"]\n",
    "result_gdf.head(1)"
   ]
  },
  {
   "cell_type": "code",
   "execution_count": 91,
   "id": "51e5b003",
   "metadata": {},
   "outputs": [
    {
     "data": {
      "text/html": [
       "<div>\n",
       "<style scoped>\n",
       "    .dataframe tbody tr th:only-of-type {\n",
       "        vertical-align: middle;\n",
       "    }\n",
       "\n",
       "    .dataframe tbody tr th {\n",
       "        vertical-align: top;\n",
       "    }\n",
       "\n",
       "    .dataframe thead th {\n",
       "        text-align: right;\n",
       "    }\n",
       "</style>\n",
       "<table border=\"1\" class=\"dataframe\">\n",
       "  <thead>\n",
       "    <tr style=\"text-align: right;\">\n",
       "      <th></th>\n",
       "      <th>Longitude</th>\n",
       "      <th>Latitude</th>\n",
       "      <th>case</th>\n",
       "      <th>len_forward</th>\n",
       "      <th>len_backward</th>\n",
       "      <th>angle</th>\n",
       "      <th>offset</th>\n",
       "      <th>triangular_area</th>\n",
       "      <th>area</th>\n",
       "      <th>arc_angle</th>\n",
       "      <th>ratio1</th>\n",
       "      <th>ratio2</th>\n",
       "      <th>geometry_x</th>\n",
       "      <th>buffer</th>\n",
       "      <th>geometry_y</th>\n",
       "      <th>within</th>\n",
       "      <th>point_counts</th>\n",
       "    </tr>\n",
       "  </thead>\n",
       "  <tbody>\n",
       "    <tr>\n",
       "      <th>0</th>\n",
       "      <td>-116.049086</td>\n",
       "      <td>49.000846</td>\n",
       "      <td>yes</td>\n",
       "      <td>8.55586</td>\n",
       "      <td>37.428313</td>\n",
       "      <td>0.0</td>\n",
       "      <td>0.0</td>\n",
       "      <td>0.0</td>\n",
       "      <td>0.028537</td>\n",
       "      <td>-90.327179</td>\n",
       "      <td>-0.116448</td>\n",
       "      <td>-0.0</td>\n",
       "      <td>POINT (-116.04909 49.00085)</td>\n",
       "      <td>POLYGON ((-115.64909 49.00085, -115.65101 48.9...</td>\n",
       "      <td>POLYGON ((-115.64909 49.00085, -115.65101 48.9...</td>\n",
       "      <td>[POINT (-116.0490969992152 48.82259500024346),...</td>\n",
       "      <td>310</td>\n",
       "    </tr>\n",
       "  </tbody>\n",
       "</table>\n",
       "</div>"
      ],
      "text/plain": [
       "    Longitude   Latitude case  len_forward  len_backward  angle  offset  \\\n",
       "0 -116.049086  49.000846  yes      8.55586     37.428313    0.0     0.0   \n",
       "\n",
       "   triangular_area      area  arc_angle    ratio1  ratio2  \\\n",
       "0              0.0  0.028537 -90.327179 -0.116448    -0.0   \n",
       "\n",
       "                    geometry_x  \\\n",
       "0  POINT (-116.04909 49.00085)   \n",
       "\n",
       "                                              buffer  \\\n",
       "0  POLYGON ((-115.64909 49.00085, -115.65101 48.9...   \n",
       "\n",
       "                                          geometry_y  \\\n",
       "0  POLYGON ((-115.64909 49.00085, -115.65101 48.9...   \n",
       "\n",
       "                                              within  point_counts  \n",
       "0  [POINT (-116.0490969992152 48.82259500024346),...           310  "
      ]
     },
     "execution_count": 91,
     "metadata": {},
     "output_type": "execute_result"
    }
   ],
   "source": [
    "final_idaho_gdf = points_gdf.merge(result_gdf, on='buffer')\n",
    "final_idaho_gdf.head(1)"
   ]
  },
  {
   "cell_type": "markdown",
   "id": "13a6e5aa",
   "metadata": {},
   "source": [
    "### Sample calculation applied on Idaho"
   ]
  },
  {
   "cell_type": "code",
   "execution_count": 97,
   "id": "945c16bd",
   "metadata": {},
   "outputs": [
    {
     "data": {
      "text/html": [
       "<div>\n",
       "<style scoped>\n",
       "    .dataframe tbody tr th:only-of-type {\n",
       "        vertical-align: middle;\n",
       "    }\n",
       "\n",
       "    .dataframe tbody tr th {\n",
       "        vertical-align: top;\n",
       "    }\n",
       "\n",
       "    .dataframe thead th {\n",
       "        text-align: right;\n",
       "    }\n",
       "</style>\n",
       "<table border=\"1\" class=\"dataframe\">\n",
       "  <thead>\n",
       "    <tr style=\"text-align: right;\">\n",
       "      <th></th>\n",
       "      <th>Longitude</th>\n",
       "      <th>Latitude</th>\n",
       "      <th>len_forward</th>\n",
       "      <th>len_backward</th>\n",
       "      <th>angle</th>\n",
       "      <th>arc_angle</th>\n",
       "      <th>triangular_area</th>\n",
       "      <th>point_counts</th>\n",
       "      <th>offset</th>\n",
       "      <th>ratio1</th>\n",
       "      <th>ratio2</th>\n",
       "      <th>case</th>\n",
       "    </tr>\n",
       "  </thead>\n",
       "  <tbody>\n",
       "    <tr>\n",
       "      <th>0</th>\n",
       "      <td>-116.049086</td>\n",
       "      <td>49.000846</td>\n",
       "      <td>8.555860</td>\n",
       "      <td>37.428313</td>\n",
       "      <td>0.000000</td>\n",
       "      <td>-90.327179</td>\n",
       "      <td>0.00000</td>\n",
       "      <td>310</td>\n",
       "      <td>0.000000</td>\n",
       "      <td>-0.116448</td>\n",
       "      <td>-0.000000</td>\n",
       "      <td>yes</td>\n",
       "    </tr>\n",
       "    <tr>\n",
       "      <th>1</th>\n",
       "      <td>-116.049086</td>\n",
       "      <td>49.000846</td>\n",
       "      <td>8.555860</td>\n",
       "      <td>37.428313</td>\n",
       "      <td>0.000000</td>\n",
       "      <td>-90.327179</td>\n",
       "      <td>0.00000</td>\n",
       "      <td>310</td>\n",
       "      <td>0.000000</td>\n",
       "      <td>-0.116448</td>\n",
       "      <td>-0.000000</td>\n",
       "      <td>yes</td>\n",
       "    </tr>\n",
       "    <tr>\n",
       "      <th>2</th>\n",
       "      <td>-116.049086</td>\n",
       "      <td>49.000846</td>\n",
       "      <td>NaN</td>\n",
       "      <td>7.482380</td>\n",
       "      <td>0.000000</td>\n",
       "      <td>0.000000</td>\n",
       "      <td>0.00000</td>\n",
       "      <td>310</td>\n",
       "      <td>0.000000</td>\n",
       "      <td>0.000000</td>\n",
       "      <td>0.000000</td>\n",
       "      <td>yes</td>\n",
       "    </tr>\n",
       "    <tr>\n",
       "      <th>3</th>\n",
       "      <td>-116.049086</td>\n",
       "      <td>49.000846</td>\n",
       "      <td>NaN</td>\n",
       "      <td>7.482380</td>\n",
       "      <td>0.000000</td>\n",
       "      <td>0.000000</td>\n",
       "      <td>0.00000</td>\n",
       "      <td>310</td>\n",
       "      <td>0.000000</td>\n",
       "      <td>0.000000</td>\n",
       "      <td>0.000000</td>\n",
       "      <td>yes</td>\n",
       "    </tr>\n",
       "    <tr>\n",
       "      <th>4</th>\n",
       "      <td>-116.049087</td>\n",
       "      <td>49.000671</td>\n",
       "      <td>25.615619</td>\n",
       "      <td>8.555860</td>\n",
       "      <td>179.672895</td>\n",
       "      <td>-90.000074</td>\n",
       "      <td>0.00167</td>\n",
       "      <td>310</td>\n",
       "      <td>4.777023</td>\n",
       "      <td>-0.379683</td>\n",
       "      <td>-0.053078</td>\n",
       "      <td>no</td>\n",
       "    </tr>\n",
       "  </tbody>\n",
       "</table>\n",
       "</div>"
      ],
      "text/plain": [
       "    Longitude   Latitude  len_forward  len_backward       angle  arc_angle  \\\n",
       "0 -116.049086  49.000846     8.555860     37.428313    0.000000 -90.327179   \n",
       "1 -116.049086  49.000846     8.555860     37.428313    0.000000 -90.327179   \n",
       "2 -116.049086  49.000846          NaN      7.482380    0.000000   0.000000   \n",
       "3 -116.049086  49.000846          NaN      7.482380    0.000000   0.000000   \n",
       "4 -116.049087  49.000671    25.615619      8.555860  179.672895 -90.000074   \n",
       "\n",
       "   triangular_area  point_counts    offset    ratio1    ratio2 case  \n",
       "0          0.00000           310  0.000000 -0.116448 -0.000000  yes  \n",
       "1          0.00000           310  0.000000 -0.116448 -0.000000  yes  \n",
       "2          0.00000           310  0.000000  0.000000  0.000000  yes  \n",
       "3          0.00000           310  0.000000  0.000000  0.000000  yes  \n",
       "4          0.00167           310  4.777023 -0.379683 -0.053078   no  "
      ]
     },
     "execution_count": 97,
     "metadata": {},
     "output_type": "execute_result"
    }
   ],
   "source": [
    "idaho_nn_labels_df = pd.DataFrame(final_idaho_gdf[[\"Longitude\", \"Latitude\", \"len_forward\",\n",
    "                                                   \"len_backward\",\"angle\", \"arc_angle\",\n",
    "                                                   \"triangular_area\",\"point_counts\", \"offset\",\n",
    "                                                   \"ratio1\", \"ratio2\", \"case\"]])\n",
    "idaho_nn_labels_df.head(5)"
   ]
  },
  {
   "cell_type": "code",
   "execution_count": 98,
   "id": "d726b81a",
   "metadata": {},
   "outputs": [],
   "source": [
    "idaho_nn_labels_df[\"len_forward\"].fillna(idaho_nn_labels_df[\"len_forward\"].median(), inplace=True)"
   ]
  },
  {
   "cell_type": "code",
   "execution_count": 99,
   "id": "c6374e12",
   "metadata": {},
   "outputs": [
    {
     "data": {
      "text/html": [
       "<div>\n",
       "<style scoped>\n",
       "    .dataframe tbody tr th:only-of-type {\n",
       "        vertical-align: middle;\n",
       "    }\n",
       "\n",
       "    .dataframe tbody tr th {\n",
       "        vertical-align: top;\n",
       "    }\n",
       "\n",
       "    .dataframe thead th {\n",
       "        text-align: right;\n",
       "    }\n",
       "</style>\n",
       "<table border=\"1\" class=\"dataframe\">\n",
       "  <thead>\n",
       "    <tr style=\"text-align: right;\">\n",
       "      <th></th>\n",
       "      <th>Longitude</th>\n",
       "      <th>Latitude</th>\n",
       "      <th>len_forward</th>\n",
       "      <th>len_backward</th>\n",
       "      <th>angle</th>\n",
       "      <th>arc_angle</th>\n",
       "      <th>triangular_area</th>\n",
       "      <th>point_counts</th>\n",
       "      <th>offset</th>\n",
       "      <th>ratio1</th>\n",
       "      <th>ratio2</th>\n",
       "      <th>case</th>\n",
       "    </tr>\n",
       "  </thead>\n",
       "  <tbody>\n",
       "    <tr>\n",
       "      <th>0</th>\n",
       "      <td>-116.049086</td>\n",
       "      <td>49.000846</td>\n",
       "      <td>8.555860</td>\n",
       "      <td>37.428313</td>\n",
       "      <td>0.000000</td>\n",
       "      <td>-90.327179</td>\n",
       "      <td>0.00000</td>\n",
       "      <td>310</td>\n",
       "      <td>0.000000</td>\n",
       "      <td>-0.116448</td>\n",
       "      <td>-0.000000</td>\n",
       "      <td>yes</td>\n",
       "    </tr>\n",
       "    <tr>\n",
       "      <th>1</th>\n",
       "      <td>-116.049086</td>\n",
       "      <td>49.000846</td>\n",
       "      <td>8.555860</td>\n",
       "      <td>37.428313</td>\n",
       "      <td>0.000000</td>\n",
       "      <td>-90.327179</td>\n",
       "      <td>0.00000</td>\n",
       "      <td>310</td>\n",
       "      <td>0.000000</td>\n",
       "      <td>-0.116448</td>\n",
       "      <td>-0.000000</td>\n",
       "      <td>yes</td>\n",
       "    </tr>\n",
       "    <tr>\n",
       "      <th>2</th>\n",
       "      <td>-116.049086</td>\n",
       "      <td>49.000846</td>\n",
       "      <td>37.426141</td>\n",
       "      <td>7.482380</td>\n",
       "      <td>0.000000</td>\n",
       "      <td>0.000000</td>\n",
       "      <td>0.00000</td>\n",
       "      <td>310</td>\n",
       "      <td>0.000000</td>\n",
       "      <td>0.000000</td>\n",
       "      <td>0.000000</td>\n",
       "      <td>yes</td>\n",
       "    </tr>\n",
       "    <tr>\n",
       "      <th>3</th>\n",
       "      <td>-116.049086</td>\n",
       "      <td>49.000846</td>\n",
       "      <td>37.426141</td>\n",
       "      <td>7.482380</td>\n",
       "      <td>0.000000</td>\n",
       "      <td>0.000000</td>\n",
       "      <td>0.00000</td>\n",
       "      <td>310</td>\n",
       "      <td>0.000000</td>\n",
       "      <td>0.000000</td>\n",
       "      <td>0.000000</td>\n",
       "      <td>yes</td>\n",
       "    </tr>\n",
       "    <tr>\n",
       "      <th>4</th>\n",
       "      <td>-116.049087</td>\n",
       "      <td>49.000671</td>\n",
       "      <td>25.615619</td>\n",
       "      <td>8.555860</td>\n",
       "      <td>179.672895</td>\n",
       "      <td>-90.000074</td>\n",
       "      <td>0.00167</td>\n",
       "      <td>310</td>\n",
       "      <td>4.777023</td>\n",
       "      <td>-0.379683</td>\n",
       "      <td>-0.053078</td>\n",
       "      <td>no</td>\n",
       "    </tr>\n",
       "  </tbody>\n",
       "</table>\n",
       "</div>"
      ],
      "text/plain": [
       "    Longitude   Latitude  len_forward  len_backward       angle  arc_angle  \\\n",
       "0 -116.049086  49.000846     8.555860     37.428313    0.000000 -90.327179   \n",
       "1 -116.049086  49.000846     8.555860     37.428313    0.000000 -90.327179   \n",
       "2 -116.049086  49.000846    37.426141      7.482380    0.000000   0.000000   \n",
       "3 -116.049086  49.000846    37.426141      7.482380    0.000000   0.000000   \n",
       "4 -116.049087  49.000671    25.615619      8.555860  179.672895 -90.000074   \n",
       "\n",
       "   triangular_area  point_counts    offset    ratio1    ratio2 case  \n",
       "0          0.00000           310  0.000000 -0.116448 -0.000000  yes  \n",
       "1          0.00000           310  0.000000 -0.116448 -0.000000  yes  \n",
       "2          0.00000           310  0.000000  0.000000  0.000000  yes  \n",
       "3          0.00000           310  0.000000  0.000000  0.000000  yes  \n",
       "4          0.00167           310  4.777023 -0.379683 -0.053078   no  "
      ]
     },
     "execution_count": 99,
     "metadata": {},
     "output_type": "execute_result"
    }
   ],
   "source": [
    "idaho_nn_labels_df.head(5)"
   ]
  },
  {
   "cell_type": "code",
   "execution_count": 100,
   "id": "de742294",
   "metadata": {},
   "outputs": [
    {
     "data": {
      "text/plain": [
       "Longitude          float64\n",
       "Latitude           float64\n",
       "len_forward        float64\n",
       "len_backward       float64\n",
       "angle              float64\n",
       "arc_angle          float64\n",
       "triangular_area    float64\n",
       "point_counts         int64\n",
       "offset             float64\n",
       "ratio1             float64\n",
       "ratio2             float64\n",
       "case                object\n",
       "dtype: object"
      ]
     },
     "execution_count": 100,
     "metadata": {},
     "output_type": "execute_result"
    }
   ],
   "source": [
    "idaho_nn_labels_df.dtypes"
   ]
  },
  {
   "cell_type": "code",
   "execution_count": 101,
   "id": "f00d19ac",
   "metadata": {},
   "outputs": [
    {
     "data": {
      "text/plain": [
       "(116, 3265)"
      ]
     },
     "execution_count": 101,
     "metadata": {},
     "output_type": "execute_result"
    }
   ],
   "source": [
    "idaho_nn_labels_df[\"point_counts\"].min(), idaho_nn_labels_df[\"point_counts\"].max()"
   ]
  },
  {
   "cell_type": "code",
   "execution_count": 104,
   "id": "f211f08f",
   "metadata": {},
   "outputs": [],
   "source": [
    "idaho_nn_labels_df.to_parquet(\"Vertices_Labels\\idaho.parq\")"
   ]
  }
 ],
 "metadata": {
  "kernelspec": {
   "display_name": "Python 3 (ipykernel)",
   "language": "python",
   "name": "python3"
  },
  "language_info": {
   "codemirror_mode": {
    "name": "ipython",
    "version": 3
   },
   "file_extension": ".py",
   "mimetype": "text/x-python",
   "name": "python",
   "nbconvert_exporter": "python",
   "pygments_lexer": "ipython3",
   "version": "3.9.16"
  }
 },
 "nbformat": 4,
 "nbformat_minor": 5
}
