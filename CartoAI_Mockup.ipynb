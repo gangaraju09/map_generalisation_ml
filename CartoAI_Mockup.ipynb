{
 "cells": [
  {
   "cell_type": "code",
   "execution_count": 3,
   "id": "f2516480",
   "metadata": {},
   "outputs": [],
   "source": [
    "import geopandas\n",
    "import shapely\n",
    "from shapely import Point, LineString, Polygon, MultiPolygon"
   ]
  },
  {
   "cell_type": "code",
   "execution_count": 18,
   "id": "8707b4d9",
   "metadata": {},
   "outputs": [
    {
     "name": "stdout",
     "output_type": "stream",
     "text": [
      "POLYGON ((1 1, 5 8, 7 20, 2 6, 1 1))\n"
     ]
    }
   ],
   "source": [
    "a = [Point(1,1), Point(5,8), Point(7,20), Point(2,6), Point(1,1)]\n",
    "a = Polygon(a)\n",
    "print(a)"
   ]
  },
  {
   "cell_type": "code",
   "execution_count": 19,
   "id": "c34da15d",
   "metadata": {},
   "outputs": [
    {
     "data": {
      "image/svg+xml": [
       "<svg xmlns=\"http://www.w3.org/2000/svg\" xmlns:xlink=\"http://www.w3.org/1999/xlink\" width=\"100.0\" height=\"100.0\" viewBox=\"0.24 0.24 7.52 20.520000000000003\" preserveAspectRatio=\"xMinYMin meet\"><g transform=\"matrix(1,0,0,-1,0,21.0)\"><path fill-rule=\"evenodd\" fill=\"#66cc99\" stroke=\"#555555\" stroke-width=\"0.41040000000000004\" opacity=\"0.6\" d=\"M 1.0,1.0 L 5.0,8.0 L 7.0,20.0 L 2.0,6.0 L 1.0,1.0 z\" /></g></svg>"
      ],
      "text/plain": [
       "<POLYGON ((1 1, 5 8, 7 20, 2 6, 1 1))>"
      ]
     },
     "execution_count": 19,
     "metadata": {},
     "output_type": "execute_result"
    }
   ],
   "source": [
    "a"
   ]
  },
  {
   "cell_type": "code",
   "execution_count": 36,
   "id": "1f51a4a2",
   "metadata": {},
   "outputs": [],
   "source": [
    "xx,yy = a.exterior.coords.xy\n",
    "coords = a.exterior.coords.xy"
   ]
  },
  {
   "cell_type": "code",
   "execution_count": 41,
   "id": "c9cbe653",
   "metadata": {},
   "outputs": [],
   "source": [
    "x_coords = xx.tolist()\n",
    "y_coords = yy.tolist()"
   ]
  },
  {
   "cell_type": "code",
   "execution_count": 42,
   "id": "fabd3906",
   "metadata": {},
   "outputs": [
    {
     "data": {
      "text/plain": [
       "[1.0, 5.0, 7.0, 2.0, 1.0]"
      ]
     },
     "execution_count": 42,
     "metadata": {},
     "output_type": "execute_result"
    }
   ],
   "source": [
    "x_coords "
   ]
  },
  {
   "cell_type": "code",
   "execution_count": 43,
   "id": "67f8a612",
   "metadata": {},
   "outputs": [
    {
     "data": {
      "text/plain": [
       "[1.0, 8.0, 20.0, 6.0, 1.0]"
      ]
     },
     "execution_count": 43,
     "metadata": {},
     "output_type": "execute_result"
    }
   ],
   "source": [
    "y_coords"
   ]
  },
  {
   "cell_type": "code",
   "execution_count": 55,
   "id": "8404bd92",
   "metadata": {},
   "outputs": [
    {
     "name": "stdout",
     "output_type": "stream",
     "text": [
      "It ends with same coordinates\n"
     ]
    }
   ],
   "source": [
    "for i in range(0, len(x_coords)-1):\n",
    "    coords_start = (x_coords[i], y_coords[i])\n",
    "    coords_end = (x_coords[-1], y_coords[-1])\n",
    "    \n",
    "    if coords_start == coords_end:\n",
    "        print(\"It ends with same coordinates\")"
   ]
  },
  {
   "cell_type": "code",
   "execution_count": 60,
   "id": "2c9b5464",
   "metadata": {},
   "outputs": [],
   "source": [
    "def great_circle_dist(phi1,phi2,lam1,lam2):\n",
    "    phi1 = math.radians(phi1) \n",
    "    phi2 = math.radians(phi2)\n",
    "    lam1 = math.radians(lam1)\n",
    "    lam2 = math.radians(lam2)\n",
    "    dl = abs(lam1-lam2) \n",
    "    d = math.acos((math.sin(phi1)*math.sin(phi2))+(math.cos(phi1)*math.cos(phi2)*math.cos(dl)))\n",
    "    spheric_dist = round(d*6300)\n",
    "    return spheric_dist"
   ]
  },
  {
   "cell_type": "code",
   "execution_count": 61,
   "id": "730cd204",
   "metadata": {},
   "outputs": [
    {
     "name": "stdout",
     "output_type": "stream",
     "text": [
      "Distance between Point0 and Point1: 885 Kms\n",
      "Distance between Point1 and Point2: 1330 Kms\n",
      "Distance between Point2 and Point3: 1630 Kms\n",
      "Distance between Point3 and Point4: 560 Kms\n"
     ]
    }
   ],
   "source": [
    "import math\n",
    "\n",
    "for i in range(0, len(x_coords)-1):\n",
    "    phi1 = x_coords[i] \n",
    "    phi2 = x_coords[i+1]\n",
    "    lam1 = y_coords[i]\n",
    "    lam2 = y_coords[i+1]\n",
    "    \n",
    "    spheric_dist = great_circle_dist(phi1,phi2,lam1,lam2)\n",
    "    \n",
    "    print(f\"Distance between Point{i} and Point{i+1}: {spheric_dist} Kms\")"
   ]
  },
  {
   "cell_type": "code",
   "execution_count": 62,
   "id": "d7b0a323",
   "metadata": {},
   "outputs": [],
   "source": [
    "import math\n",
    "\n",
    "def calculate_angle(x1,x2,y1,y2):\n",
    "    x1 = math.radians(x1) \n",
    "    x2 = math.radians(x2)\n",
    "    y1 = math.radians(y1)\n",
    "    y2 = math.radians(y2)\n",
    "    angle = math.atan2(y2 - y1, x2 - x1) * 180 / math.pi\n",
    "    return angle"
   ]
  },
  {
   "cell_type": "code",
   "execution_count": 63,
   "id": "6857c2f1",
   "metadata": {},
   "outputs": [
    {
     "name": "stdout",
     "output_type": "stream",
     "text": [
      "Distance between Point0 and Point1: 60.25511870305779 degrees\n",
      "Distance between Point1 and Point2: 80.53767779197437 degrees\n",
      "Distance between Point2 and Point3: -109.65382405805333 degrees\n",
      "Distance between Point3 and Point4: -101.30993247402021 degrees\n"
     ]
    }
   ],
   "source": [
    "for i in range(0, len(x_coords)-1):\n",
    "    x1 = x_coords[i] \n",
    "    x2 = x_coords[i+1]\n",
    "    y1 = y_coords[i]\n",
    "    y2 = y_coords[i+1]\n",
    "    \n",
    "    angle = calculate_angle(x1,x2,y1,y2)\n",
    "    \n",
    "    print(f\"Distance between Point{i} and Point{i+1}: {angle} degrees\")"
   ]
  },
  {
   "cell_type": "code",
   "execution_count": null,
   "id": "24b72423",
   "metadata": {},
   "outputs": [],
   "source": []
  }
 ],
 "metadata": {
  "kernelspec": {
   "display_name": "Python 3 (ipykernel)",
   "language": "python",
   "name": "python3"
  },
  "language_info": {
   "codemirror_mode": {
    "name": "ipython",
    "version": 3
   },
   "file_extension": ".py",
   "mimetype": "text/x-python",
   "name": "python",
   "nbconvert_exporter": "python",
   "pygments_lexer": "ipython3",
   "version": "3.10.10"
  }
 },
 "nbformat": 4,
 "nbformat_minor": 5
}
