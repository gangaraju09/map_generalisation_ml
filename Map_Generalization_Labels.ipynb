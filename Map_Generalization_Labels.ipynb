{
 "cells": [
  {
   "cell_type": "markdown",
   "id": "35a263aa",
   "metadata": {},
   "source": [
    "## Label Generation Code for Neural Networks (Loop)\n",
    "Project by <b><a href = 'ramavajjala@wisc.edu'>C S Siddharth Ramavajjala<a> <sup>a</sup></b>, <b><a href = 'sgnamburi@wisc.edu'>G N V V Satya Sai Srinath<a><sup>b</sup></b>, <b><a href = 'gangaraju2@wisc.edu'>Ramakrishna Raju Gangaraju<a><sup>a</sup></b>\n",
    "\n",
    "<i>a - Department of Geography, University of Wisconsin - Madison*</i><br>\n",
    "<i>b - Department of Computer Science, University of Wisconsin - Madison*</i>"
   ]
  },
  {
   "cell_type": "code",
   "execution_count": 7,
   "id": "4c4b3a1b",
   "metadata": {},
   "outputs": [],
   "source": [
    "# importing libraries\n",
    "import geopandas as gpd\n",
    "import matplotlib.pyplot as plt\n",
    "import sys, os, json\n",
    "import pandas as pd "
   ]
  },
  {
   "cell_type": "code",
   "execution_count": 3,
   "id": "a461b236",
   "metadata": {},
   "outputs": [
    {
     "name": "stdout",
     "output_type": "stream",
     "text": [
      "C:\\Users\\Sidrcs\\Documents\\Github\\map_generalisation_ml\n",
      "C:\\Users\\Sidrcs\\Documents\\Github\\map_generalisation_ml\n"
     ]
    }
   ],
   "source": [
    "#function to change current working directory\n",
    "def change_os(path):                       \n",
    "    print(os.getcwd())\n",
    "    os.chdir(path)\n",
    "    print(os.getcwd())\n",
    "\n",
    "change_os(r'C:\\Users\\Sidrcs\\Documents\\Github\\map_generalisation_ml')"
   ]
  },
  {
   "cell_type": "code",
   "execution_count": 8,
   "id": "dc31426f",
   "metadata": {},
   "outputs": [
    {
     "name": "stdout",
     "output_type": "stream",
     "text": [
      "Total elapsed: -23.918985597292583 mins\n"
     ]
    }
   ],
   "source": [
    "#loop for matching shapefiles and generating labels for all matching shapefiles\n",
    "import time\n",
    "\n",
    "start_time = time.time()\n",
    "\n",
    "# empty list to stores vertices from dataframes\n",
    "pregen_vertices = []\n",
    "gen_vertices = []\n",
    "\n",
    "#loads all the files in Pregeneralized_Shapefiles\n",
    "for file in os.listdir('Pregeneralized_Shapefiles'):\n",
    "    #loads all the files in Generalized_Shapefiles\n",
    "    for generalized_file in os.listdir('Generalized_Shapefiles'):\n",
    "        \n",
    "        #loads all the files which are shapefiles\n",
    "        if file.endswith('.shp') and generalized_file.endswith('.shp'):\n",
    "            \n",
    "            # match filenames in both folders i.e., florida.shp (Pregeneralized_Shapefiles) = florida.shp (Generalized_Shapefiles)\n",
    "            if str(file) == str(generalized_file):\n",
    "                \n",
    "                if os.path.exists(f\"Vertices_Labels/{file.split('.')[0]}_vertices_labels.csv\"):\n",
    "                    pass\n",
    "                \n",
    "                else:\n",
    "                    # read both files into geodataframes\n",
    "                    pregen_gdf = gpd.read_file(f'Pregeneralized_Shapefiles/{file}')\n",
    "                    gen_gdf = gpd.read_file(f'Generalized_Shapefiles/{generalized_file}')\n",
    "                \n",
    "                    # read geometries from pregeneralized and generalized GeoDataFrames\n",
    "                    pregen_geom = pregen_gdf.geometry[0]\n",
    "                    gen_geom = gen_gdf.geometry[0]\n",
    "                \n",
    "                    # extract coordinates from each polygon and append them into empty lists as above\n",
    "                    for pregen_poly in pregen_geom.geoms:\n",
    "                        pregen_vertices.extend(list(pregen_poly.exterior.coords))\n",
    "                    \n",
    "                    for gen_poly in gen_geom.geoms:\n",
    "                        gen_vertices.extend(list(gen_poly.exterior.coords))\n",
    "                \n",
    "                    #loading the lists into the DataFrame\n",
    "                    pregen_df = pd.DataFrame(pregen_vertices,columns = ['Longitude', 'Latitude'])\n",
    "                    gen_df = pd.DataFrame(gen_vertices, columns = ['Longitude', 'Latitude'])\n",
    "                \n",
    "                    # using lamda function to create a yes/no label under 'case' column by comparing with generalized vertices\n",
    "                    pregen_df['case'] = pregen_df.apply(lambda row: 'yes' if (row['Longitude'], row['Latitude']) in set(zip(gen_df['Longitude'], gen_df['Latitude'])) else 'no', axis=1)\n",
    "                \n",
    "                    # exporting CSV\n",
    "                    pregen_df.to_csv(f\"Vertices_Labels/{file.split('.')[0]}_vertices_labels.csv\")\n",
    "                                  \n",
    "                \n",
    "               \n",
    "                \n",
    "end_time = time.time()\n",
    "\n",
    "print(f'Total elapsed: {(start_time - end_time)/60} mins')"
   ]
  }
 ],
 "metadata": {
  "kernelspec": {
   "display_name": "Python 3 (ipykernel)",
   "language": "python",
   "name": "python3"
  },
  "language_info": {
   "codemirror_mode": {
    "name": "ipython",
    "version": 3
   },
   "file_extension": ".py",
   "mimetype": "text/x-python",
   "name": "python",
   "nbconvert_exporter": "python",
   "pygments_lexer": "ipython3",
   "version": "3.9.7"
  }
 },
 "nbformat": 4,
 "nbformat_minor": 5
}
