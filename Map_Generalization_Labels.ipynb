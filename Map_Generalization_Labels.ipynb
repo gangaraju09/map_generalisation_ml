{
 "cells": [
  {
   "cell_type": "markdown",
   "id": "35a263aa",
   "metadata": {},
   "source": [
    "## Label Generation Code for Neural Networks (Loop)\n",
    "Project by <b><a href = 'ramavajjala@wisc.edu'>C S Siddharth Ramavajjala<a> <sup>a</sup></b>, <b><a href = 'sgnamburi@wisc.edu'>G N V V Satya Sai Srinath<a><sup>b</sup></b>, <b><a href = 'gangaraju2@wisc.edu'>Ramakrishna Raju Gangaraju<a><sup>a</sup></b>\n",
    "\n",
    "<i>a - Department of Geography, University of Wisconsin - Madison*</i><br>\n",
    "<i>b - Department of Computer Science, University of Wisconsin - Madison*</i>"
   ]
  },
  {
   "cell_type": "code",
   "execution_count": 1,
   "id": "4c4b3a1b",
   "metadata": {},
   "outputs": [],
   "source": [
    "# importing libraries\n",
    "import geopandas as gpd\n",
    "import matplotlib.pyplot as plt\n",
    "import sys, os, json\n",
    "import pandas as pd "
   ]
  },
  {
   "cell_type": "code",
   "execution_count": 6,
   "id": "a461b236",
   "metadata": {},
   "outputs": [
    {
     "name": "stdout",
     "output_type": "stream",
     "text": [
      "C:\\Users\\Sidrcs\\Documents\\Github\\map_generalisation_ml\n",
      "C:\\Users\\Sidrcs\\Documents\\Github\\map_generalisation_ml\n"
     ]
    }
   ],
   "source": [
    "#function to change current working directory\n",
    "def change_os(path):                       \n",
    "    print(os.getcwd())\n",
    "    os.chdir(path)\n",
    "    print(os.getcwd())\n",
    "\n",
    "change_os(r'C:\\Users\\Sidrcs\\Documents\\Github\\map_generalisation_ml')"
   ]
  },
  {
   "cell_type": "code",
   "execution_count": 7,
   "id": "dc31426f",
   "metadata": {
    "scrolled": true
   },
   "outputs": [
    {
     "name": "stdout",
     "output_type": "stream",
     "text": [
      "Total elapsed: California_vertices_labels.csv took -0.5887850721677145 mins\n",
      "Total elapsed: Florida_vertices_labels.csv took -28.41980983018875 mins\n",
      "Total elapsed: Idaho_vertices_labels.csv took -0.040167593955993654 mins\n",
      "Total elapsed: Louisiana_vertices_labels.csv took -5.942797633012136 mins\n",
      "Total elapsed: Maine_vertices_labels.csv took -1.5020581324895224 mins\n",
      "Total elapsed: NorthCarolina_vertices_labels.csv took -5.908980357646942 mins\n",
      "Total elapsed: Texas_vertices_labels.csv took -2.212958645820618 mins\n"
     ]
    }
   ],
   "source": [
    "#loop for matching shapefiles and generating labels for all matching shapefiles\n",
    "import time\n",
    "\n",
    "#loads all the files in Pregeneralized_Shapefiles\n",
    "for file in os.listdir('Pregeneralized_Shapefiles'):\n",
    "    # empty list to stores vertices from dataframes\n",
    "    pregen_vertices = []\n",
    "    gen_vertices = []\n",
    "    #loads all the files in Generalized_Shapefiles\n",
    "    for generalized_file in os.listdir('Generalized_Shapefiles'):\n",
    "        \n",
    "        #loads all the files which are shapefiles\n",
    "        if file.endswith('.shp') and generalized_file.endswith('.shp'):\n",
    "            \n",
    "            # match filenames in both folders i.e., florida.shp (Pregeneralized_Shapefiles) = florida.shp (Generalized_Shapefiles)\n",
    "            if str(file) == str(generalized_file):\n",
    "                \n",
    "                #checks if CSV file already exists in Vertices_Labels folder\n",
    "                if os.path.exists(f\"Vertices_Labels/{file.split('.')[0]}_vertices_labels.csv\"):\n",
    "                    print(f\"{file.split('.')[0]}_vertices_labels.csv exists\")\n",
    "                    \n",
    "                else:\n",
    "                    #log start time\n",
    "                    start_time = time.time()\n",
    "                    \n",
    "                    # read both files into geodataframes\n",
    "                    pregen_gdf = gpd.read_file(f'Pregeneralized_Shapefiles/{file}')\n",
    "                    gen_gdf = gpd.read_file(f'Generalized_Shapefiles/{generalized_file}')\n",
    "                \n",
    "                    # read geometries from pregeneralized and generalized GeoDataFrames\n",
    "                    pregen_geom = pregen_gdf.geometry[0]\n",
    "                    gen_geom = gen_gdf.geometry[0]\n",
    "                    \n",
    "                    # checks if the shapefile is a polygon or a multipolygon\n",
    "                    # if block handles single polygon type\n",
    "                    if pregen_geom.geom_type == 'Polygon':\n",
    "                        pregen_vertices.extend(list(pregen_geom.exterior.coords))\n",
    "                        gen_vertices.extend(list(gen_geom.exterior.coords))\n",
    "                    \n",
    "                        # loading the lists into the DataFrame\n",
    "                        pregen_df = pd.DataFrame(pregen_vertices,columns = ['Longitude', 'Latitude'])\n",
    "                        gen_df = pd.DataFrame(gen_vertices, columns = ['Longitude', 'Latitude'])\n",
    "                \n",
    "                        # using lamda function to create a yes/no label under 'case' column by comparing with generalized vertices\n",
    "                        pregen_df['case'] = pregen_df.apply(lambda row: 'yes' if (row['Longitude'], row['Latitude']) in set(zip(gen_df['Longitude'], gen_df['Latitude'])) else 'no', axis=1)\n",
    "                \n",
    "                        # exporting CSV\n",
    "                        pregen_df.to_csv(f\"Vertices_Labels/{file.split('.')[0]}_vertices_labels.csv\")\n",
    "                        \n",
    "                        #log end time\n",
    "                        end_time = time.time()\n",
    "                        #print time\n",
    "                        print(f\"Total elapsed: {file.split('.')[0]}_vertices_labels.csv took {(start_time - end_time)/60} mins\")\n",
    "                    \n",
    "                    else:\n",
    "                        # extract coordinates from each polygon and append them into empty lists as above\n",
    "                        for pregen_poly in pregen_geom.geoms:\n",
    "                            pregen_vertices.extend(list(pregen_poly.exterior.coords))\n",
    "                    \n",
    "                        for gen_poly in gen_geom.geoms:\n",
    "                            gen_vertices.extend(list(gen_poly.exterior.coords))\n",
    "                \n",
    "                        # loading the lists into the DataFrame\n",
    "                        pregen_df = pd.DataFrame(pregen_vertices,columns = ['Longitude', 'Latitude'])\n",
    "                        gen_df = pd.DataFrame(gen_vertices, columns = ['Longitude', 'Latitude'])\n",
    "                \n",
    "                        # using lamda function to create a yes/no label under 'case' column by comparing with generalized vertices\n",
    "                        pregen_df['case'] = pregen_df.apply(lambda row: 'yes' if (row['Longitude'], row['Latitude']) in set(zip(gen_df['Longitude'], gen_df['Latitude'])) else 'no', axis=1)\n",
    "                \n",
    "                        # exporting CSV\n",
    "                        pregen_df.to_csv(f\"Vertices_Labels/{file.split('.')[0]}_vertices_labels.csv\")\n",
    "                        \n",
    "                        #log end time\n",
    "                        end_time = time.time()\n",
    "                        #print time\n",
    "                        print(f\"Total elapsed: {file.split('.')[0]}_vertices_labels.csv took {(start_time - end_time)/60} mins\")"
   ]
  },
  {
   "cell_type": "markdown",
   "id": "2a811aac",
   "metadata": {},
   "source": [
    "### Quick evaluation of shapefile using Convex Hull"
   ]
  },
  {
   "cell_type": "code",
   "execution_count": 9,
   "id": "b5118f37",
   "metadata": {},
   "outputs": [
    {
     "data": {
      "text/html": [
       "<div>\n",
       "<style scoped>\n",
       "    .dataframe tbody tr th:only-of-type {\n",
       "        vertical-align: middle;\n",
       "    }\n",
       "\n",
       "    .dataframe tbody tr th {\n",
       "        vertical-align: top;\n",
       "    }\n",
       "\n",
       "    .dataframe thead th {\n",
       "        text-align: right;\n",
       "    }\n",
       "</style>\n",
       "<table border=\"1\" class=\"dataframe\">\n",
       "  <thead>\n",
       "    <tr style=\"text-align: right;\">\n",
       "      <th></th>\n",
       "      <th>Longitude</th>\n",
       "      <th>Latitude</th>\n",
       "      <th>case</th>\n",
       "    </tr>\n",
       "  </thead>\n",
       "  <tbody>\n",
       "    <tr>\n",
       "      <th>0</th>\n",
       "      <td>-82.884818</td>\n",
       "      <td>24.621208</td>\n",
       "      <td>no</td>\n",
       "    </tr>\n",
       "  </tbody>\n",
       "</table>\n",
       "</div>"
      ],
      "text/plain": [
       "   Longitude   Latitude case\n",
       "0 -82.884818  24.621208   no"
      ]
     },
     "execution_count": 9,
     "metadata": {},
     "output_type": "execute_result"
    }
   ],
   "source": [
    "df = pd.read_csv(r\"Vertices_Labels/Florida_vertices_labels.csv\")\n",
    "df = df.drop(columns = [\"Unnamed: 0\"])\n",
    "df.head(1)"
   ]
  },
  {
   "cell_type": "code",
   "execution_count": 17,
   "id": "ac8aee3c",
   "metadata": {},
   "outputs": [
    {
     "data": {
      "text/html": [
       "<div>\n",
       "<style scoped>\n",
       "    .dataframe tbody tr th:only-of-type {\n",
       "        vertical-align: middle;\n",
       "    }\n",
       "\n",
       "    .dataframe tbody tr th {\n",
       "        vertical-align: top;\n",
       "    }\n",
       "\n",
       "    .dataframe thead th {\n",
       "        text-align: right;\n",
       "    }\n",
       "</style>\n",
       "<table border=\"1\" class=\"dataframe\">\n",
       "  <thead>\n",
       "    <tr style=\"text-align: right;\">\n",
       "      <th></th>\n",
       "      <th>Longitude</th>\n",
       "      <th>Latitude</th>\n",
       "      <th>case</th>\n",
       "      <th>geometry</th>\n",
       "    </tr>\n",
       "  </thead>\n",
       "  <tbody>\n",
       "    <tr>\n",
       "      <th>0</th>\n",
       "      <td>-82.884818</td>\n",
       "      <td>24.621208</td>\n",
       "      <td>no</td>\n",
       "      <td>POINT (-82.88482 24.62121)</td>\n",
       "    </tr>\n",
       "  </tbody>\n",
       "</table>\n",
       "</div>"
      ],
      "text/plain": [
       "   Longitude   Latitude case                    geometry\n",
       "0 -82.884818  24.621208   no  POINT (-82.88482 24.62121)"
      ]
     },
     "execution_count": 17,
     "metadata": {},
     "output_type": "execute_result"
    }
   ],
   "source": [
    "gdf = gpd.GeoDataFrame(df,\n",
    "    geometry=gpd.points_from_xy(df[\"Longitude\"], df[\"Latitude\"]))\n",
    "\n",
    "gdf.head(1)"
   ]
  },
  {
   "cell_type": "code",
   "execution_count": 23,
   "id": "30b4ad8c",
   "metadata": {},
   "outputs": [],
   "source": [
    "res = gdf.convex_hull"
   ]
  },
  {
   "cell_type": "code",
   "execution_count": 26,
   "id": "b462d338",
   "metadata": {},
   "outputs": [
    {
     "data": {
      "image/png": "[encoded data removed]",
      "text/plain": [
       "<Figure size 640x480 with 1 Axes>"
      ]
     },
     "metadata": {},
     "output_type": "display_data"
    }
   ],
   "source": [
    "res.plot(linewidth=0.2)\n",
    "\n",
    "plt.title(\"Florida\")\n",
    "plt.axis(\"off\")\n",
    "plt.show()"
   ]
  }
 ],
 "metadata": {
  "kernelspec": {
   "display_name": "Python 3 (ipykernel)",
   "language": "python",
   "name": "python3"
  },
  "language_info": {
   "codemirror_mode": {
    "name": "ipython",
    "version": 3
   },
   "file_extension": ".py",
   "mimetype": "text/x-python",
   "name": "python",
   "nbconvert_exporter": "python",
   "pygments_lexer": "ipython3",
   "version": "3.10.10"
  }
 },
 "nbformat": 4,
 "nbformat_minor": 5
}
