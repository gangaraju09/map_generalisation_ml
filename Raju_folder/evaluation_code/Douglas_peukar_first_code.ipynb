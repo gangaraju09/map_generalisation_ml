{
 "cells": [
  {
   "cell_type": "markdown",
   "id": "a08b2c69",
   "metadata": {},
   "source": [
    "## Importing required libraries"
   ]
  },
  {
   "cell_type": "code",
   "execution_count": 8,
   "id": "1285b920",
   "metadata": {},
   "outputs": [],
   "source": [
    "import pandas as pd\n",
    "import numpy as np\n",
    "import geopandas as gpd\n",
    "import shapely\n",
    "import matplotlib.pyplot as plt\n",
    "from shapely.geometry import mapping\n",
    "from shapely.geometry import Point"
   ]
  },
  {
   "cell_type": "markdown",
   "id": "7f0b4f0f",
   "metadata": {},
   "source": [
    "## Definition to visualize the shapefile"
   ]
  },
  {
   "cell_type": "code",
   "execution_count": 9,
   "id": "ada70f8c",
   "metadata": {},
   "outputs": [],
   "source": [
    "def plot_shapefile(shapefile_path):\n",
    "    shapefile = gpd.read_file(shapefile_path)\n",
    "    shapefile.plot()"
   ]
  },
  {
   "cell_type": "code",
   "execution_count": 10,
   "id": "e9c2a9ab",
   "metadata": {},
   "outputs": [
    {
     "data": {
      "image/png": "[encoded data removed]",
      "text/plain": [
       "<Figure size 432x288 with 1 Axes>"
      ]
     },
     "metadata": {
      "needs_background": "light"
     },
     "output_type": "display_data"
    }
   ],
   "source": [
    "shapefile_path = r\"C:\\Users\\ramak\\Desktop\\Map_generalization_Douglus_peucker\\pre_generalized_shapefiles\\Idaho.shp\"\n",
    "plot_shapefile(shapefile_path)"
   ]
  },
  {
   "cell_type": "markdown",
   "id": "3dba86c8",
   "metadata": {},
   "source": [
    "## Definition to extract number of points/vertices in a Shapefile and storing points in CSV"
   ]
  },
  {
   "cell_type": "code",
   "execution_count": 15,
   "id": "cd2fe937",
   "metadata": {},
   "outputs": [],
   "source": [
    "def count_shapefile_points(shapefile_path, output_csv_path):\n",
    "    idaho_shp = gpd.read_file(shapefile_path)\n",
    "    total_points = 0\n",
    "    \n",
    "    for index, row in idaho_shp.iterrows():\n",
    "        shape = row['geometry']\n",
    "        points = mapping(shape)['coordinates']\n",
    "        total_points += len(points[0])\n",
    "        \n",
    "        #to_csv\n",
    "        pts_list = list(map(lambda x: [x[0], x[1]], points[0]) )\n",
    "        tuple_cord_df = pd.DataFrame(pts_list, columns=['Longitude', 'Latitude'])\n",
    "        tuple_cord_df.to_csv(output_csv_path,  index=False)\n",
    "        \n",
    "    print(f\"Points written to {output_csv_path} successfully.\")    \n",
    "    return print(\"Total number of points/vertices of a given Shapefile is:\", total_points)\n",
    "    "
   ]
  },
  {
   "cell_type": "code",
   "execution_count": 16,
   "id": "a9d86548",
   "metadata": {},
   "outputs": [
    {
     "name": "stdout",
     "output_type": "stream",
     "text": [
      "Points written to C:\\Users\\ramak\\Desktop\\Map_generalization_Douglus_peucker\\pre_generalized_shapefiles\\Idaho.csv successfully.\n",
      "Total number of points/vertices of a given Shapefile is: 35242\n"
     ]
    }
   ],
   "source": [
    "shapefile_path = r\"C:\\Users\\ramak\\Desktop\\Map_generalization_Douglus_peucker\\pre_generalized_shapefiles\\Idaho.shp\"\n",
    "output_csv_path = r\"C:\\Users\\ramak\\Desktop\\Map_generalization_Douglus_peucker\\pre_generalized_shapefiles\\Idaho.csv\"\n",
    "total_points = count_shapefile_points(shapefile_path,output_csv_path)"
   ]
  },
  {
   "cell_type": "markdown",
   "id": "d754df91",
   "metadata": {},
   "source": [
    "## Definition to form a shape from the obtained geometric points"
   ]
  },
  {
   "attachments": {
    "image.png": {
     "image/png": "[encoded data removed]"
    }
   },
   "cell_type": "markdown",
   "id": "ac49242a",
   "metadata": {},
   "source": [
    "Example csv format ![image.png](attachment:image.png)"
   ]
  },
  {
   "cell_type": "code",
   "execution_count": 19,
   "id": "bcf6730f",
   "metadata": {},
   "outputs": [],
   "source": [
    "def to_shape(input_csv_path):\n",
    "    cord_df = pd.read_csv(input_csv_path )\n",
    "\n",
    "    geometry = [Point(xy) for xy in zip(cord_df['Longitude'], cord_df['Latitude'])]\n",
    "    cord_gdf = gpd.GeoDataFrame(cord_df, geometry=geometry)\n",
    "    plt.show()\n",
    "    return cord_gdf.plot(color='blue', linewidth=0.05)"
   ]
  },
  {
   "cell_type": "code",
   "execution_count": 20,
   "id": "ca233a10",
   "metadata": {},
   "outputs": [
    {
     "data": {
      "text/plain": [
       "<Axes: >"
      ]
     },
     "execution_count": 20,
     "metadata": {},
     "output_type": "execute_result"
    },
    {
     "data": {
      "image/png": "[encoded data removed]",
      "text/plain": [
       "<Figure size 432x288 with 1 Axes>"
      ]
     },
     "metadata": {
      "needs_background": "light"
     },
     "output_type": "display_data"
    }
   ],
   "source": [
    "input_csv_path = r\"C:\\Users\\ramak\\Desktop\\Map_generalization_Douglus_peucker\\pre_generalized_shapefiles\\Idaho.csv\"\n",
    "to_shape(input_csv_path)"
   ]
  },
  {
   "cell_type": "code",
   "execution_count": 17,
   "id": "ada99a68",
   "metadata": {},
   "outputs": [
    {
     "name": "stdout",
     "output_type": "stream",
     "text": [
      "        Longitude   Latitude                     geometry\n",
      "0     -116.049086  49.000846  POINT (-116.04909 49.00085)\n",
      "1     -116.049087  49.000671  POINT (-116.04909 49.00067)\n",
      "2     -116.049087  49.000147  POINT (-116.04909 49.00015)\n",
      "3     -116.049087  48.999973  POINT (-116.04909 48.99997)\n",
      "4     -116.049086  48.999935  POINT (-116.04909 48.99993)\n",
      "...           ...        ...                          ...\n",
      "35237 -116.051729  49.000893  POINT (-116.05173 49.00089)\n",
      "35238 -116.049418  49.000911  POINT (-116.04942 49.00091)\n",
      "35239 -116.049350  49.000897  POINT (-116.04935 49.00090)\n",
      "35240 -116.049153  49.000858  POINT (-116.04915 49.00086)\n",
      "35241 -116.049086  49.000846  POINT (-116.04909 49.00085)\n",
      "\n",
      "[35242 rows x 3 columns]\n"
     ]
    }
   ],
   "source": [
    "cord_df = pd.read_csv( r\"C:\\Users\\ramak\\Desktop\\Map_generalization_Douglus_peucker\\pre_generalized_shapefiles\\Idaho.csv\")\n",
    "\n",
    "geometry = [Point(xy) for xy in zip(cord_df['Longitude'], cord_df['Latitude'])]\n",
    "cord_gdf = gpd.GeoDataFrame(cord_df, geometry=geometry)\n",
    "\n",
    "print(cord_gdf)"
   ]
  },
  {
   "cell_type": "code",
   "execution_count": 18,
   "id": "57e2ee8c",
   "metadata": {},
   "outputs": [
    {
     "data": {
      "image/png": "[encoded data removed]",
      "text/plain": [
       "<Figure size 432x288 with 1 Axes>"
      ]
     },
     "metadata": {
      "needs_background": "light"
     },
     "output_type": "display_data"
    }
   ],
   "source": [
    "cord_gdf.plot(color='blue', linewidth=0.05)\n",
    "\n",
    "plt.show()"
   ]
  },
  {
   "cell_type": "code",
   "execution_count": null,
   "id": "51037836",
   "metadata": {},
   "outputs": [],
   "source": []
  }
 ],
 "metadata": {
  "kernelspec": {
   "display_name": "Python 3 (ipykernel)",
   "language": "python",
   "name": "python3"
  },
  "language_info": {
   "codemirror_mode": {
    "name": "ipython",
    "version": 3
   },
   "file_extension": ".py",
   "mimetype": "text/x-python",
   "name": "python",
   "nbconvert_exporter": "python",
   "pygments_lexer": "ipython3",
   "version": "3.9.7"
  }
 },
 "nbformat": 4,
 "nbformat_minor": 5
}
