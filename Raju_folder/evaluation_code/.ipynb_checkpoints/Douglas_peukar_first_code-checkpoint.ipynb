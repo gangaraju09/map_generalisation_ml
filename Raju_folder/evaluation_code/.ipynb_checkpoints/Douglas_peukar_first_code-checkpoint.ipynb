{
 "cells": [
  {
   "cell_type": "markdown",
   "id": "a08b2c69",
   "metadata": {},
   "source": [
    "## Importing required libraries"
   ]
  },
  {
   "cell_type": "code",
   "execution_count": 1,
   "id": "1285b920",
   "metadata": {},
   "outputs": [],
   "source": [
    "import pandas as pd\n",
    "import numpy as np\n",
    "import geopandas as gpd\n",
    "import shapely\n",
    "import matplotlib.pyplot as plt\n",
    "from shapely.geometry import mapping\n",
    "from shapely.geometry import Point, Polygon"
   ]
  },
  {
   "cell_type": "markdown",
   "id": "7f0b4f0f",
   "metadata": {},
   "source": [
    "## Definition to visualize the shapefile"
   ]
  },
  {
   "cell_type": "code",
   "execution_count": 2,
   "id": "ada70f8c",
   "metadata": {},
   "outputs": [],
   "source": [
    "def plot_shapefile(shapefile_path):\n",
    "    shapefile = gpd.read_file(shapefile_path)\n",
    "    shapefile.plot()"
   ]
  },
  {
   "cell_type": "code",
   "execution_count": 3,
   "id": "e9c2a9ab",
   "metadata": {},
   "outputs": [
    {
     "data": {
      "image/png": "[encoded data removed]",
      "text/plain": [
       "<Figure size 432x288 with 1 Axes>"
      ]
     },
     "metadata": {
      "needs_background": "light"
     },
     "output_type": "display_data"
    }
   ],
   "source": [
    "shapefile_path = r\"C:\\Users\\ramak\\Documents\\GitHub\\map_generalisation_ml\\Pregeneralized_Shapefiles\\Maine.shp\"\n",
    "plot_shapefile(shapefile_path)"
   ]
  },
  {
   "cell_type": "code",
   "execution_count": 18,
   "id": "fa85c652",
   "metadata": {},
   "outputs": [
    {
     "data": {
      "text/html": [
       "<div>\n",
       "<style scoped>\n",
       "    .dataframe tbody tr th:only-of-type {\n",
       "        vertical-align: middle;\n",
       "    }\n",
       "\n",
       "    .dataframe tbody tr th {\n",
       "        vertical-align: top;\n",
       "    }\n",
       "\n",
       "    .dataframe thead th {\n",
       "        text-align: right;\n",
       "    }\n",
       "</style>\n",
       "<table border=\"1\" class=\"dataframe\">\n",
       "  <thead>\n",
       "    <tr style=\"text-align: right;\">\n",
       "      <th></th>\n",
       "      <th>GISJOIN</th>\n",
       "      <th>REGION</th>\n",
       "      <th>DIVISION</th>\n",
       "      <th>STATEFP</th>\n",
       "      <th>STATENS</th>\n",
       "      <th>GEOID</th>\n",
       "      <th>STUSPS</th>\n",
       "      <th>NAME</th>\n",
       "      <th>LSAD</th>\n",
       "      <th>MTFCC</th>\n",
       "      <th>FUNCSTAT</th>\n",
       "      <th>ALAND</th>\n",
       "      <th>AWATER</th>\n",
       "      <th>INTPTLAT</th>\n",
       "      <th>INTPTLON</th>\n",
       "      <th>Shape_Leng</th>\n",
       "      <th>Shape_Area</th>\n",
       "      <th>geometry</th>\n",
       "    </tr>\n",
       "  </thead>\n",
       "  <tbody>\n",
       "    <tr>\n",
       "      <th>0</th>\n",
       "      <td>G060</td>\n",
       "      <td>4</td>\n",
       "      <td>9</td>\n",
       "      <td>06</td>\n",
       "      <td>01779778</td>\n",
       "      <td>06</td>\n",
       "      <td>CA</td>\n",
       "      <td>California</td>\n",
       "      <td>00</td>\n",
       "      <td>G4000</td>\n",
       "      <td>A</td>\n",
       "      <td>4.035039e+11</td>\n",
       "      <td>2.046387e+10</td>\n",
       "      <td>+37.1551773</td>\n",
       "      <td>-119.5434183</td>\n",
       "      <td>6.248368e+06</td>\n",
       "      <td>4.094095e+11</td>\n",
       "      <td>MULTIPOLYGON (((-117.21219 32.77510, -117.2116...</td>\n",
       "    </tr>\n",
       "  </tbody>\n",
       "</table>\n",
       "</div>"
      ],
      "text/plain": [
       "  GISJOIN REGION DIVISION STATEFP   STATENS GEOID STUSPS        NAME LSAD   \n",
       "0    G060      4        9      06  01779778    06     CA  California   00  \\\n",
       "\n",
       "   MTFCC FUNCSTAT         ALAND        AWATER     INTPTLAT      INTPTLON   \n",
       "0  G4000        A  4.035039e+11  2.046387e+10  +37.1551773  -119.5434183  \\\n",
       "\n",
       "     Shape_Leng    Shape_Area   \n",
       "0  6.248368e+06  4.094095e+11  \\\n",
       "\n",
       "                                            geometry  \n",
       "0  MULTIPOLYGON (((-117.21219 32.77510, -117.2116...  "
      ]
     },
     "execution_count": 18,
     "metadata": {},
     "output_type": "execute_result"
    }
   ],
   "source": [
    "maine_gdf = gpd.read_file('C:/Users/ramak/Documents/GitHub/map_generalisation_ml/Pregeneralized_Shapefiles/California.shp')\n",
    "maine_gdf.head(1)"
   ]
  },
  {
   "cell_type": "markdown",
   "id": "3dba86c8",
   "metadata": {},
   "source": [
    "## Definition to extract number of points/vertices in a Shapefile and storing points in CSV"
   ]
  },
  {
   "cell_type": "code",
   "execution_count": 4,
   "id": "cd2fe937",
   "metadata": {},
   "outputs": [],
   "source": [
    "def count_shapefile_points(shapefile_path):\n",
    "    \n",
    "    output_csv_path = shapefile_path.replace(\".shp\", \".csv\")\n",
    "    \n",
    "    idaho_shp = gpd.read_file(shapefile_path)\n",
    "    total_points = 0\n",
    "    \n",
    "    for index, row in idaho_shp.iterrows():\n",
    "        shape = row['geometry']\n",
    "        points = mapping(shape)['coordinates']\n",
    "        total_points += len(points[0])\n",
    "        \n",
    "        #to_csv\n",
    "        pts_list = list(map(lambda x: [x[0], x[1]], points[0]) )\n",
    "        tuple_cord_df = pd.DataFrame(pts_list, columns=['Longitude', 'Latitude'])\n",
    "        tuple_cord_df.to_csv(output_csv_path,  index=False)\n",
    "        \n",
    "    print(f\"Points written to {output_csv_path} successfully.\")    \n",
    "    return print(\"Total number of points/vertices of a given Shapefile is:\", total_points)\n",
    "    "
   ]
  },
  {
   "cell_type": "code",
   "execution_count": 5,
   "id": "a9d86548",
   "metadata": {},
   "outputs": [
    {
     "name": "stdout",
     "output_type": "stream",
     "text": [
      "Points written to C:\\Users\\ramak\\Documents\\GitHub\\map_generalisation_ml\\Pregeneralized_Shapefiles\\Maine.csv successfully.\n",
      "Total number of points/vertices of a given Shapefile is: 22945\n"
     ]
    }
   ],
   "source": [
    "shapefile_path = r\"C:\\Users\\ramak\\Documents\\GitHub\\map_generalisation_ml\\Pregeneralized_Shapefiles\\Maine.shp\"\n",
    "total_points = count_shapefile_points(shapefile_path)"
   ]
  },
  {
   "cell_type": "markdown",
   "id": "d754df91",
   "metadata": {},
   "source": [
    "## Definition to form a shape from the obtained geometric points"
   ]
  },
  {
   "attachments": {
    "image.png": {
     "image/png": "[encoded data removed]"
    }
   },
   "cell_type": "markdown",
   "id": "ac49242a",
   "metadata": {},
   "source": [
    "Example csv format ![image.png](attachment:image.png)"
   ]
  },
  {
   "cell_type": "code",
   "execution_count": 12,
   "id": "bcf6730f",
   "metadata": {},
   "outputs": [],
   "source": [
    "def to_shape(input_csv_path):\n",
    "    cord_df = pd.read_csv(input_csv_path )\n",
    "\n",
    "    geometry = [Point(xy) for xy in zip(cord_df['Longitude'], cord_df['Latitude'])]\n",
    "    #geometry = [Point(row.Longitude, row.Latitude) for row in cord_df.itertuples()]\n",
    "    geometry = Polygon([[p.x,p.y] for p in geometry])\n",
    "    cord_gdf = gpd.GeoDataFrame(index=[0], crs=4326, geometry=[geometry])\n",
    "    cord_gdf.to_file(r\"C:\\Users\\ramak\\Documents\\GitHub\\map_generalisation_ml\\Pregeneralized_Shapefiles\\remove_multipolygons\\maine_output.shp\")\n",
    "    plt.show()\n",
    "    return cord_gdf.plot(color='blue', linewidth=0.05)"
   ]
  },
  {
   "cell_type": "code",
   "execution_count": 13,
   "id": "ca233a10",
   "metadata": {},
   "outputs": [
    {
     "data": {
      "text/plain": [
       "<Axes: >"
      ]
     },
     "execution_count": 13,
     "metadata": {},
     "output_type": "execute_result"
    },
    {
     "data": {
      "image/png": "[encoded data removed]",
      "text/plain": [
       "<Figure size 432x288 with 1 Axes>"
      ]
     },
     "metadata": {
      "needs_background": "light"
     },
     "output_type": "display_data"
    }
   ],
   "source": [
    "input_csv_path = r\"C:\\Users\\ramak\\Documents\\GitHub\\map_generalisation_ml\\Pregeneralized_Shapefiles\\Maine.csv\"\n",
    "to_shape(input_csv_path)"
   ]
  },
  {
   "cell_type": "code",
   "execution_count": null,
   "id": "a3b2df51",
   "metadata": {},
   "outputs": [],
   "source": []
  }
 ],
 "metadata": {
  "kernelspec": {
   "display_name": "Python 3 (ipykernel)",
   "language": "python",
   "name": "python3"
  },
  "language_info": {
   "codemirror_mode": {
    "name": "ipython",
    "version": 3
   },
   "file_extension": ".py",
   "mimetype": "text/x-python",
   "name": "python",
   "nbconvert_exporter": "python",
   "pygments_lexer": "ipython3",
   "version": "3.9.7"
  }
 },
 "nbformat": 4,
 "nbformat_minor": 5
}
