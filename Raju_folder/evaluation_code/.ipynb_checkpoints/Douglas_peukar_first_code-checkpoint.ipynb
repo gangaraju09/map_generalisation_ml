{
 "cells": [
  {
   "cell_type": "markdown",
   "id": "a08b2c69",
   "metadata": {},
   "source": [
    "## Importing required libraries"
   ]
  },
  {
   "cell_type": "code",
   "execution_count": 25,
   "id": "1285b920",
   "metadata": {},
   "outputs": [],
   "source": [
    "import pandas as pd\n",
    "import numpy as np\n",
    "import geopandas as gpd\n",
    "import shapely\n",
    "import matplotlib.pyplot as plt\n",
    "from shapely.geometry import mapping\n",
    "from shapely.geometry import Point, Polygon"
   ]
  },
  {
   "cell_type": "markdown",
   "id": "7f0b4f0f",
   "metadata": {},
   "source": [
    "## Definition to visualize the shapefile"
   ]
  },
  {
   "cell_type": "code",
   "execution_count": 19,
   "id": "ada70f8c",
   "metadata": {},
   "outputs": [],
   "source": [
    "def plot_shapefile(shapefile_path):\n",
    "    shapefile = gpd.read_file(shapefile_path)\n",
    "    shapefile.plot()"
   ]
  },
  {
   "cell_type": "code",
   "execution_count": 20,
   "id": "e9c2a9ab",
   "metadata": {},
   "outputs": [
    {
     "data": {
      "image/png": "[encoded data removed]",
      "text/plain": [
       "<Figure size 432x288 with 1 Axes>"
      ]
     },
     "metadata": {
      "needs_background": "light"
     },
     "output_type": "display_data"
    }
   ],
   "source": [
    "shapefile_path = r\"C:\\Users\\ramak\\Documents\\GitHub\\map_generalisation_ml\\Pregeneralized_Shapefiles\\Maine.shp\"\n",
    "plot_shapefile(shapefile_path)"
   ]
  },
  {
   "cell_type": "markdown",
   "id": "3dba86c8",
   "metadata": {},
   "source": [
    "## Definition to extract number of points/vertices in a Shapefile and storing points in CSV"
   ]
  },
  {
   "cell_type": "code",
   "execution_count": 5,
   "id": "cd2fe937",
   "metadata": {},
   "outputs": [],
   "source": [
    "def count_shapefile_points(shapefile_path):\n",
    "    \n",
    "    output_csv_path = shapefile_path.replace(\".shp\", \".csv\")\n",
    "    \n",
    "    idaho_shp = gpd.read_file(shapefile_path)\n",
    "    total_points = 0\n",
    "    \n",
    "    for index, row in idaho_shp.iterrows():\n",
    "        shape = row['geometry']\n",
    "        points = mapping(shape)['coordinates']\n",
    "        total_points += len(points[0])\n",
    "        \n",
    "        #to_csv\n",
    "        pts_list = list(map(lambda x: [x[0], x[1]], points[0]) )\n",
    "        tuple_cord_df = pd.DataFrame(pts_list, columns=['Longitude', 'Latitude'])\n",
    "        tuple_cord_df.to_csv(output_csv_path,  index=False)\n",
    "        \n",
    "    print(f\"Points written to {output_csv_path} successfully.\")    \n",
    "    return print(\"Total number of points/vertices of a given Shapefile is:\", total_points)\n",
    "    "
   ]
  },
  {
   "cell_type": "code",
   "execution_count": 18,
   "id": "a9d86548",
   "metadata": {},
   "outputs": [
    {
     "name": "stdout",
     "output_type": "stream",
     "text": [
      "Points written to C:\\Users\\ramak\\Documents\\GitHub\\map_generalisation_ml\\Pregeneralized_Shapefiles\\Maine.csv successfully.\n",
      "Total number of points/vertices of a given Shapefile is: 22945\n"
     ]
    }
   ],
   "source": [
    "shapefile_path = r\"C:\\Users\\ramak\\Documents\\GitHub\\map_generalisation_ml\\Pregeneralized_Shapefiles\\Maine.shp\"\n",
    "total_points = count_shapefile_points(shapefile_path)"
   ]
  },
  {
   "cell_type": "markdown",
   "id": "d754df91",
   "metadata": {},
   "source": [
    "## Definition to form a shape from the obtained geometric points"
   ]
  },
  {
   "attachments": {
    "image.png": {
     "image/png": "[encoded data removed]"
    }
   },
   "cell_type": "markdown",
   "id": "ac49242a",
   "metadata": {},
   "source": [
    "Example csv format ![image.png](attachment:image.png)"
   ]
  },
  {
   "cell_type": "code",
   "execution_count": 32,
   "id": "bcf6730f",
   "metadata": {},
   "outputs": [],
   "source": [
    "def to_shape(input_csv_path):\n",
    "    cord_df = pd.read_csv(input_csv_path )\n",
    "\n",
    "#     geometry = [Point(xy) for xy in zip(cord_df['Longitude'], cord_df['Latitude'])]\n",
    "    geometry = [Point(row.Longitude, row.Latitude) for row in cord_df.itertuples()]\n",
    "    geometry = Polygon(geometry)\n",
    "    cord_gdf = gpd.GeoDataFrame(cord_df, geometry=geometry)\n",
    "    cord_gdf.to_file(r\"C:\\Users\\ramak\\Documents\\GitHub\\map_generalisation_ml\\Pregeneralized_Shapefiles\\remove_multipolygons\\maine_output.shp\")\n",
    "    plt.show()\n",
    "    return cord_gdf.plot(color='blue', linewidth=0.05)"
   ]
  },
  {
   "cell_type": "code",
   "execution_count": 33,
   "id": "ca233a10",
   "metadata": {},
   "outputs": [
    {
     "ename": "ValueError",
     "evalue": "Inconsistent coordinate dimensionality",
     "output_type": "error",
     "traceback": [
      "\u001b[1;31m---------------------------------------------------------------------------\u001b[0m",
      "\u001b[1;31mValueError\u001b[0m                                Traceback (most recent call last)",
      "\u001b[1;32m~\\AppData\\Local\\Temp/ipykernel_22032/2360610766.py\u001b[0m in \u001b[0;36m<module>\u001b[1;34m\u001b[0m\n\u001b[0;32m      1\u001b[0m \u001b[0minput_csv_path\u001b[0m \u001b[1;33m=\u001b[0m \u001b[1;34mr\"C:\\Users\\ramak\\Documents\\GitHub\\map_generalisation_ml\\Pregeneralized_Shapefiles\\Maine.csv\"\u001b[0m\u001b[1;33m\u001b[0m\u001b[1;33m\u001b[0m\u001b[0m\n\u001b[1;32m----> 2\u001b[1;33m \u001b[0mto_shape\u001b[0m\u001b[1;33m(\u001b[0m\u001b[0minput_csv_path\u001b[0m\u001b[1;33m)\u001b[0m\u001b[1;33m\u001b[0m\u001b[1;33m\u001b[0m\u001b[0m\n\u001b[0m",
      "\u001b[1;32m~\\AppData\\Local\\Temp/ipykernel_22032/2993509440.py\u001b[0m in \u001b[0;36mto_shape\u001b[1;34m(input_csv_path)\u001b[0m\n\u001b[0;32m      4\u001b[0m \u001b[1;31m#     geometry = [Point(xy) for xy in zip(cord_df['Longitude'], cord_df['Latitude'])]\u001b[0m\u001b[1;33m\u001b[0m\u001b[1;33m\u001b[0m\u001b[0m\n\u001b[0;32m      5\u001b[0m     \u001b[0mgeometry\u001b[0m \u001b[1;33m=\u001b[0m \u001b[1;33m[\u001b[0m\u001b[0mPoint\u001b[0m\u001b[1;33m(\u001b[0m\u001b[0mrow\u001b[0m\u001b[1;33m.\u001b[0m\u001b[0mLongitude\u001b[0m\u001b[1;33m,\u001b[0m \u001b[0mrow\u001b[0m\u001b[1;33m.\u001b[0m\u001b[0mLatitude\u001b[0m\u001b[1;33m)\u001b[0m \u001b[1;32mfor\u001b[0m \u001b[0mrow\u001b[0m \u001b[1;32min\u001b[0m \u001b[0mcord_df\u001b[0m\u001b[1;33m.\u001b[0m\u001b[0mitertuples\u001b[0m\u001b[1;33m(\u001b[0m\u001b[1;33m)\u001b[0m\u001b[1;33m]\u001b[0m\u001b[1;33m\u001b[0m\u001b[1;33m\u001b[0m\u001b[0m\n\u001b[1;32m----> 6\u001b[1;33m     \u001b[0mgeometry\u001b[0m \u001b[1;33m=\u001b[0m \u001b[0mPolygon\u001b[0m\u001b[1;33m(\u001b[0m\u001b[0mgeometry\u001b[0m\u001b[1;33m)\u001b[0m\u001b[1;33m\u001b[0m\u001b[1;33m\u001b[0m\u001b[0m\n\u001b[0m\u001b[0;32m      7\u001b[0m     \u001b[0mcord_gdf\u001b[0m \u001b[1;33m=\u001b[0m \u001b[0mgpd\u001b[0m\u001b[1;33m.\u001b[0m\u001b[0mGeoDataFrame\u001b[0m\u001b[1;33m(\u001b[0m\u001b[0mcord_df\u001b[0m\u001b[1;33m,\u001b[0m \u001b[0mgeometry\u001b[0m\u001b[1;33m=\u001b[0m\u001b[0mgeometry\u001b[0m\u001b[1;33m)\u001b[0m\u001b[1;33m\u001b[0m\u001b[1;33m\u001b[0m\u001b[0m\n\u001b[0;32m      8\u001b[0m     \u001b[0mcord_gdf\u001b[0m\u001b[1;33m.\u001b[0m\u001b[0mto_file\u001b[0m\u001b[1;33m(\u001b[0m\u001b[1;34mr\"C:\\Users\\ramak\\Documents\\GitHub\\map_generalisation_ml\\Pregeneralized_Shapefiles\\remove_multipolygons\\maine_output.shp\"\u001b[0m\u001b[1;33m)\u001b[0m\u001b[1;33m\u001b[0m\u001b[1;33m\u001b[0m\u001b[0m\n",
      "\u001b[1;32m~\\AppData\\Roaming\\Python\\Python39\\site-packages\\shapely\\geometry\\polygon.py\u001b[0m in \u001b[0;36m__new__\u001b[1;34m(self, shell, holes)\u001b[0m\n\u001b[0;32m    249\u001b[0m                 \u001b[1;31m# conversion of coords to 2D array failed, this might be due\u001b[0m\u001b[1;33m\u001b[0m\u001b[1;33m\u001b[0m\u001b[0m\n\u001b[0;32m    250\u001b[0m                 \u001b[1;31m# to inconsistent coordinate dimensionality\u001b[0m\u001b[1;33m\u001b[0m\u001b[1;33m\u001b[0m\u001b[0m\n\u001b[1;32m--> 251\u001b[1;33m                 \u001b[1;32mraise\u001b[0m \u001b[0mValueError\u001b[0m\u001b[1;33m(\u001b[0m\u001b[1;34m\"Inconsistent coordinate dimensionality\"\u001b[0m\u001b[1;33m)\u001b[0m\u001b[1;33m\u001b[0m\u001b[1;33m\u001b[0m\u001b[0m\n\u001b[0m\u001b[0;32m    252\u001b[0m         \u001b[1;32melif\u001b[0m \u001b[1;32mnot\u001b[0m \u001b[0misinstance\u001b[0m\u001b[1;33m(\u001b[0m\u001b[0mshell\u001b[0m\u001b[1;33m,\u001b[0m \u001b[0mLinearRing\u001b[0m\u001b[1;33m)\u001b[0m\u001b[1;33m:\u001b[0m\u001b[1;33m\u001b[0m\u001b[1;33m\u001b[0m\u001b[0m\n\u001b[0;32m    253\u001b[0m             \u001b[0mshell\u001b[0m \u001b[1;33m=\u001b[0m \u001b[0mLinearRing\u001b[0m\u001b[1;33m(\u001b[0m\u001b[0mshell\u001b[0m\u001b[1;33m)\u001b[0m\u001b[1;33m\u001b[0m\u001b[1;33m\u001b[0m\u001b[0m\n",
      "\u001b[1;31mValueError\u001b[0m: Inconsistent coordinate dimensionality"
     ]
    }
   ],
   "source": [
    "input_csv_path = r\"C:\\Users\\ramak\\Documents\\GitHub\\map_generalisation_ml\\Pregeneralized_Shapefiles\\Maine.csv\"\n",
    "to_shape(input_csv_path)"
   ]
  },
  {
   "cell_type": "code",
   "execution_count": null,
   "id": "a3b2df51",
   "metadata": {},
   "outputs": [],
   "source": []
  }
 ],
 "metadata": {
  "kernelspec": {
   "display_name": "Python 3 (ipykernel)",
   "language": "python",
   "name": "python3"
  },
  "language_info": {
   "codemirror_mode": {
    "name": "ipython",
    "version": 3
   },
   "file_extension": ".py",
   "mimetype": "text/x-python",
   "name": "python",
   "nbconvert_exporter": "python",
   "pygments_lexer": "ipython3",
   "version": "3.9.7"
  }
 },
 "nbformat": 4,
 "nbformat_minor": 5
}
