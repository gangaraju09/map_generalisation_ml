{
 "cells": [
  {
   "cell_type": "markdown",
   "id": "a08b2c69",
   "metadata": {},
   "source": [
    "## Importing required libraries"
   ]
  },
  {
   "cell_type": "code",
   "execution_count": 38,
   "id": "1285b920",
   "metadata": {},
   "outputs": [],
   "source": [
    "import pandas as pd\n",
    "import numpy as np\n",
    "import geopandas as gpd\n",
    "import shapely\n",
    "import matplotlib.pyplot as plt\n",
    "from shapely.geometry import mapping\n",
    "from shapely.geometry import Point, Polygon"
   ]
  },
  {
   "cell_type": "markdown",
   "id": "7f0b4f0f",
   "metadata": {},
   "source": [
    "## Definition to visualize the shapefile"
   ]
  },
  {
   "cell_type": "code",
   "execution_count": 5,
   "id": "ada70f8c",
   "metadata": {},
   "outputs": [],
   "source": [
    "def plot_shapefile(shapefile_path):\n",
    "    shapefile = gpd.read_file(shapefile_path)\n",
    "    shapefile.plot()"
   ]
  },
  {
   "cell_type": "code",
   "execution_count": 6,
   "id": "e9c2a9ab",
   "metadata": {},
   "outputs": [
    {
     "data": {
      "image/png": "[encoded data removed]",
      "text/plain": [
       "<Figure size 432x288 with 1 Axes>"
      ]
     },
     "metadata": {
      "needs_background": "light"
     },
     "output_type": "display_data"
    }
   ],
   "source": [
    "shapefile_path = r\"C:\\Users\\ramak\\Documents\\GitHub\\map_generalisation_ml\\Pregeneralized_Shapefiles\\Maine.shp\"\n",
    "plot_shapefile(shapefile_path)"
   ]
  },
  {
   "cell_type": "markdown",
   "id": "fea00b9f",
   "metadata": {},
   "source": [
    "### Polygon Position check"
   ]
  },
  {
   "cell_type": "code",
   "execution_count": null,
   "id": "f65ad6c8",
   "metadata": {},
   "outputs": [],
   "source": [
    "\n",
    "shape_gdf = gpd.read_file(shapefile_path)\n",
    "    shape_geom = shape_gdf.geometry[0]\n",
    "    polygons = list(shape_geom.geoms)\n",
    "    single_polygon = polygons[polygon_position]"
   ]
  },
  {
   "cell_type": "code",
   "execution_count": 45,
   "id": "fa85c652",
   "metadata": {},
   "outputs": [],
   "source": [
    "def extract_single_polygon(shapefile_path, polygon_position, output_path):\n",
    "    shape_gdf = gpd.read_file(shapefile_path)\n",
    "    shape_geom = shape_gdf.geometry[0]\n",
    "    polygons = list(shape_geom.geoms)\n",
    "    single_polygon = polygons[polygon_position]\n",
    "    single_polygon_gdf = gpd.GeoDataFrame({'geometry': [single_polygon]}, crs=shape_gdf.crs)\n",
    "    single_polygon_gdf.to_file(output_path)\n",
    "    print(\"Single polygon extracted from the given shaapefile\")\n",
    "    print(\"Number of multipolygons in given shapefile is\", len(polygons))\n",
    "    "
   ]
  },
  {
   "cell_type": "code",
   "execution_count": 46,
   "id": "452e2ad4",
   "metadata": {},
   "outputs": [
    {
     "name": "stdout",
     "output_type": "stream",
     "text": [
      "Single polygon extracted from the given shaapefile\n",
      "Number of multipolygons in given shapefile is 1506\n"
     ]
    }
   ],
   "source": [
    "shapefile_path = r\"C:\\Users\\ramak\\Documents\\GitHub\\map_generalisation_ml\\Pregeneralized_Shapefiles\\Maine.shp\"\n",
    "output_path = r\"C:\\Users\\ramak\\Documents\\GitHub\\map_generalisation_ml\\Pregeneralized_Shapefiles\\remove_multipolygons\\maine_output.shp\"\n",
    "polygon_position = -1\n",
    "\n",
    "extract_single_polygon(shapefile_path, polygon_position, output_path)"
   ]
  },
  {
   "cell_type": "markdown",
   "id": "3dba86c8",
   "metadata": {},
   "source": [
    "## Definition to extract number of points/vertices in a Shapefile and storing points in CSV"
   ]
  },
  {
   "cell_type": "code",
   "execution_count": 2,
   "id": "cd2fe937",
   "metadata": {},
   "outputs": [],
   "source": [
    "def count_shapefile_points(shapefile_path):\n",
    "    \n",
    "    output_csv_path = shapefile_path.replace(\".shp\", \".csv\")\n",
    "    \n",
    "    idaho_shp = gpd.read_file(shapefile_path)\n",
    "    total_points = 0\n",
    "    \n",
    "    for index, row in idaho_shp.iterrows():\n",
    "        shape = row['geometry']\n",
    "        points = mapping(shape)['coordinates']\n",
    "        total_points += len(points[0])\n",
    "        \n",
    "        #to_csv\n",
    "        pts_list = list(map(lambda x: [x[0], x[1]], points[0]) )\n",
    "        tuple_cord_df = pd.DataFrame(pts_list, columns=['Longitude', 'Latitude'])\n",
    "        tuple_cord_df.to_csv(output_csv_path,  index=False)\n",
    "        \n",
    "    print(f\"Points written to {output_csv_path} successfully.\")    \n",
    "    return print(\"Total number of points/vertices of a given Shapefile is:\", total_points)\n",
    "    "
   ]
  },
  {
   "cell_type": "code",
   "execution_count": 3,
   "id": "a9d86548",
   "metadata": {},
   "outputs": [
    {
     "name": "stdout",
     "output_type": "stream",
     "text": [
      "Points written to C:\\Users\\ramak\\Documents\\GitHub\\map_generalisation_ml\\Pregeneralized_Shapefiles\\Maine.csv successfully.\n",
      "Total number of points/vertices of a given Shapefile is: 1\n"
     ]
    }
   ],
   "source": [
    "shapefile_path = r\"C:\\Users\\ramak\\Documents\\GitHub\\map_generalisation_ml\\Pregeneralized_Shapefiles\\Maine.shp\"\n",
    "total_points = count_shapefile_points(shapefile_path)"
   ]
  },
  {
   "cell_type": "markdown",
   "id": "d754df91",
   "metadata": {},
   "source": [
    "## Definition to form a shape from the obtained geometric points"
   ]
  },
  {
   "attachments": {
    "image.png": {
     "image/png": "[encoded data removed]"
    }
   },
   "cell_type": "markdown",
   "id": "ac49242a",
   "metadata": {},
   "source": [
    "Example csv format ![image.png](attachment:image.png)"
   ]
  },
  {
   "cell_type": "code",
   "execution_count": 12,
   "id": "bcf6730f",
   "metadata": {},
   "outputs": [],
   "source": [
    "def to_shape(input_csv_path):\n",
    "    cord_df = pd.read_csv(input_csv_path )\n",
    "\n",
    "    geometry = [Point(xy) for xy in zip(cord_df['Longitude'], cord_df['Latitude'])]\n",
    "    #geometry = [Point(row.Longitude, row.Latitude) for row in cord_df.itertuples()]\n",
    "    geometry = Polygon([[p.x,p.y] for p in geometry])\n",
    "    cord_gdf = gpd.GeoDataFrame(index=[0], crs=4326, geometry=[geometry])\n",
    "    cord_gdf.to_file(r\"C:\\Users\\ramak\\Documents\\GitHub\\map_generalisation_ml\\Pregeneralized_Shapefiles\\remove_multipolygons\\maine_output.shp\")\n",
    "    plt.show()\n",
    "    return cord_gdf.plot(color='blue', linewidth=0.05)"
   ]
  },
  {
   "cell_type": "code",
   "execution_count": 13,
   "id": "ca233a10",
   "metadata": {},
   "outputs": [
    {
     "data": {
      "text/plain": [
       "<Axes: >"
      ]
     },
     "execution_count": 13,
     "metadata": {},
     "output_type": "execute_result"
    },
    {
     "data": {
      "image/png": "[encoded data removed]",
      "text/plain": [
       "<Figure size 432x288 with 1 Axes>"
      ]
     },
     "metadata": {
      "needs_background": "light"
     },
     "output_type": "display_data"
    }
   ],
   "source": [
    "input_csv_path = r\"C:\\Users\\ramak\\Documents\\GitHub\\map_generalisation_ml\\Pregeneralized_Shapefiles\\Maine.csv\"\n",
    "to_shape(input_csv_path)"
   ]
  },
  {
   "cell_type": "code",
   "execution_count": null,
   "id": "a3b2df51",
   "metadata": {},
   "outputs": [],
   "source": []
  }
 ],
 "metadata": {
  "kernelspec": {
   "display_name": "Python 3 (ipykernel)",
   "language": "python",
   "name": "python3"
  },
  "language_info": {
   "codemirror_mode": {
    "name": "ipython",
    "version": 3
   },
   "file_extension": ".py",
   "mimetype": "text/x-python",
   "name": "python",
   "nbconvert_exporter": "python",
   "pygments_lexer": "ipython3",
   "version": "3.9.7"
  }
 },
 "nbformat": 4,
 "nbformat_minor": 5
}
