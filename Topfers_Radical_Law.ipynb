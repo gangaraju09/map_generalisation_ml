{
 "cells": [
  {
   "cell_type": "code",
   "execution_count": 14,
   "id": "4db59601",
   "metadata": {},
   "outputs": [],
   "source": [
    "import pandas as pd\n",
    "import geopandas as gpd\n",
    "from shapely import Point\n",
    "import matplotlib.pyplot as plt"
   ]
  },
  {
   "cell_type": "code",
   "execution_count": 2,
   "id": "846ac0a2",
   "metadata": {},
   "outputs": [],
   "source": [
    "df = pd.read_parquet(r'maine_pred_normalization.parquet')"
   ]
  },
  {
   "cell_type": "code",
   "execution_count": 3,
   "id": "baba0fd2",
   "metadata": {},
   "outputs": [
    {
     "data": {
      "text/html": [
       "<div>\n",
       "<style scoped>\n",
       "    .dataframe tbody tr th:only-of-type {\n",
       "        vertical-align: middle;\n",
       "    }\n",
       "\n",
       "    .dataframe tbody tr th {\n",
       "        vertical-align: top;\n",
       "    }\n",
       "\n",
       "    .dataframe thead th {\n",
       "        text-align: right;\n",
       "    }\n",
       "</style>\n",
       "<table border=\"1\" class=\"dataframe\">\n",
       "  <thead>\n",
       "    <tr style=\"text-align: right;\">\n",
       "      <th></th>\n",
       "      <th>Longitude</th>\n",
       "      <th>Latitude</th>\n",
       "      <th>len_forward</th>\n",
       "      <th>len_backward</th>\n",
       "      <th>angle</th>\n",
       "      <th>offset</th>\n",
       "      <th>area</th>\n",
       "      <th>arc</th>\n",
       "      <th>ratio1</th>\n",
       "      <th>ratio2</th>\n",
       "      <th>case</th>\n",
       "      <th>decision_tree_predicted</th>\n",
       "    </tr>\n",
       "  </thead>\n",
       "  <tbody>\n",
       "    <tr>\n",
       "      <th>0</th>\n",
       "      <td>-70.607901</td>\n",
       "      <td>42.979219</td>\n",
       "      <td>62.69</td>\n",
       "      <td>18.19</td>\n",
       "      <td>0.0</td>\n",
       "      <td>0.0</td>\n",
       "      <td>0.0</td>\n",
       "      <td>24.424197</td>\n",
       "      <td>0.056396</td>\n",
       "      <td>0.0</td>\n",
       "      <td>no</td>\n",
       "      <td>0</td>\n",
       "    </tr>\n",
       "  </tbody>\n",
       "</table>\n",
       "</div>"
      ],
      "text/plain": [
       "   Longitude   Latitude  len_forward  len_backward  angle  offset  area  \\\n",
       "0 -70.607901  42.979219        62.69         18.19    0.0     0.0   0.0   \n",
       "\n",
       "         arc    ratio1  ratio2 case  decision_tree_predicted  \n",
       "0  24.424197  0.056396     0.0   no                        0  "
      ]
     },
     "execution_count": 3,
     "metadata": {},
     "output_type": "execute_result"
    }
   ],
   "source": [
    "df.head(1)"
   ]
  },
  {
   "cell_type": "code",
   "execution_count": 5,
   "id": "2128fb68",
   "metadata": {},
   "outputs": [
    {
     "data": {
      "text/plain": [
       "Longitude                  float64\n",
       "Latitude                   float64\n",
       "len_forward                float64\n",
       "len_backward               float64\n",
       "angle                      float64\n",
       "offset                     float64\n",
       "area                       float64\n",
       "arc                        float64\n",
       "ratio1                     float64\n",
       "ratio2                     float64\n",
       "case                        object\n",
       "decision_tree_predicted      int64\n",
       "dtype: object"
      ]
     },
     "execution_count": 5,
     "metadata": {},
     "output_type": "execute_result"
    }
   ],
   "source": [
    "df.dtypes"
   ]
  },
  {
   "cell_type": "code",
   "execution_count": 6,
   "id": "364c1553",
   "metadata": {},
   "outputs": [],
   "source": [
    "gdf = gpd.GeoDataFrame(data=df, geometry= [ Point(row.Longitude,row.Latitude) for row in df.itertuples()] )"
   ]
  },
  {
   "cell_type": "code",
   "execution_count": 7,
   "id": "833e5039",
   "metadata": {},
   "outputs": [
    {
     "data": {
      "text/html": [
       "<div>\n",
       "<style scoped>\n",
       "    .dataframe tbody tr th:only-of-type {\n",
       "        vertical-align: middle;\n",
       "    }\n",
       "\n",
       "    .dataframe tbody tr th {\n",
       "        vertical-align: top;\n",
       "    }\n",
       "\n",
       "    .dataframe thead th {\n",
       "        text-align: right;\n",
       "    }\n",
       "</style>\n",
       "<table border=\"1\" class=\"dataframe\">\n",
       "  <thead>\n",
       "    <tr style=\"text-align: right;\">\n",
       "      <th></th>\n",
       "      <th>Longitude</th>\n",
       "      <th>Latitude</th>\n",
       "      <th>len_forward</th>\n",
       "      <th>len_backward</th>\n",
       "      <th>angle</th>\n",
       "      <th>offset</th>\n",
       "      <th>area</th>\n",
       "      <th>arc</th>\n",
       "      <th>ratio1</th>\n",
       "      <th>ratio2</th>\n",
       "      <th>case</th>\n",
       "      <th>decision_tree_predicted</th>\n",
       "      <th>geometry</th>\n",
       "    </tr>\n",
       "  </thead>\n",
       "  <tbody>\n",
       "    <tr>\n",
       "      <th>0</th>\n",
       "      <td>-70.607901</td>\n",
       "      <td>42.979219</td>\n",
       "      <td>62.69</td>\n",
       "      <td>18.19</td>\n",
       "      <td>0.0</td>\n",
       "      <td>0.0</td>\n",
       "      <td>0.0</td>\n",
       "      <td>24.424197</td>\n",
       "      <td>0.056396</td>\n",
       "      <td>0.0</td>\n",
       "      <td>no</td>\n",
       "      <td>0</td>\n",
       "      <td>POINT (-70.60790 42.97922)</td>\n",
       "    </tr>\n",
       "  </tbody>\n",
       "</table>\n",
       "</div>"
      ],
      "text/plain": [
       "   Longitude   Latitude  len_forward  len_backward  angle  offset  area  \\\n",
       "0 -70.607901  42.979219        62.69         18.19    0.0     0.0   0.0   \n",
       "\n",
       "         arc    ratio1  ratio2 case  decision_tree_predicted  \\\n",
       "0  24.424197  0.056396     0.0   no                        0   \n",
       "\n",
       "                     geometry  \n",
       "0  POINT (-70.60790 42.97922)  "
      ]
     },
     "execution_count": 7,
     "metadata": {},
     "output_type": "execute_result"
    }
   ],
   "source": [
    "gdf.head(1)"
   ]
  },
  {
   "cell_type": "code",
   "execution_count": 8,
   "id": "cb99e0b8",
   "metadata": {},
   "outputs": [],
   "source": [
    "gdf = gdf.set_crs(4326)"
   ]
  },
  {
   "cell_type": "code",
   "execution_count": 9,
   "id": "593d87bd",
   "metadata": {},
   "outputs": [
    {
     "data": {
      "text/plain": [
       "<Geographic 2D CRS: EPSG:4326>\n",
       "Name: WGS 84\n",
       "Axis Info [ellipsoidal]:\n",
       "- Lat[north]: Geodetic latitude (degree)\n",
       "- Lon[east]: Geodetic longitude (degree)\n",
       "Area of Use:\n",
       "- name: World.\n",
       "- bounds: (-180.0, -90.0, 180.0, 90.0)\n",
       "Datum: World Geodetic System 1984 ensemble\n",
       "- Ellipsoid: WGS 84\n",
       "- Prime Meridian: Greenwich"
      ]
     },
     "execution_count": 9,
     "metadata": {},
     "output_type": "execute_result"
    }
   ],
   "source": [
    "gdf.crs"
   ]
  },
  {
   "cell_type": "code",
   "execution_count": 12,
   "id": "786f33d1",
   "metadata": {},
   "outputs": [],
   "source": [
    "res = gdf.convex_hull"
   ]
  },
  {
   "cell_type": "code",
   "execution_count": 16,
   "id": "ae2dc1eb",
   "metadata": {},
   "outputs": [
    {
     "data": {
      "image/png": "[encoded data removed]",
      "text/plain": [
       "<Figure size 640x480 with 1 Axes>"
      ]
     },
     "metadata": {},
     "output_type": "display_data"
    }
   ],
   "source": [
    "res.plot(linewidth=0.01)\n",
    "\n",
    "plt.title(\"Maine\")\n",
    "plt.axis(\"off\")\n",
    "plt.show()"
   ]
  },
  {
   "cell_type": "code",
   "execution_count": 17,
   "id": "cb4ef283",
   "metadata": {},
   "outputs": [
    {
     "data": {
      "text/plain": [
       "(294371, 13)"
      ]
     },
     "execution_count": 17,
     "metadata": {},
     "output_type": "execute_result"
    }
   ],
   "source": [
    "gdf.shape"
   ]
  },
  {
   "cell_type": "markdown",
   "id": "4fb4bb44",
   "metadata": {},
   "source": [
    "### Applying Topfers Algorithm (Jiang et al 2013)"
   ]
  },
  {
   "cell_type": "code",
   "execution_count": 20,
   "id": "05b5c5d9",
   "metadata": {},
   "outputs": [],
   "source": [
    "def df_to_gdf(file):\n",
    "    try:\n",
    "        if file.endswith('.csv'):\n",
    "            df = pd.read_csv(file)\n",
    "            gdf = gpd.GeoDataFrame(data=df, geometry=[Point(row.Longitude,row.Latitude) for row in df.itertuples()])\n",
    "            gdf = gdf.set_crs(4326)\n",
    "            return gdf\n",
    "        if file.endswith('.parq') or file.endswith('.parquet'):\n",
    "            df = pd.read_parquet(file)\n",
    "            gdf = gpd.GeoDataFrame(data=df, geometry=[Point(row.Longitude,row.Latitude) for row in df.itertuples()])\n",
    "            gdf = gdf.set_crs(4326)\n",
    "            return gdf\n",
    "        else:\n",
    "            print('But yeah !! CSV or Parq is accepted')\n",
    "    except Exception as error:\n",
    "        print(f'An error occured:{error}')"
   ]
  },
  {
   "cell_type": "code",
   "execution_count": 21,
   "id": "71bd9fd0",
   "metadata": {},
   "outputs": [],
   "source": [
    "# Step1: Take the pre-generalized shapefile\n",
    "maine_pregen_gdf = df_to_gdf('Vertices_Labels/Maine.parq')"
   ]
  },
  {
   "cell_type": "code",
   "execution_count": null,
   "id": "032452a2",
   "metadata": {},
   "outputs": [],
   "source": [
    "maine_pregen_gdf()"
   ]
  }
 ],
 "metadata": {
  "kernelspec": {
   "display_name": "Python 3 (ipykernel)",
   "language": "python",
   "name": "python3"
  },
  "language_info": {
   "codemirror_mode": {
    "name": "ipython",
    "version": 3
   },
   "file_extension": ".py",
   "mimetype": "text/x-python",
   "name": "python",
   "nbconvert_exporter": "python",
   "pygments_lexer": "ipython3",
   "version": "3.9.16"
  }
 },
 "nbformat": 4,
 "nbformat_minor": 5
}
