{
 "cells": [
  {
   "cell_type": "code",
   "execution_count": 14,
   "id": "70f6be9c",
   "metadata": {},
   "outputs": [],
   "source": [
    "import pandas as pd\n",
    "import geopandas as gpd\n",
    "from shapely import Point\n",
    "import matplotlib.pyplot as plt"
   ]
  },
  {
   "cell_type": "code",
   "execution_count": 64,
   "id": "7d14ed85",
   "metadata": {},
   "outputs": [],
   "source": [
    "df = pd.read_parquet(r'maine_pred_normalization.parquet')"
   ]
  },
  {
   "cell_type": "code",
   "execution_count": 65,
   "id": "f355bcf3",
   "metadata": {},
   "outputs": [
    {
     "data": {
      "text/html": [
       "<div>\n",
       "<style scoped>\n",
       "    .dataframe tbody tr th:only-of-type {\n",
       "        vertical-align: middle;\n",
       "    }\n",
       "\n",
       "    .dataframe tbody tr th {\n",
       "        vertical-align: top;\n",
       "    }\n",
       "\n",
       "    .dataframe thead th {\n",
       "        text-align: right;\n",
       "    }\n",
       "</style>\n",
       "<table border=\"1\" class=\"dataframe\">\n",
       "  <thead>\n",
       "    <tr style=\"text-align: right;\">\n",
       "      <th></th>\n",
       "      <th>Longitude</th>\n",
       "      <th>Latitude</th>\n",
       "      <th>len_forward</th>\n",
       "      <th>len_backward</th>\n",
       "      <th>angle</th>\n",
       "      <th>offset</th>\n",
       "      <th>area</th>\n",
       "      <th>arc</th>\n",
       "      <th>ratio1</th>\n",
       "      <th>ratio2</th>\n",
       "      <th>case</th>\n",
       "      <th>decision_tree_predicted</th>\n",
       "    </tr>\n",
       "  </thead>\n",
       "  <tbody>\n",
       "    <tr>\n",
       "      <th>0</th>\n",
       "      <td>-70.607901</td>\n",
       "      <td>42.979219</td>\n",
       "      <td>62.69</td>\n",
       "      <td>18.19</td>\n",
       "      <td>0.0</td>\n",
       "      <td>0.0</td>\n",
       "      <td>0.0</td>\n",
       "      <td>24.424197</td>\n",
       "      <td>0.056396</td>\n",
       "      <td>0.0</td>\n",
       "      <td>no</td>\n",
       "      <td>0</td>\n",
       "    </tr>\n",
       "  </tbody>\n",
       "</table>\n",
       "</div>"
      ],
      "text/plain": [
       "   Longitude   Latitude  len_forward  len_backward  angle  offset  area  \\\n",
       "0 -70.607901  42.979219        62.69         18.19    0.0     0.0   0.0   \n",
       "\n",
       "         arc    ratio1  ratio2 case  decision_tree_predicted  \n",
       "0  24.424197  0.056396     0.0   no                        0  "
      ]
     },
     "execution_count": 65,
     "metadata": {},
     "output_type": "execute_result"
    }
   ],
   "source": [
    "df.head(1)"
   ]
  },
  {
   "cell_type": "code",
   "execution_count": 66,
   "id": "b30f40a2",
   "metadata": {},
   "outputs": [
    {
     "data": {
      "text/plain": [
       "Longitude                  float64\n",
       "Latitude                   float64\n",
       "len_forward                float64\n",
       "len_backward               float64\n",
       "angle                      float64\n",
       "offset                     float64\n",
       "area                       float64\n",
       "arc                        float64\n",
       "ratio1                     float64\n",
       "ratio2                     float64\n",
       "case                        object\n",
       "decision_tree_predicted      int64\n",
       "dtype: object"
      ]
     },
     "execution_count": 66,
     "metadata": {},
     "output_type": "execute_result"
    }
   ],
   "source": [
    "df.dtypes"
   ]
  },
  {
   "cell_type": "code",
   "execution_count": 67,
   "id": "4af7496c",
   "metadata": {},
   "outputs": [],
   "source": [
    "gdf = gpd.GeoDataFrame(data=df, geometry= [ Point(row.Longitude,row.Latitude) for row in df.itertuples()] )"
   ]
  },
  {
   "cell_type": "code",
   "execution_count": 68,
   "id": "e041a778",
   "metadata": {},
   "outputs": [
    {
     "data": {
      "text/html": [
       "<div>\n",
       "<style scoped>\n",
       "    .dataframe tbody tr th:only-of-type {\n",
       "        vertical-align: middle;\n",
       "    }\n",
       "\n",
       "    .dataframe tbody tr th {\n",
       "        vertical-align: top;\n",
       "    }\n",
       "\n",
       "    .dataframe thead th {\n",
       "        text-align: right;\n",
       "    }\n",
       "</style>\n",
       "<table border=\"1\" class=\"dataframe\">\n",
       "  <thead>\n",
       "    <tr style=\"text-align: right;\">\n",
       "      <th></th>\n",
       "      <th>Longitude</th>\n",
       "      <th>Latitude</th>\n",
       "      <th>len_forward</th>\n",
       "      <th>len_backward</th>\n",
       "      <th>angle</th>\n",
       "      <th>offset</th>\n",
       "      <th>area</th>\n",
       "      <th>arc</th>\n",
       "      <th>ratio1</th>\n",
       "      <th>ratio2</th>\n",
       "      <th>case</th>\n",
       "      <th>decision_tree_predicted</th>\n",
       "      <th>geometry</th>\n",
       "    </tr>\n",
       "  </thead>\n",
       "  <tbody>\n",
       "    <tr>\n",
       "      <th>0</th>\n",
       "      <td>-70.607901</td>\n",
       "      <td>42.979219</td>\n",
       "      <td>62.69</td>\n",
       "      <td>18.19</td>\n",
       "      <td>0.0</td>\n",
       "      <td>0.0</td>\n",
       "      <td>0.0</td>\n",
       "      <td>24.424197</td>\n",
       "      <td>0.056396</td>\n",
       "      <td>0.0</td>\n",
       "      <td>no</td>\n",
       "      <td>0</td>\n",
       "      <td>POINT (-70.60790 42.97922)</td>\n",
       "    </tr>\n",
       "  </tbody>\n",
       "</table>\n",
       "</div>"
      ],
      "text/plain": [
       "   Longitude   Latitude  len_forward  len_backward  angle  offset  area  \\\n",
       "0 -70.607901  42.979219        62.69         18.19    0.0     0.0   0.0   \n",
       "\n",
       "         arc    ratio1  ratio2 case  decision_tree_predicted  \\\n",
       "0  24.424197  0.056396     0.0   no                        0   \n",
       "\n",
       "                     geometry  \n",
       "0  POINT (-70.60790 42.97922)  "
      ]
     },
     "execution_count": 68,
     "metadata": {},
     "output_type": "execute_result"
    }
   ],
   "source": [
    "gdf.head(1)"
   ]
  },
  {
   "cell_type": "code",
   "execution_count": 69,
   "id": "da1c4f7a",
   "metadata": {},
   "outputs": [],
   "source": [
    "gdf = gdf.set_crs(4326)"
   ]
  },
  {
   "cell_type": "code",
   "execution_count": 70,
   "id": "f513a1e5",
   "metadata": {},
   "outputs": [
    {
     "data": {
      "text/plain": [
       "<Geographic 2D CRS: EPSG:4326>\n",
       "Name: WGS 84\n",
       "Axis Info [ellipsoidal]:\n",
       "- Lat[north]: Geodetic latitude (degree)\n",
       "- Lon[east]: Geodetic longitude (degree)\n",
       "Area of Use:\n",
       "- name: World.\n",
       "- bounds: (-180.0, -90.0, 180.0, 90.0)\n",
       "Datum: World Geodetic System 1984 ensemble\n",
       "- Ellipsoid: WGS 84\n",
       "- Prime Meridian: Greenwich"
      ]
     },
     "execution_count": 70,
     "metadata": {},
     "output_type": "execute_result"
    }
   ],
   "source": [
    "gdf.crs"
   ]
  },
  {
   "cell_type": "code",
   "execution_count": 71,
   "id": "b353b41a",
   "metadata": {},
   "outputs": [],
   "source": [
    "gdf_ml_no = gdf[gdf['decision_tree_predicted']==0]\n",
    "gdf_ml_yes = gdf[gdf['decision_tree_predicted']==1]"
   ]
  },
  {
   "cell_type": "code",
   "execution_count": 83,
   "id": "7ed4dfec",
   "metadata": {},
   "outputs": [],
   "source": [
    "convex_hull = gdf_ml_yes.unary_union.convex_hull\n",
    "convex_hull_gdf = gpd.GeoDataFrame(geometry=[convex_hull])"
   ]
  },
  {
   "cell_type": "code",
   "execution_count": 79,
   "id": "518e7c4e",
   "metadata": {},
   "outputs": [
    {
     "data": {
      "text/plain": [
       "503"
      ]
     },
     "execution_count": 79,
     "metadata": {},
     "output_type": "execute_result"
    }
   ],
   "source": [
    "len(gdf_ml_yes)"
   ]
  },
  {
   "cell_type": "code",
   "execution_count": 117,
   "id": "df8a90e0",
   "metadata": {},
   "outputs": [
    {
     "data": {
      "image/png": "[encoded data removed]",
      "text/plain": [
       "<Figure size 640x480 with 1 Axes>"
      ]
     },
     "metadata": {},
     "output_type": "display_data"
    }
   ],
   "source": [
    "ax = gdf_ml_no.plot(color='#d8b365', alpha=0.7)\n",
    "gdf_ml_yes.plot(ax=ax, color='#5ab4ac', alpha=0.7)\n",
    "#convex_hull_gdf.plot(ax=ax, color='red', alpha=0.4)\n",
    "\n",
    "# Add legend and labels if needed\n",
    "plt.legend(['DT No', 'DT Yes'])\n",
    "plt.xlabel('Longitude')\n",
    "plt.ylabel('Latitude')\n",
    "\n",
    "# Show the plot\n",
    "plt.show()"
   ]
  },
  {
   "cell_type": "code",
   "execution_count": 89,
   "id": "fa4f8673",
   "metadata": {},
   "outputs": [
    {
     "name": "stderr",
     "output_type": "stream",
     "text": [
      "C:\\Users\\Sidrcs\\AppData\\Local\\Temp\\ipykernel_13400\\3611805426.py:1: UserWarning: Column names longer than 10 characters will be truncated when saved to ESRI Shapefile.\n",
      "  gdf_ml_yes.to_file(r'D:\\Sid_Map_Projects\\Georef_Mahi\\Maine_Yes.shp')\n"
     ]
    }
   ],
   "source": [
    "gdf_ml_yes.to_file(r'D:\\Sid_Map_Projects\\Georef_Mahi\\Maine_Yes.shp')"
   ]
  },
  {
   "cell_type": "markdown",
   "id": "bca11530",
   "metadata": {},
   "source": [
    "### Applying Topfers Algorithm (Jiang et al 2013)"
   ]
  },
  {
   "cell_type": "code",
   "execution_count": 20,
   "id": "d0380b55",
   "metadata": {},
   "outputs": [],
   "source": [
    "def df_to_gdf(file):\n",
    "    try:\n",
    "        if file.endswith('.csv'):\n",
    "            df = pd.read_csv(file)\n",
    "            gdf = gpd.GeoDataFrame(data=df, geometry=[Point(row.Longitude,row.Latitude) for row in df.itertuples()])\n",
    "            gdf = gdf.set_crs(4326)\n",
    "            return gdf\n",
    "        if file.endswith('.parq') or file.endswith('.parquet'):\n",
    "            df = pd.read_parquet(file)\n",
    "            gdf = gpd.GeoDataFrame(data=df, geometry=[Point(row.Longitude,row.Latitude) for row in df.itertuples()])\n",
    "            gdf = gdf.set_crs(4326)\n",
    "            return gdf\n",
    "        else:\n",
    "            print('But yeah !! CSV or Parq is accepted')\n",
    "    except Exception as error:\n",
    "        print(f'An error occured:{error}')"
   ]
  },
  {
   "cell_type": "code",
   "execution_count": 21,
   "id": "0258a84d",
   "metadata": {},
   "outputs": [],
   "source": [
    "# Step1: Take the pre-generalized shapefile\n",
    "maine_pregen_gdf = df_to_gdf('Vertices_Labels/Maine.parq')"
   ]
  },
  {
   "cell_type": "code",
   "execution_count": 22,
   "id": "2ff1d6f7",
   "metadata": {},
   "outputs": [
    {
     "data": {
      "text/html": [
       "<div>\n",
       "<style scoped>\n",
       "    .dataframe tbody tr th:only-of-type {\n",
       "        vertical-align: middle;\n",
       "    }\n",
       "\n",
       "    .dataframe tbody tr th {\n",
       "        vertical-align: top;\n",
       "    }\n",
       "\n",
       "    .dataframe thead th {\n",
       "        text-align: right;\n",
       "    }\n",
       "</style>\n",
       "<table border=\"1\" class=\"dataframe\">\n",
       "  <thead>\n",
       "    <tr style=\"text-align: right;\">\n",
       "      <th></th>\n",
       "      <th>Longitude</th>\n",
       "      <th>Latitude</th>\n",
       "      <th>case</th>\n",
       "      <th>len_forward</th>\n",
       "      <th>len_backward</th>\n",
       "      <th>angle</th>\n",
       "      <th>offset</th>\n",
       "      <th>area</th>\n",
       "      <th>arc</th>\n",
       "      <th>ratio1</th>\n",
       "      <th>ratio2</th>\n",
       "      <th>geometry</th>\n",
       "    </tr>\n",
       "  </thead>\n",
       "  <tbody>\n",
       "    <tr>\n",
       "      <th>0</th>\n",
       "      <td>-70.607901</td>\n",
       "      <td>42.979219</td>\n",
       "      <td>no</td>\n",
       "      <td>62.69</td>\n",
       "      <td>18.19</td>\n",
       "      <td>0.0</td>\n",
       "      <td>0.0</td>\n",
       "      <td>0.0</td>\n",
       "      <td>24.424197</td>\n",
       "      <td>0.056396</td>\n",
       "      <td>0.0</td>\n",
       "      <td>POINT (-70.60790 42.97922)</td>\n",
       "    </tr>\n",
       "  </tbody>\n",
       "</table>\n",
       "</div>"
      ],
      "text/plain": [
       "   Longitude   Latitude case  len_forward  len_backward  angle  offset  area  \\\n",
       "0 -70.607901  42.979219   no        62.69         18.19    0.0     0.0   0.0   \n",
       "\n",
       "         arc    ratio1  ratio2                    geometry  \n",
       "0  24.424197  0.056396     0.0  POINT (-70.60790 42.97922)  "
      ]
     },
     "execution_count": 22,
     "metadata": {},
     "output_type": "execute_result"
    }
   ],
   "source": [
    "maine_pregen_gdf.head(1)"
   ]
  },
  {
   "cell_type": "code",
   "execution_count": 23,
   "id": "5b77f48a",
   "metadata": {},
   "outputs": [
    {
     "data": {
      "text/plain": [
       "294372"
      ]
     },
     "execution_count": 23,
     "metadata": {},
     "output_type": "execute_result"
    }
   ],
   "source": [
    "len(maine_pregen_gdf)"
   ]
  },
  {
   "cell_type": "code",
   "execution_count": 98,
   "id": "892161df",
   "metadata": {},
   "outputs": [
    {
     "data": {
      "text/plain": [
       "83.92751425921712"
      ]
     },
     "execution_count": 98,
     "metadata": {},
     "output_type": "execute_result"
    }
   ],
   "source": [
    "mean_forward_length = maine_pregen_gdf['len_forward'].mean()\n",
    "mean_forward_length"
   ]
  },
  {
   "cell_type": "code",
   "execution_count": 92,
   "id": "caffac38",
   "metadata": {},
   "outputs": [],
   "source": [
    "head_maine_gdf = maine_pregen_gdf[maine_pregen_gdf['len_forward'] >= mean_forward_length]\n",
    "tail_maine_gdf = maine_pregen_gdf[maine_pregen_gdf['len_forward'] < mean_forward_length]"
   ]
  },
  {
   "cell_type": "code",
   "execution_count": 99,
   "id": "2fdad34b",
   "metadata": {},
   "outputs": [
    {
     "data": {
      "text/plain": [
       "(13831, 280540)"
      ]
     },
     "execution_count": 99,
     "metadata": {},
     "output_type": "execute_result"
    }
   ],
   "source": [
    "len(head_maine_gdf), len(tail_maine_gdf)"
   ]
  },
  {
   "cell_type": "code",
   "execution_count": 104,
   "id": "37c07138",
   "metadata": {},
   "outputs": [
    {
     "name": "stdout",
     "output_type": "stream",
     "text": [
      "Head points:4.7%\n"
     ]
    }
   ],
   "source": [
    "print(f'Head points:{round((len(head_maine_gdf)/len(maine_pregen_gdf))*100,2)}%')"
   ]
  },
  {
   "cell_type": "code",
   "execution_count": 105,
   "id": "27f655cd",
   "metadata": {},
   "outputs": [
    {
     "name": "stdout",
     "output_type": "stream",
     "text": [
      "Tail points:95.3%\n"
     ]
    }
   ],
   "source": [
    "print(f'Tail points:{round((len(tail_maine_gdf)/len(maine_pregen_gdf))*100,2)}%')"
   ]
  },
  {
   "cell_type": "code",
   "execution_count": 106,
   "id": "3ed7ab87",
   "metadata": {},
   "outputs": [
    {
     "data": {
      "text/plain": [
       "Text(0.5, 1.0, 'Maine Level 1')"
      ]
     },
     "execution_count": 106,
     "metadata": {},
     "output_type": "execute_result"
    },
    {
     "data": {
      "image/png": "[encoded data removed]",
      "text/plain": [
       "<Figure size 640x480 with 1 Axes>"
      ]
     },
     "metadata": {},
     "output_type": "display_data"
    }
   ],
   "source": [
    "head_maine_gdf.plot()\n",
    "plt.title('Maine Level 1')"
   ]
  },
  {
   "cell_type": "code",
   "execution_count": 107,
   "id": "9b83783b",
   "metadata": {},
   "outputs": [
    {
     "data": {
      "text/plain": [
       "1328.0948427445594"
      ]
     },
     "execution_count": 107,
     "metadata": {},
     "output_type": "execute_result"
    }
   ],
   "source": [
    "mean_forward_length_l2 = head_maine_gdf['len_forward'].mean()\n",
    "mean_forward_length_l2"
   ]
  },
  {
   "cell_type": "code",
   "execution_count": 108,
   "id": "fdf7fba4",
   "metadata": {},
   "outputs": [],
   "source": [
    "head_maine_gdf_l2 = head_maine_gdf[head_maine_gdf['len_forward'] >= mean_forward_length_l2]\n",
    "tail_maine_gdf_l2 = head_maine_gdf[head_maine_gdf['len_forward'] < mean_forward_length_l2]"
   ]
  },
  {
   "cell_type": "code",
   "execution_count": 109,
   "id": "39c0a830",
   "metadata": {},
   "outputs": [
    {
     "data": {
      "text/plain": [
       "(1226, 12605)"
      ]
     },
     "execution_count": 109,
     "metadata": {},
     "output_type": "execute_result"
    }
   ],
   "source": [
    "len(head_maine_gdf_l2), len(tail_maine_gdf_l2)"
   ]
  },
  {
   "cell_type": "code",
   "execution_count": 112,
   "id": "965fe85a",
   "metadata": {},
   "outputs": [
    {
     "name": "stdout",
     "output_type": "stream",
     "text": [
      "Head points:8.86%\n"
     ]
    }
   ],
   "source": [
    "print(f'Head points:{round((len(head_maine_gdf_l2)/len(head_maine_gdf))*100,2)}%')"
   ]
  },
  {
   "cell_type": "code",
   "execution_count": 111,
   "id": "b359d1d7",
   "metadata": {},
   "outputs": [
    {
     "name": "stdout",
     "output_type": "stream",
     "text": [
      "Tail points:91.14%\n"
     ]
    }
   ],
   "source": [
    "print(f'Tail points:{round((len(tail_maine_gdf_l2)/len(head_maine_gdf))*100,2)}%')"
   ]
  },
  {
   "cell_type": "code",
   "execution_count": 110,
   "id": "01ba8fd2",
   "metadata": {},
   "outputs": [
    {
     "data": {
      "text/plain": [
       "Text(0.5, 1.0, 'Maine Level2')"
      ]
     },
     "execution_count": 110,
     "metadata": {},
     "output_type": "execute_result"
    },
    {
     "data": {
      "image/png": "[encoded data removed]",
      "text/plain": [
       "<Figure size 640x480 with 1 Axes>"
      ]
     },
     "metadata": {},
     "output_type": "display_data"
    }
   ],
   "source": [
    "head_maine_gdf_l2.plot()\n",
    "plt.title('Maine Level2')"
   ]
  },
  {
   "cell_type": "code",
   "execution_count": 113,
   "id": "c31802e5",
   "metadata": {},
   "outputs": [
    {
     "data": {
      "text/plain": [
       "13435.464200652532"
      ]
     },
     "execution_count": 113,
     "metadata": {},
     "output_type": "execute_result"
    }
   ],
   "source": [
    "mean_forward_length_l3 = head_maine_gdf_l2['len_forward'].mean()\n",
    "mean_forward_length_l3"
   ]
  },
  {
   "cell_type": "code",
   "execution_count": 115,
   "id": "8ed5c5c2",
   "metadata": {},
   "outputs": [],
   "source": [
    "head_maine_gdf_l3 = head_maine_gdf_l2[head_maine_gdf_l2['len_forward'] >= mean_forward_length_l3]\n",
    "tail_maine_gdf_l3 = head_maine_gdf_l2[head_maine_gdf_l2['len_forward'] < mean_forward_length_l3]"
   ]
  },
  {
   "cell_type": "code",
   "execution_count": 116,
   "id": "cba86d85",
   "metadata": {},
   "outputs": [
    {
     "data": {
      "text/plain": [
       "(476, 750)"
      ]
     },
     "execution_count": 116,
     "metadata": {},
     "output_type": "execute_result"
    }
   ],
   "source": [
    "len(head_maine_gdf_l3), len(tail_maine_gdf_l3)"
   ]
  },
  {
   "cell_type": "code",
   "execution_count": 119,
   "id": "1bb1ddb4",
   "metadata": {},
   "outputs": [
    {
     "name": "stdout",
     "output_type": "stream",
     "text": [
      "Head points:38.83%\n"
     ]
    }
   ],
   "source": [
    "print(f'Head points:{round((len(head_maine_gdf_l3)/len(head_maine_gdf_l2))*100,2)}%')"
   ]
  },
  {
   "cell_type": "code",
   "execution_count": 118,
   "id": "061156c5",
   "metadata": {},
   "outputs": [
    {
     "name": "stdout",
     "output_type": "stream",
     "text": [
      "Tail points:61.17%\n"
     ]
    }
   ],
   "source": [
    "print(f'Tail points:{round((len(tail_maine_gdf_l3)/len(head_maine_gdf_l2))*100,2)}%')"
   ]
  },
  {
   "cell_type": "code",
   "execution_count": 120,
   "id": "8e7a6867",
   "metadata": {},
   "outputs": [
    {
     "data": {
      "text/plain": [
       "Text(0.5, 1.0, 'Maine Level 3')"
      ]
     },
     "execution_count": 120,
     "metadata": {},
     "output_type": "execute_result"
    },
    {
     "data": {
      "image/png": "[encoded data removed]",
      "text/plain": [
       "<Figure size 640x480 with 1 Axes>"
      ]
     },
     "metadata": {},
     "output_type": "display_data"
    }
   ],
   "source": [
    "head_maine_gdf_l3.plot()\n",
    "plt.title('Maine Level 3')"
   ]
  },
  {
   "cell_type": "code",
   "execution_count": null,
   "id": "d78f3283",
   "metadata": {},
   "outputs": [],
   "source": []
  },
  {
   "cell_type": "code",
   "execution_count": null,
   "id": "fd2f16f3",
   "metadata": {},
   "outputs": [],
   "source": []
  },
  {
   "cell_type": "code",
   "execution_count": null,
   "id": "7ef62613",
   "metadata": {},
   "outputs": [],
   "source": []
  }
 ],
 "metadata": {
  "kernelspec": {
   "display_name": "Python 3 (ipykernel)",
   "language": "python",
   "name": "python3"
  },
  "language_info": {
   "codemirror_mode": {
    "name": "ipython",
    "version": 3
   },
   "file_extension": ".py",
   "mimetype": "text/x-python",
   "name": "python",
   "nbconvert_exporter": "python",
   "pygments_lexer": "ipython3",
   "version": "3.9.16"
  }
 },
 "nbformat": 4,
 "nbformat_minor": 5
}
