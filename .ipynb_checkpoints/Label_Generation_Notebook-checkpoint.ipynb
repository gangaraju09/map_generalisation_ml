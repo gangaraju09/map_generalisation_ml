{
 "cells": [
  {
   "cell_type": "code",
   "execution_count": 28,
   "id": "967d766e",
   "metadata": {},
   "outputs": [],
   "source": [
    "from shapely import Point, LineString, Polygon, MultiPolygon\n",
    "import os\n",
    "import geopandas as gpd\n",
    "import pandas as pd\n",
    "from math import radians, sin, cos, acos, sqrt, degrees"
   ]
  },
  {
   "attachments": {
    "Spherical_Distance_Geog378.png": {
     "image/png": "[encoded data removed]"
    }
   },
   "cell_type": "markdown",
   "id": "3b17c583",
   "metadata": {},
   "source": [
    "### Calculate length with a forward/backward point (Great Circle)\n",
    "![Spherical_Distance_Geog378.png](attachment:Spherical_Distance_Geog378.png)\n",
    "- <code>phi1</code>: latitude1, <code>phi2</code>: latitude2, <code>lam1</code>: longitude1, <code>lam2</code>: longitude2\n",
    "- Radius of Earth: 6378.137 KiloMeters (<a href = \"https://imagine.gsfc.nasa.gov/features/cosmic/earth_info.html\">NASA</a>)\n",
    "- Standard convention is to express northern latitudes and eastern longitudes as positive numbers, and southern latitudes and western longitudes with negative numbers.\n",
    "- For United States, it is apparent to have <b>Northern Latitudes and Western Longitudes</b>. Therefore, it is <code>(-lam1, phi1), (-lam2, phi2)</code> i.e., <b>(Latitude, Longitude)</b>"
   ]
  },
  {
   "cell_type": "code",
   "execution_count": 30,
   "id": "f41f1679",
   "metadata": {},
   "outputs": [],
   "source": [
    "# calculates great circle (length) distance with a forward point\n",
    "def coords_length(phi1,phi2,lam1,lam2):\n",
    "    # mapping angle input to radians\n",
    "    phi1,phi2,lam1,lam2 = map(radians, [phi1,phi2,-lam1,-lam2])\n",
    "    # absolute longitudes difference\n",
    "    dl = abs(lam1-lam2) \n",
    "    # distance calculation using great circle distance\n",
    "    d = acos(min(sin(phi1) * sin(phi2) + cos(phi1) * cos(phi2) * cos(dl), 1.0))\n",
    "    spheric_dist = d*6378.137*1000\n",
    "    # spheric_dist in meters\n",
    "    return round(spheric_dist,2)"
   ]
  },
  {
   "cell_type": "markdown",
   "id": "5b745663",
   "metadata": {},
   "source": [
    "- <code>Madison</code>: 43.13972 ºN, 89.3375 ºW\n",
    "- <code>New York</code>: 40.77725 ºN, 73.87261 ºW \n",
    "- <code>Jakarta</code>: 6.12555 ºS, 106.6558 ºE"
   ]
  },
  {
   "cell_type": "code",
   "execution_count": 25,
   "id": "15911e6c",
   "metadata": {},
   "outputs": [
    {
     "name": "stdout",
     "output_type": "stream",
     "text": [
      "Distance between Madison, WI and NYC, NY: 1303.45 KM\n"
     ]
    }
   ],
   "source": [
    "# Distance between Madison and New York\n",
    "print(f\"Distance between Madison, WI and NYC, NY: {round(coords_length(43.13972,40.77725,89.3375,73.87261)/1000,2)} KM\")"
   ]
  },
  {
   "attachments": {
    "Calculate_2D_Angle.png": {
     "image/png": "[encoded data removed]"
    }
   },
   "cell_type": "markdown",
   "id": "80617ea1",
   "metadata": {},
   "source": [
    "### Calculate angle - Forward, current and backward points\n",
    "![Calculate_2D_Angle.png](attachment:Calculate_2D_Angle.png)\n",
    "- <b><code>a</code></b>: Vector between (x1,y1) and (x2,y2) i.e., <code>(x1-x2, y1-y2)</code>\n",
    "- <b><code>b</code></b>: Vector between (x3,y3) and (x2,y2)  i.e., <code>(x3-x2, y3-y2)</code>\n",
    "- <b><code>|a|</code></b>: <code><span>&#8730;(x1-x2)<sup>2</sup> + (y1-y2)<sup>2</sup></span></code>\n",
    "- <b><code>|b|</code></b>: <code><span>&#8730;(x3-x2)<sup>2</sup> + (y3-y2)<sup>2</sup></span></code>"
   ]
  },
  {
   "cell_type": "code",
   "execution_count": 29,
   "id": "4c51b95a",
   "metadata": {},
   "outputs": [],
   "source": [
    "# calculates angle formed with a forward point, current and backward point\n",
    "def calculate_angle(x1, x2, x3, y1, y2, y3):\n",
    "    x1,x2,x3,y1,y2,y3 = map(radians, [x1,x2,x3,-y1,-y2,-y3])\n",
    "    # calculate the vectors between the points\n",
    "    # a is vector between (x1,y1) & (x2,y2)\n",
    "    a = (x1-x2, y1-y2)\n",
    "    # b is vector between (x3,y3) & (x2,y2)\n",
    "    b = (x3-x2, y3-y2)\n",
    "    # calculate the dot product and the magnitudes of the vectors\n",
    "    dot_product = a[0]*b[0] + a[1]*b[1]\n",
    "    magnitude_a = sqrt(a[0]**2 + a[1]**2)\n",
    "    magnitude_b = sqrt(b[0]**2 + b[1]**2)\n",
    "    # check if the dot product and magnitudes are within valid ranges\n",
    "    if magnitude_a * magnitude_b == 0:\n",
    "        return float(\"NaN\")\n",
    "    # calculate the cosine of the angle using the dot product and magnitudes\n",
    "    cosine_angle = dot_product/(magnitude_a*magnitude_b)\n",
    "    # ensure the value is within the valid range for acos function\n",
    "    cosine_angle = max(min(cosine_angle, 1.0), -1.0)\n",
    "    # calculate the angle in radians\n",
    "    angle_rad = acos(cosine_angle)\n",
    "    # convert the angle from radians to degrees\n",
    "    angle_deg = degrees(angle_rad)\n",
    "    return angle_deg"
   ]
  },
  {
   "cell_type": "markdown",
   "id": "212c63bb",
   "metadata": {},
   "source": [
    "### Calculate offset - Forward, current and backward points\n",
    "- Offset is a perpendicular distance from the current point to the line formed by forward and backward points. "
   ]
  },
  {
   "cell_type": "code",
   "execution_count": 36,
   "id": "784406de",
   "metadata": {},
   "outputs": [],
   "source": [
    "def calculate_offset(x1,x2,x3,y1,y2,y3):\n",
    "    x1,x2,x3,y1,y2,y3 = map(radians, [x1,x2,x3,-y1,-y2,-y3])\n",
    "    # calculate the slope of the line\n",
    "    if (x3-x1)!= 0:\n",
    "        m = (y3-y1)/(x3-x1)\n",
    "    else:\n",
    "        return float(\"NaN\")\n",
    "    # calculate the y-intercept of the line\n",
    "    c = y1-(m*x1)\n",
    "    # calculate the perpendicular distance from the point (x2, y2) to the line\n",
    "    ppdistance = abs((m*x2-y2)+c) / sqrt(m**2 + 1)\n",
    "    # perpendicular distance in meters\n",
    "    return (ppdistance*6378.137*1000)"
   ]
  },
  {
   "cell_type": "markdown",
   "id": "11228fe9",
   "metadata": {},
   "source": [
    "### Calculate triangle area - Forward, current and backward points"
   ]
  },
  {
   "cell_type": "code",
   "execution_count": 35,
   "id": "3759c493",
   "metadata": {},
   "outputs": [],
   "source": [
    "def calculate_triangluar_area(x1,x2,x3,y1,y2,y3):\n",
    "    x1,x2,x3,y1,y2,y3 = map(radians, [x1,x2,x3,-y1,-y2,-y3])\n",
    "    # Calculate the area of the triangle using the Shoelace formula\n",
    "    area = 0.5 * abs((x1 *(y2-y3)) + (x2*(y3-y1)) + (x3*(y1-y2)))\n",
    "    return (area*6378.137*1000)"
   ]
  },
  {
   "cell_type": "markdown",
   "id": "0ba53cda",
   "metadata": {},
   "source": [
    "### Calculate arc angle with a forward point"
   ]
  },
  {
   "cell_type": "code",
   "execution_count": 32,
   "id": "400c28e7",
   "metadata": {},
   "outputs": [],
   "source": [
    "# calculates angle formed with a forward point\n",
    "def calculate_arc_angle(x1,x2,y1,y2):\n",
    "    x1,x2,y1,y2 = map(radians, [x1,x2,-y1,-y2])\n",
    "    # angle calculation\n",
    "    angle = math.atan2(y2-y1, x2-x1)*180/math.pi\n",
    "    # angle in degree radians\n",
    "    return angle"
   ]
  },
  {
   "cell_type": "code",
   "execution_count": 37,
   "id": "1109b85c",
   "metadata": {},
   "outputs": [
    {
     "name": "stdout",
     "output_type": "stream",
     "text": [
      "Vertices_Labels/California.parq\n",
      "Vertices_Labels/Florida.parq\n",
      "Vertices_Labels/Idaho.parq\n",
      "Vertices_Labels/Louisiana.parq\n",
      "Vertices_Labels/Maine.parq\n",
      "Vertices_Labels/NorthCarolina.parq\n",
      "Vertices_Labels/Texas.parq\n",
      "CPU times: total: 1h 9min 40s\n",
      "Wall time: 1h 10min 1s\n"
     ]
    }
   ],
   "source": [
    "%%time\n",
    "for file in os.listdir(\"Vertices_Labels\"):\n",
    "    if file.endswith(\"csv\"):\n",
    "        file_name = file.split(\"_\")\n",
    "        if os.path.exists(f\"Vertices_Labels/{file_name[0]}.parq\") != True:\n",
    "            state_df = pd.read_csv(os.path.join(\"Vertices_Labels\",file))\n",
    "            state_df = state_df.drop(columns = [\"Unnamed: 0\"])\n",
    "\n",
    "            # Create an empty column with name \"len_forward\"\n",
    "            state_df[\"len_forward\"] = 0.0\n",
    "            for i in range(len(state_df)-1):\n",
    "                # assign data to arguments\n",
    "                phi1 = state_df.loc[i, \"Latitude\"] \n",
    "                phi2 = state_df.loc[i+1, \"Latitude\"] \n",
    "                lam1 = state_df.loc[i, \"Longitude\"]\n",
    "                lam2 = state_df.loc[i+1, \"Longitude\"]\n",
    "                # calculate length and append to a list\n",
    "                state_df.loc[i,\"len_forward\"] = coords_length(phi1,phi2,lam1,lam2)\n",
    "\n",
    "            # Assign NaN to the last row since there is no next row\n",
    "            state_df.loc[len(state_df)-1, \"len_forward\"] = float(\"NaN\")\n",
    "\n",
    "            # Create an empty column with name \"len_backward\"\n",
    "            state_df[\"len_backward\"] = 0.0\n",
    "            for i in range(len(state_df)-1, 0, -1):\n",
    "                # assign data to arguments\n",
    "                phi1 = state_df.loc[i, \"Latitude\"] \n",
    "                phi2 = state_df.loc[i-1, \"Latitude\"] \n",
    "                lam1 = state_df.loc[i, \"Longitude\"]\n",
    "                lam2 = state_df.loc[i-1, \"Longitude\"]\n",
    "                # calculate length and append to a list\n",
    "                state_df.loc[i, \"len_backward\"] = coords_length(phi1,phi2,lam1,lam2)\n",
    "\n",
    "            # Assign NaN to the last row since there is no next row\n",
    "            state_df.loc[0,\"len_backward\"] = float(\"NaN\")\n",
    "\n",
    "            # Create an empty column \"angle\"\n",
    "            state_df[\"angle\"] = 0.0\n",
    "            # Iterate over the rows of the DataFrame\n",
    "            for i in range(1, len(state_df) - 1):\n",
    "                # Get the coordinates of the three points\n",
    "                x1 = state_df.loc[i-1, \"Longitude\"]\n",
    "                y1 = state_df.loc[i-1, \"Latitude\"]\n",
    "                x2 = state_df.loc[i, \"Longitude\"]\n",
    "                y2 = state_df.loc[i, \"Latitude\"]\n",
    "                x3 = state_df.loc[i+1, \"Longitude\"]\n",
    "                y3 = state_df.loc[i+1, \"Latitude\"]\n",
    "\n",
    "                # Assign the calculated angle to the 'angle' column of the current row\n",
    "                state_df.loc[i,\"angle\"] = calculate_angle(x1,x2,x3,y1,y2,y3)\n",
    "\n",
    "            # Create an empty column \"offset\"\n",
    "            state_df[\"offset\"] = 0.0\n",
    "            # Iterate over the rows of the DataFrame\n",
    "            for i in range(1, len(state_df) - 1):\n",
    "                # Get the coordinates of the three points\n",
    "                x1 = state_df.loc[i-1, \"Longitude\"]\n",
    "                y1 = state_df.loc[i-1, \"Latitude\"]\n",
    "                x2 = state_df.loc[i, \"Longitude\"]\n",
    "                y2 = state_df.loc[i, \"Latitude\"]\n",
    "                x3 = state_df.loc[i+1, \"Longitude\"]\n",
    "                y3 = state_df.loc[i+1, \"Latitude\"]\n",
    "\n",
    "                # Assign the calculated angle to the 'angle' column of the current row\n",
    "                state_df.loc[i,\"offset\"] = calculate_offset(x1,x2,x3,y1,y2,y3)\n",
    "\n",
    "            # Create an empty column \"area\"\n",
    "            state_df[\"area\"] = 0.0\n",
    "            # Iterate over the rows of the DataFrame\n",
    "            for i in range(1, len(state_df) - 1):\n",
    "                # Get the coordinates of the three points\n",
    "                x1 = state_df.loc[i-1, \"Longitude\"]\n",
    "                y1 = state_df.loc[i-1, \"Latitude\"]\n",
    "                x2 = state_df.loc[i, \"Longitude\"]\n",
    "                y2 = state_df.loc[i, \"Latitude\"]\n",
    "                x3 = state_df.loc[i+1, \"Longitude\"]\n",
    "                y3 = state_df.loc[i+1, \"Latitude\"]\n",
    "\n",
    "                # Assign the calculated angle to the 'angle' column of the current row\n",
    "                state_df.loc[i,\"area\"] = calculate_triangluar_area(x1,x2,x3,y1,y2,y3)\n",
    "\n",
    "            # Create an empty column with name \"arc\"\n",
    "            state_df[\"arc\"] = 0.0\n",
    "            for i in range(len(state_df)-1):\n",
    "                # assign data to arguments\n",
    "                x1 = state_df.loc[i, \"Longitude\"] \n",
    "                x2 = state_df.loc[i+1, \"Longitude\"] \n",
    "                y1 = state_df.loc[i, \"Latitude\"]\n",
    "                y2 = state_df.loc[i+1, \"Latitude\"]\n",
    "                state_df.loc[i,\"arc\"] = calculate_arc_angle(x1,x2,y1,y2)\n",
    "\n",
    "            # Create an empty column with name \"ratio1\"\n",
    "            state_df[\"ratio1\"] = 0.0\n",
    "\n",
    "            for i in range(len(state_df)):\n",
    "                if state_df.loc[i, \"arc\"] != 0:\n",
    "                    state_df.loc[i, \"ratio1\"] =  (state_df.loc[i,\"len_forward\"] + state_df.loc[i,\"len_backward\"])/state_df.loc[i, \"arc\"]\n",
    "                else:\n",
    "                    state_df.loc[i, \"ratio1\"] = 0.0\n",
    "\n",
    "            # Create an empty column with name \"ratio1\"\n",
    "            state_df[\"ratio2\"] = 0.0\n",
    "            for i in range(len(state_df)):\n",
    "                if state_df.loc[i, \"arc\"] != 0:\n",
    "                    state_df.loc[i, \"ratio2\"] = state_df.loc[i,\"offset\"]/state_df.loc[i,\"arc\"]\n",
    "                else:\n",
    "                    state_df.loc[i, \"ratio2\"] = 0.0\n",
    "\n",
    "            state_df[\"len_backward\"].fillna(state_df[\"len_backward\"].median(), inplace=True)\n",
    "            state_df[\"area\"].fillna(state_df[\"area\"].median(), inplace=True)\n",
    "            state_df[\"ratio1\"].fillna(state_df[\"ratio1\"].median(), inplace=True)\n",
    "\n",
    "            state_df.to_parquet(f\"Vertices_Labels/{file_name[0]}.parq\")\n",
    "            print(f\"Vertices_Labels/{file_name[0]}.parq\")\n",
    "        else:\n",
    "            print(f\"Vertices_Labels/{file_name[0]}.parq already exists\")"
   ]
  },
  {
   "cell_type": "code",
   "execution_count": null,
   "id": "87df85eb",
   "metadata": {},
   "outputs": [],
   "source": [
    " for file in os.listdir(\"Vertices_Labels\"):\n",
    "    if file.endswith(\"parq\"):\n",
    "        state_df = pd.read_parquet(os.path.join(\"Vertices_Labels\",file))\n",
    "        points_list = [(row.Longitude, row.Latitude) for row in state_df.itertuples()] \n",
    "        points_gdf = gpd.GeoDataFrame(data = state_df, geometry = [Point(p) for p in points_list])\n",
    "        points_gdf[\"buffer\"] = points_gdf.geometry.buffer(0.4)\n",
    "        \n",
    "        sindex = points_gdf.sindex\n",
    "\n",
    "        # Iterate over the buffers and find all points that fall within each buffer\n",
    "        within_lists = []\n",
    "        for buffer in points_gdf[\"buffer\"]:\n",
    "            # Find the indices of all points that intersect the buffer\n",
    "            possible_matches_index = list(sindex.intersection(buffer.bounds))\n",
    "            # Filter the candidate points by testing if they're actually within the buffer\n",
    "            possible_matches = points_gdf.iloc[possible_matches_index]\n",
    "            matches = possible_matches[possible_matches.intersects(buffer)]\n",
    "            # Append the matches to the output list\n",
    "            within_lists.append(list(matches.geometry))\n",
    "\n",
    "        # Create a new GeoDataFrame with the results\n",
    "        result_gdf = gpd.GeoDataFrame(geometry=[buffer for buffer in points_gdf[\"buffer\"]])\n",
    "        result_gdf[\"within\"] = within_lists\n",
    "        \n",
    "        result_gdf[\"point_counts\"] = result_gdf[\"within\"].apply(lambda x: len(x))\n",
    "        result_gdf[\"buffer\"] = result_gdf[\"geometry\"]\n",
    "        \n",
    "        state_final_gdf = points_gdf.merge(result_gdf, on=\"buffer\")\n",
    "        \n",
    "        out_df = pd.DataFrame(state_final_gdf[[\"Longitude\", \"Latitude\", \"len_forward\",\n",
    "                                                   \"len_backward\",\"angle\", \"arc\",\n",
    "                                                   \"area\",\"point_counts\", \"offset\",\n",
    "                                                   \"ratio1\", \"ratio2\", \"case\"]])\n",
    "        file_name = file.split(\"_\")\n",
    "        out_df.to_parquet(f\"Vertices_Labels/{file_name[0]}.parq\")\n",
    "        print(f\"Vertices_Labels/{file_name[0]}_1.parq\")"
   ]
  }
 ],
 "metadata": {
  "kernelspec": {
   "display_name": "Python 3 (ipykernel)",
   "language": "python",
   "name": "python3"
  },
  "language_info": {
   "codemirror_mode": {
    "name": "ipython",
    "version": 3
   },
   "file_extension": ".py",
   "mimetype": "text/x-python",
   "name": "python",
   "nbconvert_exporter": "python",
   "pygments_lexer": "ipython3",
   "version": "3.9.16"
  }
 },
 "nbformat": 4,
 "nbformat_minor": 5
}
