{
 "cells": [
  {
   "cell_type": "markdown",
   "id": "35a263aa",
   "metadata": {},
   "source": [
    "## Label Generation Code for Neural Networks\n",
    "Project by <b><a href = 'ramavajjala@wisc.edu'>C S Siddharth Ramavajjala<a> <sup>a</sup></b>, <b><a href = 'sgnamburi@wisc.edu'>G N V V Satya Sai Srinath<a><sup>b</sup></b>, <b><a href = 'gangaraju2@wisc.edu'>Ramakrishna Raju Gangaraju<a><sup>a</sup></b>\n",
    "\n",
    "<i>a - Department of Geography, University of Wisconsin - Madison*</i><br>\n",
    "<i>b - Department of Computer Science, University of Wisconsin - Madison*</i>"
   ]
  },
  {
   "cell_type": "code",
   "execution_count": 3,
   "id": "4c4b3a1b",
   "metadata": {},
   "outputs": [],
   "source": [
    "# importing libraries\n",
    "import geopandas as gpd\n",
    "import matplotlib.pyplot as plt\n",
    "import sys, os\n",
    "import json"
   ]
  },
  {
   "cell_type": "code",
   "execution_count": 4,
   "id": "a461b236",
   "metadata": {},
   "outputs": [
    {
     "name": "stdout",
     "output_type": "stream",
     "text": [
      "C:\\Users\\Sidrcs\\Documents\\Github\\map_generalisation_ml\n",
      "C:\\Users\\Sidrcs\\Documents\\Github\\map_generalisation_ml\n"
     ]
    }
   ],
   "source": [
    "#function to change current working directory\n",
    "def change_os(path):                       \n",
    "    print(os.getcwd())\n",
    "    os.chdir(path)\n",
    "    print(os.getcwd())\n",
    "\n",
    "change_os(r'C:\\Users\\Sidrcs\\Documents\\Github\\map_generalisation_ml')"
   ]
  },
  {
   "cell_type": "code",
   "execution_count": 5,
   "id": "fc1e05e9",
   "metadata": {},
   "outputs": [],
   "source": [
    "# import Florida shapefile\n",
    "fl_gdf = gpd.read_file(r'Data\\Florida.shp')"
   ]
  },
  {
   "cell_type": "code",
   "execution_count": 6,
   "id": "2dbc2341",
   "metadata": {},
   "outputs": [
    {
     "data": {
      "text/html": [
       "<div>\n",
       "<style scoped>\n",
       "    .dataframe tbody tr th:only-of-type {\n",
       "        vertical-align: middle;\n",
       "    }\n",
       "\n",
       "    .dataframe tbody tr th {\n",
       "        vertical-align: top;\n",
       "    }\n",
       "\n",
       "    .dataframe thead th {\n",
       "        text-align: right;\n",
       "    }\n",
       "</style>\n",
       "<table border=\"1\" class=\"dataframe\">\n",
       "  <thead>\n",
       "    <tr style=\"text-align: right;\">\n",
       "      <th></th>\n",
       "      <th>GISJOIN</th>\n",
       "      <th>REGION</th>\n",
       "      <th>DIVISION</th>\n",
       "      <th>STATEFP</th>\n",
       "      <th>STATENS</th>\n",
       "      <th>GEOID</th>\n",
       "      <th>STUSPS</th>\n",
       "      <th>NAME</th>\n",
       "      <th>LSAD</th>\n",
       "      <th>MTFCC</th>\n",
       "      <th>FUNCSTAT</th>\n",
       "      <th>ALAND</th>\n",
       "      <th>AWATER</th>\n",
       "      <th>INTPTLAT</th>\n",
       "      <th>INTPTLON</th>\n",
       "      <th>Shape_Leng</th>\n",
       "      <th>Shape_Le_1</th>\n",
       "      <th>Shape_Area</th>\n",
       "      <th>geometry</th>\n",
       "    </tr>\n",
       "  </thead>\n",
       "  <tbody>\n",
       "    <tr>\n",
       "      <th>0</th>\n",
       "      <td>G120</td>\n",
       "      <td>3</td>\n",
       "      <td>5</td>\n",
       "      <td>12</td>\n",
       "      <td>00294478</td>\n",
       "      <td>12</td>\n",
       "      <td>FL</td>\n",
       "      <td>Florida</td>\n",
       "      <td>00</td>\n",
       "      <td>G4000</td>\n",
       "      <td>A</td>\n",
       "      <td>1.389491e+11</td>\n",
       "      <td>3.136110e+10</td>\n",
       "      <td>+28.4574302</td>\n",
       "      <td>-082.4091477</td>\n",
       "      <td>2.068108e+07</td>\n",
       "      <td>198.478218</td>\n",
       "      <td>13.54037</td>\n",
       "      <td>MULTIPOLYGON (((-82.88482 24.62121, -82.88619 ...</td>\n",
       "    </tr>\n",
       "  </tbody>\n",
       "</table>\n",
       "</div>"
      ],
      "text/plain": [
       "  GISJOIN REGION DIVISION STATEFP   STATENS GEOID STUSPS     NAME LSAD  MTFCC  \\\n",
       "0    G120      3        5      12  00294478    12     FL  Florida   00  G4000   \n",
       "\n",
       "  FUNCSTAT         ALAND        AWATER     INTPTLAT      INTPTLON  \\\n",
       "0        A  1.389491e+11  3.136110e+10  +28.4574302  -082.4091477   \n",
       "\n",
       "     Shape_Leng  Shape_Le_1  Shape_Area  \\\n",
       "0  2.068108e+07  198.478218    13.54037   \n",
       "\n",
       "                                            geometry  \n",
       "0  MULTIPOLYGON (((-82.88482 24.62121, -82.88619 ...  "
      ]
     },
     "execution_count": 6,
     "metadata": {},
     "output_type": "execute_result"
    }
   ],
   "source": [
    "fl_gdf.head()"
   ]
  },
  {
   "cell_type": "code",
   "execution_count": 7,
   "id": "c34c09d8",
   "metadata": {},
   "outputs": [
    {
     "data": {
      "text/plain": [
       "geopandas.geoseries.GeoSeries"
      ]
     },
     "execution_count": 7,
     "metadata": {},
     "output_type": "execute_result"
    }
   ],
   "source": [
    "# convert into geoseries\n",
    "fl_gs = gpd.GeoSeries(fl_gdf.geometry[0])\n",
    "type(fl_gs) # Read more - https://geopandas.org/en/stable/docs/reference/geoseries.html"
   ]
  },
  {
   "cell_type": "markdown",
   "id": "afeafb5c",
   "metadata": {},
   "source": [
    "<h3> Detailed breakdown of code below </h3><br>\n",
    "<b>For Srinath</b>: GeoDataFrame(gdf) has both data, geometry. Try printing of <code>fl_gdf.head(1)</code>, you could observe a column that stores geometry."
   ]
  },
  {
   "cell_type": "code",
   "execution_count": 9,
   "id": "7f7f09de",
   "metadata": {
    "scrolled": true
   },
   "outputs": [
    {
     "data": {
      "text/plain": [
       "0    MULTIPOLYGON (((-82.88482 24.62121, -82.88619 ...\n",
       "dtype: geometry"
      ]
     },
     "execution_count": 9,
     "metadata": {},
     "output_type": "execute_result"
    }
   ],
   "source": [
    "fl_gs"
   ]
  },
  {
   "cell_type": "markdown",
   "id": "865df038",
   "metadata": {},
   "source": [
    "Furthermore, Florida is a <b>multipolygon</b> feature: <code>fl_gs</code> (geoseries), i.e., it is a single feature that contains multiple polygons (Think of India with Andaman & Nicobar islands and Lakshadweep, even <b>India</b> is a multi-polygon). \n",
    "\n",
    "Geometry for each polygon is extracted using <code>.geoms</code> property.\n",
    "\n",
    "Therefore, we are extracting <b>geometry</b> from the gdf using <code> fl_gdf.geometry[0] or fl_gdf.geometry.iloc[0] </code>"
   ]
  },
  {
   "cell_type": "code",
   "execution_count": 9,
   "id": "d0a602dd",
   "metadata": {},
   "outputs": [
    {
     "name": "stdout",
     "output_type": "stream",
     "text": [
      "Total number of vertices for Florida MultiPolygon: 1087787\n",
      "Number of polygons: 4225\n"
     ]
    }
   ],
   "source": [
    "# get the geometry of the first feature (i.e., the MultiPolygon for Florida)\n",
    "fl_multipolygon = fl_gdf.geometry[0]\n",
    "\n",
    "# initialize a counter for the total number of vertices, feature count\n",
    "num_vertices_total = 0\n",
    "feature_count = 0\n",
    "\n",
    "# iterate over each individual polygon in the MultiPolygon\n",
    "for fl_polygon in fl_multipolygon.geoms:\n",
    "    \n",
    "    # get the number of vertices in the polygon\n",
    "    num_vertices = len(fl_polygon.exterior.coords)\n",
    "    \n",
    "    # add the number of vertices for this polygon to the total\n",
    "    num_vertices_total += num_vertices\n",
    "    feature_count += 1\n",
    "\n",
    "# print the total number of vertices\n",
    "print(f'Total number of vertices for Florida MultiPolygon: {num_vertices_total}')\n",
    "# print number of polygons in the Multi polygon feature\n",
    "print(f'Number of polygons: {feature_count}')"
   ]
  },
  {
   "cell_type": "markdown",
   "id": "55179449",
   "metadata": {},
   "source": [
    "### For NN Labels"
   ]
  },
  {
   "cell_type": "code",
   "execution_count": 14,
   "id": "71aba590",
   "metadata": {},
   "outputs": [],
   "source": [
    "vertices_list = []\n",
    "\n",
    "for fl_polygon in fl_multipolygon.geoms:\n",
    "    vertices_list.extend(list(fl_polygon.exterior.coords))"
   ]
  },
  {
   "cell_type": "code",
   "execution_count": 18,
   "id": "d6a69539",
   "metadata": {},
   "outputs": [],
   "source": [
    "import pandas as pd"
   ]
  },
  {
   "cell_type": "code",
   "execution_count": 20,
   "id": "41b1a891",
   "metadata": {},
   "outputs": [
    {
     "data": {
      "text/html": [
       "<div>\n",
       "<style scoped>\n",
       "    .dataframe tbody tr th:only-of-type {\n",
       "        vertical-align: middle;\n",
       "    }\n",
       "\n",
       "    .dataframe tbody tr th {\n",
       "        vertical-align: top;\n",
       "    }\n",
       "\n",
       "    .dataframe thead th {\n",
       "        text-align: right;\n",
       "    }\n",
       "</style>\n",
       "<table border=\"1\" class=\"dataframe\">\n",
       "  <thead>\n",
       "    <tr style=\"text-align: right;\">\n",
       "      <th></th>\n",
       "      <th>Longitude</th>\n",
       "      <th>Latitude</th>\n",
       "    </tr>\n",
       "  </thead>\n",
       "  <tbody>\n",
       "    <tr>\n",
       "      <th>0</th>\n",
       "      <td>-82.884818</td>\n",
       "      <td>24.621208</td>\n",
       "    </tr>\n",
       "    <tr>\n",
       "      <th>1</th>\n",
       "      <td>-82.886194</td>\n",
       "      <td>24.620151</td>\n",
       "    </tr>\n",
       "    <tr>\n",
       "      <th>2</th>\n",
       "      <td>-82.887223</td>\n",
       "      <td>24.620801</td>\n",
       "    </tr>\n",
       "    <tr>\n",
       "      <th>3</th>\n",
       "      <td>-82.887196</td>\n",
       "      <td>24.622216</td>\n",
       "    </tr>\n",
       "    <tr>\n",
       "      <th>4</th>\n",
       "      <td>-82.886657</td>\n",
       "      <td>24.623717</td>\n",
       "    </tr>\n",
       "    <tr>\n",
       "      <th>...</th>\n",
       "      <td>...</td>\n",
       "      <td>...</td>\n",
       "    </tr>\n",
       "    <tr>\n",
       "      <th>1087782</th>\n",
       "      <td>-80.915639</td>\n",
       "      <td>29.013240</td>\n",
       "    </tr>\n",
       "    <tr>\n",
       "      <th>1087783</th>\n",
       "      <td>-80.915565</td>\n",
       "      <td>29.013235</td>\n",
       "    </tr>\n",
       "    <tr>\n",
       "      <th>1087784</th>\n",
       "      <td>-80.915439</td>\n",
       "      <td>29.013267</td>\n",
       "    </tr>\n",
       "    <tr>\n",
       "      <th>1087785</th>\n",
       "      <td>-80.915339</td>\n",
       "      <td>29.013268</td>\n",
       "    </tr>\n",
       "    <tr>\n",
       "      <th>1087786</th>\n",
       "      <td>-80.915283</td>\n",
       "      <td>29.013191</td>\n",
       "    </tr>\n",
       "  </tbody>\n",
       "</table>\n",
       "<p>1087787 rows × 2 columns</p>\n",
       "</div>"
      ],
      "text/plain": [
       "         Longitude   Latitude\n",
       "0       -82.884818  24.621208\n",
       "1       -82.886194  24.620151\n",
       "2       -82.887223  24.620801\n",
       "3       -82.887196  24.622216\n",
       "4       -82.886657  24.623717\n",
       "...            ...        ...\n",
       "1087782 -80.915639  29.013240\n",
       "1087783 -80.915565  29.013235\n",
       "1087784 -80.915439  29.013267\n",
       "1087785 -80.915339  29.013268\n",
       "1087786 -80.915283  29.013191\n",
       "\n",
       "[1087787 rows x 2 columns]"
      ]
     },
     "execution_count": 20,
     "metadata": {},
     "output_type": "execute_result"
    }
   ],
   "source": [
    "fl_vertices_df = pd.DataFrame(vertices_list, columns = ['Longitude', 'Latitude'])\n",
    "fl_vertices_df"
   ]
  },
  {
   "cell_type": "code",
   "execution_count": 21,
   "id": "2d01b0da",
   "metadata": {},
   "outputs": [],
   "source": [
    "fl_simplified_gdf = gpd.read_file(r'Florida_0.30/Florida_0.30.shp')"
   ]
  },
  {
   "cell_type": "code",
   "execution_count": 22,
   "id": "91889e07",
   "metadata": {},
   "outputs": [],
   "source": [
    "# get the geometry of the first feature (i.e., the MultiPolygon for Florida)\n",
    "fl_multipoly_simplify = fl_simplified_gdf.geometry[0]"
   ]
  },
  {
   "cell_type": "code",
   "execution_count": 23,
   "id": "4e368d6f",
   "metadata": {},
   "outputs": [],
   "source": [
    "vertices_list_simplify = []\n",
    "\n",
    "for fl_polygon in fl_multipoly_simplify.geoms:\n",
    "    vertices_list_simplify.extend(list(fl_polygon.exterior.coords))"
   ]
  },
  {
   "cell_type": "code",
   "execution_count": 25,
   "id": "ad604229",
   "metadata": {},
   "outputs": [
    {
     "data": {
      "text/html": [
       "<div>\n",
       "<style scoped>\n",
       "    .dataframe tbody tr th:only-of-type {\n",
       "        vertical-align: middle;\n",
       "    }\n",
       "\n",
       "    .dataframe tbody tr th {\n",
       "        vertical-align: top;\n",
       "    }\n",
       "\n",
       "    .dataframe thead th {\n",
       "        text-align: right;\n",
       "    }\n",
       "</style>\n",
       "<table border=\"1\" class=\"dataframe\">\n",
       "  <thead>\n",
       "    <tr style=\"text-align: right;\">\n",
       "      <th></th>\n",
       "      <th>Longitude</th>\n",
       "      <th>Latitude</th>\n",
       "    </tr>\n",
       "  </thead>\n",
       "  <tbody>\n",
       "    <tr>\n",
       "      <th>0</th>\n",
       "      <td>-82.125002</td>\n",
       "      <td>24.597091</td>\n",
       "    </tr>\n",
       "    <tr>\n",
       "      <th>1</th>\n",
       "      <td>-82.106804</td>\n",
       "      <td>24.589948</td>\n",
       "    </tr>\n",
       "    <tr>\n",
       "      <th>2</th>\n",
       "      <td>-82.099419</td>\n",
       "      <td>24.575389</td>\n",
       "    </tr>\n",
       "    <tr>\n",
       "      <th>3</th>\n",
       "      <td>-82.105336</td>\n",
       "      <td>24.558989</td>\n",
       "    </tr>\n",
       "    <tr>\n",
       "      <th>4</th>\n",
       "      <td>-82.110735</td>\n",
       "      <td>24.559233</td>\n",
       "    </tr>\n",
       "    <tr>\n",
       "      <th>...</th>\n",
       "      <td>...</td>\n",
       "      <td>...</td>\n",
       "    </tr>\n",
       "    <tr>\n",
       "      <th>3385</th>\n",
       "      <td>-80.914467</td>\n",
       "      <td>29.056751</td>\n",
       "    </tr>\n",
       "    <tr>\n",
       "      <th>3386</th>\n",
       "      <td>-80.908516</td>\n",
       "      <td>29.046204</td>\n",
       "    </tr>\n",
       "    <tr>\n",
       "      <th>3387</th>\n",
       "      <td>-80.909045</td>\n",
       "      <td>29.033741</td>\n",
       "    </tr>\n",
       "    <tr>\n",
       "      <th>3388</th>\n",
       "      <td>-80.920265</td>\n",
       "      <td>29.028362</td>\n",
       "    </tr>\n",
       "    <tr>\n",
       "      <th>3389</th>\n",
       "      <td>-80.915283</td>\n",
       "      <td>29.013191</td>\n",
       "    </tr>\n",
       "  </tbody>\n",
       "</table>\n",
       "<p>3390 rows × 2 columns</p>\n",
       "</div>"
      ],
      "text/plain": [
       "      Longitude   Latitude\n",
       "0    -82.125002  24.597091\n",
       "1    -82.106804  24.589948\n",
       "2    -82.099419  24.575389\n",
       "3    -82.105336  24.558989\n",
       "4    -82.110735  24.559233\n",
       "...         ...        ...\n",
       "3385 -80.914467  29.056751\n",
       "3386 -80.908516  29.046204\n",
       "3387 -80.909045  29.033741\n",
       "3388 -80.920265  29.028362\n",
       "3389 -80.915283  29.013191\n",
       "\n",
       "[3390 rows x 2 columns]"
      ]
     },
     "execution_count": 25,
     "metadata": {},
     "output_type": "execute_result"
    }
   ],
   "source": [
    "fl_vertices_simplify_df = pd.DataFrame(vertices_list_simplify, columns = ['Longitude', 'Latitude'])\n",
    "fl_vertices_simplify_df"
   ]
  },
  {
   "cell_type": "code",
   "execution_count": 26,
   "id": "dcc1ff62",
   "metadata": {},
   "outputs": [],
   "source": [
    "fl_vertices_df['case'] = fl_vertices_df.apply(lambda row: 'yes' if (row['Longitude'], row['Latitude']) in set(zip(fl_vertices_simplify_df['Longitude'], fl_vertices_simplify_df['Latitude'])) else 'no', axis=1)"
   ]
  },
  {
   "cell_type": "code",
   "execution_count": 27,
   "id": "3cc3a690",
   "metadata": {},
   "outputs": [
    {
     "data": {
      "text/html": [
       "<div>\n",
       "<style scoped>\n",
       "    .dataframe tbody tr th:only-of-type {\n",
       "        vertical-align: middle;\n",
       "    }\n",
       "\n",
       "    .dataframe tbody tr th {\n",
       "        vertical-align: top;\n",
       "    }\n",
       "\n",
       "    .dataframe thead th {\n",
       "        text-align: right;\n",
       "    }\n",
       "</style>\n",
       "<table border=\"1\" class=\"dataframe\">\n",
       "  <thead>\n",
       "    <tr style=\"text-align: right;\">\n",
       "      <th></th>\n",
       "      <th>Longitude</th>\n",
       "      <th>Latitude</th>\n",
       "      <th>case</th>\n",
       "    </tr>\n",
       "  </thead>\n",
       "  <tbody>\n",
       "    <tr>\n",
       "      <th>0</th>\n",
       "      <td>-82.884818</td>\n",
       "      <td>24.621208</td>\n",
       "      <td>no</td>\n",
       "    </tr>\n",
       "    <tr>\n",
       "      <th>1</th>\n",
       "      <td>-82.886194</td>\n",
       "      <td>24.620151</td>\n",
       "      <td>no</td>\n",
       "    </tr>\n",
       "    <tr>\n",
       "      <th>2</th>\n",
       "      <td>-82.887223</td>\n",
       "      <td>24.620801</td>\n",
       "      <td>no</td>\n",
       "    </tr>\n",
       "    <tr>\n",
       "      <th>3</th>\n",
       "      <td>-82.887196</td>\n",
       "      <td>24.622216</td>\n",
       "      <td>no</td>\n",
       "    </tr>\n",
       "    <tr>\n",
       "      <th>4</th>\n",
       "      <td>-82.886657</td>\n",
       "      <td>24.623717</td>\n",
       "      <td>no</td>\n",
       "    </tr>\n",
       "    <tr>\n",
       "      <th>...</th>\n",
       "      <td>...</td>\n",
       "      <td>...</td>\n",
       "      <td>...</td>\n",
       "    </tr>\n",
       "    <tr>\n",
       "      <th>1087782</th>\n",
       "      <td>-80.915639</td>\n",
       "      <td>29.013240</td>\n",
       "      <td>no</td>\n",
       "    </tr>\n",
       "    <tr>\n",
       "      <th>1087783</th>\n",
       "      <td>-80.915565</td>\n",
       "      <td>29.013235</td>\n",
       "      <td>no</td>\n",
       "    </tr>\n",
       "    <tr>\n",
       "      <th>1087784</th>\n",
       "      <td>-80.915439</td>\n",
       "      <td>29.013267</td>\n",
       "      <td>no</td>\n",
       "    </tr>\n",
       "    <tr>\n",
       "      <th>1087785</th>\n",
       "      <td>-80.915339</td>\n",
       "      <td>29.013268</td>\n",
       "      <td>no</td>\n",
       "    </tr>\n",
       "    <tr>\n",
       "      <th>1087786</th>\n",
       "      <td>-80.915283</td>\n",
       "      <td>29.013191</td>\n",
       "      <td>yes</td>\n",
       "    </tr>\n",
       "  </tbody>\n",
       "</table>\n",
       "<p>1087787 rows × 3 columns</p>\n",
       "</div>"
      ],
      "text/plain": [
       "         Longitude   Latitude case\n",
       "0       -82.884818  24.621208   no\n",
       "1       -82.886194  24.620151   no\n",
       "2       -82.887223  24.620801   no\n",
       "3       -82.887196  24.622216   no\n",
       "4       -82.886657  24.623717   no\n",
       "...            ...        ...  ...\n",
       "1087782 -80.915639  29.013240   no\n",
       "1087783 -80.915565  29.013235   no\n",
       "1087784 -80.915439  29.013267   no\n",
       "1087785 -80.915339  29.013268   no\n",
       "1087786 -80.915283  29.013191  yes\n",
       "\n",
       "[1087787 rows x 3 columns]"
      ]
     },
     "execution_count": 27,
     "metadata": {},
     "output_type": "execute_result"
    }
   ],
   "source": [
    "fl_vertices_df"
   ]
  },
  {
   "cell_type": "code",
   "execution_count": 28,
   "id": "f78d0a22",
   "metadata": {},
   "outputs": [],
   "source": [
    "fl_vertices_df.to_csv('vertices.csv')"
   ]
  }
 ],
 "metadata": {
  "kernelspec": {
   "display_name": "Python 3 (ipykernel)",
   "language": "python",
   "name": "python3"
  },
  "language_info": {
   "codemirror_mode": {
    "name": "ipython",
    "version": 3
   },
   "file_extension": ".py",
   "mimetype": "text/x-python",
   "name": "python",
   "nbconvert_exporter": "python",
   "pygments_lexer": "ipython3",
   "version": "3.9.7"
  }
 },
 "nbformat": 4,
 "nbformat_minor": 5
}
